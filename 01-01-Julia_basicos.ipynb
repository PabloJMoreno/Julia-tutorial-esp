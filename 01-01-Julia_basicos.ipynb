{
 "cells": [
  {
   "cell_type": "markdown",
   "id": "helpful-chorus",
   "metadata": {},
   "source": [
    "# Bienvenido a este tutorial de Julia! Sintaxis básica  "
   ]
  },
  {
   "cell_type": "code",
   "execution_count": 3,
   "id": "inclusive-aggregate",
   "metadata": {},
   "outputs": [
    {
     "data": {
      "text/plain": [
       "25"
      ]
     },
     "execution_count": 3,
     "metadata": {},
     "output_type": "execute_result"
    }
   ],
   "source": [
    "mi_var = 25"
   ]
  },
  {
   "cell_type": "code",
   "execution_count": 4,
   "id": "beneficial-master",
   "metadata": {},
   "outputs": [
    {
     "data": {
      "text/plain": [
       "25"
      ]
     },
     "execution_count": 4,
     "metadata": {},
     "output_type": "execute_result"
    }
   ],
   "source": [
    "mi_var "
   ]
  },
  {
   "cell_type": "markdown",
   "id": "0cd52acc-5657-44bb-bb8d-37ebd4c930ea",
   "metadata": {},
   "source": [
    "\\:smile_cat:         # pulsar 'TAB' para autocompletar"
   ]
  },
  {
   "cell_type": "code",
   "execution_count": 2,
   "id": "handled-electron",
   "metadata": {},
   "outputs": [
    {
     "data": {
      "text/plain": [
       "\"😺\""
      ]
     },
     "execution_count": 2,
     "metadata": {},
     "output_type": "execute_result"
    }
   ],
   "source": [
    "😺  = \"😺\"     # julia funciona con unicode! "
   ]
  },
  {
   "cell_type": "code",
   "execution_count": 4,
   "id": "comic-accessory",
   "metadata": {},
   "outputs": [
    {
     "data": {
      "text/plain": [
       "\"😺\""
      ]
     },
     "execution_count": 4,
     "metadata": {},
     "output_type": "execute_result"
    }
   ],
   "source": [
    "😺 "
   ]
  },
  {
   "cell_type": "code",
   "execution_count": 5,
   "id": "higher-conversation",
   "metadata": {},
   "outputs": [
    {
     "data": {
      "text/plain": [
       "String"
      ]
     },
     "execution_count": 5,
     "metadata": {},
     "output_type": "execute_result"
    }
   ],
   "source": [
    "typeof(😺) # averiguar el tipo de variable"
   ]
  },
  {
   "cell_type": "code",
   "execution_count": 6,
   "id": "professional-duration",
   "metadata": {},
   "outputs": [
    {
     "data": {
      "text/plain": [
       "Char"
      ]
     },
     "execution_count": 6,
     "metadata": {},
     "output_type": "execute_result"
    }
   ],
   "source": [
    "typeof('a')"
   ]
  },
  {
   "cell_type": "code",
   "execution_count": 7,
   "id": "vocal-constraint",
   "metadata": {},
   "outputs": [
    {
     "data": {
      "text/plain": [
       "String"
      ]
     },
     "execution_count": 7,
     "metadata": {},
     "output_type": "execute_result"
    }
   ],
   "source": [
    "typeof(\"a\")"
   ]
  },
  {
   "cell_type": "code",
   "execution_count": 8,
   "id": "linear-congress",
   "metadata": {},
   "outputs": [
    {
     "data": {
      "text/plain": [
       "2.5"
      ]
     },
     "execution_count": 8,
     "metadata": {},
     "output_type": "execute_result"
    }
   ],
   "source": [
    "σ = 2.5        # \\sigma y pulsar 'TAB', Julia permite notacion matemática "
   ]
  },
  {
   "cell_type": "code",
   "execution_count": 9,
   "id": "clean-madison",
   "metadata": {},
   "outputs": [
    {
     "data": {
      "text/plain": [
       "2.5"
      ]
     },
     "execution_count": 9,
     "metadata": {},
     "output_type": "execute_result"
    }
   ],
   "source": [
    "sqrt(σ^2)"
   ]
  },
  {
   "cell_type": "code",
   "execution_count": 10,
   "id": "miniature-tactics",
   "metadata": {},
   "outputs": [
    {
     "name": "stdout",
     "output_type": "stream",
     "text": [
      "σ = 2.5\n"
     ]
    }
   ],
   "source": [
    "println(\"σ = \", σ)"
   ]
  },
  {
   "cell_type": "code",
   "execution_count": 11,
   "id": "tight-guinea",
   "metadata": {},
   "outputs": [
    {
     "name": "stdout",
     "output_type": "stream",
     "text": [
      "search: \u001b[0m\u001b[1mp\u001b[22m\u001b[0m\u001b[1mr\u001b[22m\u001b[0m\u001b[1mi\u001b[22m\u001b[0m\u001b[1mn\u001b[22m\u001b[0m\u001b[1mt\u001b[22m\u001b[0m\u001b[1ml\u001b[22m\u001b[0m\u001b[1mn\u001b[22m \u001b[0m\u001b[1mp\u001b[22m\u001b[0m\u001b[1mr\u001b[22m\u001b[0m\u001b[1mi\u001b[22m\u001b[0m\u001b[1mn\u001b[22m\u001b[0m\u001b[1mt\u001b[22msty\u001b[0m\u001b[1ml\u001b[22med \u001b[0m\u001b[1mp\u001b[22m\u001b[0m\u001b[1mr\u001b[22m\u001b[0m\u001b[1mi\u001b[22m\u001b[0m\u001b[1mn\u001b[22m\u001b[0m\u001b[1mt\u001b[22m s\u001b[0m\u001b[1mp\u001b[22m\u001b[0m\u001b[1mr\u001b[22m\u001b[0m\u001b[1mi\u001b[22m\u001b[0m\u001b[1mn\u001b[22m\u001b[0m\u001b[1mt\u001b[22m is\u001b[0m\u001b[1mp\u001b[22m\u001b[0m\u001b[1mr\u001b[22m\u001b[0m\u001b[1mi\u001b[22m\u001b[0m\u001b[1mn\u001b[22m\u001b[0m\u001b[1mt\u001b[22m\n",
      "\n"
     ]
    },
    {
     "data": {
      "text/latex": [
       "\\begin{verbatim}\n",
       "println([io::IO], xs...)\n",
       "\\end{verbatim}\n",
       "Print (using \\href{@ref}{\\texttt{print}}) \\texttt{xs} followed by a newline. If \\texttt{io} is not supplied, prints to \\href{@ref}{\\texttt{stdout}}.\n",
       "\n",
       "\\section{Examples}\n",
       "\\begin{verbatim}\n",
       "julia> println(\"Hello, world\")\n",
       "Hello, world\n",
       "\n",
       "julia> io = IOBuffer();\n",
       "\n",
       "julia> println(io, \"Hello, world\")\n",
       "\n",
       "julia> String(take!(io))\n",
       "\"Hello, world\\n\"\n",
       "\\end{verbatim}\n"
      ],
      "text/markdown": [
       "```\n",
       "println([io::IO], xs...)\n",
       "```\n",
       "\n",
       "Print (using [`print`](@ref)) `xs` followed by a newline. If `io` is not supplied, prints to [`stdout`](@ref).\n",
       "\n",
       "# Examples\n",
       "\n",
       "```jldoctest\n",
       "julia> println(\"Hello, world\")\n",
       "Hello, world\n",
       "\n",
       "julia> io = IOBuffer();\n",
       "\n",
       "julia> println(io, \"Hello, world\")\n",
       "\n",
       "julia> String(take!(io))\n",
       "\"Hello, world\\n\"\n",
       "```\n"
      ],
      "text/plain": [
       "\u001b[36m  println([io::IO], xs...)\u001b[39m\n",
       "\n",
       "  Print (using \u001b[36mprint\u001b[39m) \u001b[36mxs\u001b[39m followed by a newline. If \u001b[36mio\u001b[39m is not supplied, prints\n",
       "  to \u001b[36mstdout\u001b[39m.\n",
       "\n",
       "\u001b[1m  Examples\u001b[22m\n",
       "\u001b[1m  ≡≡≡≡≡≡≡≡≡≡\u001b[22m\n",
       "\n",
       "\u001b[36m  julia> println(\"Hello, world\")\u001b[39m\n",
       "\u001b[36m  Hello, world\u001b[39m\n",
       "\u001b[36m  \u001b[39m\n",
       "\u001b[36m  julia> io = IOBuffer();\u001b[39m\n",
       "\u001b[36m  \u001b[39m\n",
       "\u001b[36m  julia> println(io, \"Hello, world\")\u001b[39m\n",
       "\u001b[36m  \u001b[39m\n",
       "\u001b[36m  julia> String(take!(io))\u001b[39m\n",
       "\u001b[36m  \"Hello, world\\n\"\u001b[39m"
      ]
     },
     "execution_count": 11,
     "metadata": {},
     "output_type": "execute_result"
    }
   ],
   "source": [
    "? println # ayuda"
   ]
  },
  {
   "cell_type": "code",
   "execution_count": 6,
   "id": "trained-bride",
   "metadata": {},
   "outputs": [
    {
     "data": {
      "text/plain": [
       "Int64"
      ]
     },
     "execution_count": 6,
     "metadata": {},
     "output_type": "execute_result"
    }
   ],
   "source": [
    "respuesta = 42\n",
    "typeof(respuesta)"
   ]
  },
  {
   "cell_type": "code",
   "execution_count": 13,
   "id": "instructional-fruit",
   "metadata": {},
   "outputs": [
    {
     "data": {
      "text/plain": [
       "Float64"
      ]
     },
     "execution_count": 13,
     "metadata": {},
     "output_type": "execute_result"
    }
   ],
   "source": [
    "e = 3.141\n",
    "typeof(e)"
   ]
  },
  {
   "cell_type": "code",
   "execution_count": 14,
   "id": "exotic-bulletin",
   "metadata": {},
   "outputs": [
    {
     "data": {
      "text/plain": [
       "(10, 20)"
      ]
     },
     "execution_count": 14,
     "metadata": {},
     "output_type": "execute_result"
    }
   ],
   "source": [
    "a, b = 10, 20"
   ]
  },
  {
   "cell_type": "code",
   "execution_count": 15,
   "id": "floating-gallery",
   "metadata": {},
   "outputs": [
    {
     "name": "stdout",
     "output_type": "stream",
     "text": [
      "10\n",
      "20\n"
     ]
    }
   ],
   "source": [
    "println(a)\n",
    "println(b)"
   ]
  },
  {
   "cell_type": "code",
   "execution_count": 16,
   "id": "representative-chick",
   "metadata": {},
   "outputs": [
    {
     "data": {
      "text/plain": [
       "4"
      ]
     },
     "execution_count": 16,
     "metadata": {},
     "output_type": "execute_result"
    }
   ],
   "source": [
    ":4          # literal type "
   ]
  },
  {
   "cell_type": "code",
   "execution_count": 17,
   "id": "possible-wrong",
   "metadata": {},
   "outputs": [
    {
     "data": {
      "text/plain": [
       "Int64"
      ]
     },
     "execution_count": 17,
     "metadata": {},
     "output_type": "execute_result"
    }
   ],
   "source": [
    "typeof(:4)"
   ]
  },
  {
   "cell_type": "code",
   "execution_count": 23,
   "id": "crazy-steam",
   "metadata": {},
   "outputs": [
    {
     "data": {
      "text/plain": [
       ":best"
      ]
     },
     "execution_count": 23,
     "metadata": {},
     "output_type": "execute_result"
    }
   ],
   "source": [
    ":best"
   ]
  },
  {
   "cell_type": "code",
   "execution_count": 19,
   "id": "express-failing",
   "metadata": {},
   "outputs": [
    {
     "data": {
      "text/plain": [
       "Symbol"
      ]
     },
     "execution_count": 19,
     "metadata": {},
     "output_type": "execute_result"
    }
   ],
   "source": [
    "typeof(:b)"
   ]
  },
  {
   "cell_type": "code",
   "execution_count": 20,
   "id": "cordless-parts",
   "metadata": {},
   "outputs": [
    {
     "name": "stdout",
     "output_type": "stream",
     "text": [
      "20\n"
     ]
    }
   ],
   "source": [
    "println(b)"
   ]
  },
  {
   "cell_type": "markdown",
   "id": "institutional-footwear",
   "metadata": {},
   "source": [
    "## Aritmetica Básica  "
   ]
  },
  {
   "cell_type": "code",
   "execution_count": 7,
   "id": "adaptive-toddler",
   "metadata": {},
   "outputs": [
    {
     "name": "stdout",
     "output_type": "stream",
     "text": [
      "82120.62\n"
     ]
    }
   ],
   "source": [
    "println(3+5, 3-1, 3*4, 3/5, 6%4)      # no es lo que esperabas"
   ]
  },
  {
   "cell_type": "code",
   "execution_count": 27,
   "id": "planned-dictionary",
   "metadata": {},
   "outputs": [
    {
     "name": "stdout",
     "output_type": "stream",
     "text": [
      "ab\n"
     ]
    }
   ],
   "source": [
    "println(\"a\", \"b\")"
   ]
  },
  {
   "cell_type": "code",
   "execution_count": 8,
   "id": "aggressive-keeping",
   "metadata": {},
   "outputs": [
    {
     "name": "stdout",
     "output_type": "stream",
     "text": [
      "[8.0, 2.0, 12.0, 0.6, 2.0]\n"
     ]
    }
   ],
   "source": [
    "println([ 3+5, 3-1, 3*4, 3/5, 6%4 ])     # en Julia todo son arrays (vectores en Python)"
   ]
  },
  {
   "cell_type": "code",
   "execution_count": 29,
   "id": "starting-logistics",
   "metadata": {},
   "outputs": [
    {
     "data": {
      "text/plain": [
       "Array{Float64,1}"
      ]
     },
     "execution_count": 29,
     "metadata": {},
     "output_type": "execute_result"
    }
   ],
   "source": [
    "typeof([1, 2, 4.0])     # todo se convierte a Float64 "
   ]
  },
  {
   "cell_type": "code",
   "execution_count": 9,
   "id": "herbal-morris",
   "metadata": {},
   "outputs": [
    {
     "name": "stdout",
     "output_type": "stream",
     "text": [
      "ab"
     ]
    }
   ],
   "source": [
    "print(\"a\")\n",
    "print(\"b\")   # no se agrega una nueva linea"
   ]
  },
  {
   "cell_type": "code",
   "execution_count": 10,
   "id": "compatible-smell",
   "metadata": {},
   "outputs": [
    {
     "data": {
      "text/plain": [
       "2//1"
      ]
     },
     "execution_count": 10,
     "metadata": {},
     "output_type": "execute_result"
    }
   ],
   "source": [
    "4//2    # se pueden construir fracciones o numeros racionales"
   ]
  },
  {
   "cell_type": "code",
   "execution_count": 32,
   "id": "advised-synthesis",
   "metadata": {},
   "outputs": [
    {
     "data": {
      "text/plain": [
       "9//2"
      ]
     },
     "execution_count": 32,
     "metadata": {},
     "output_type": "execute_result"
    }
   ],
   "source": [
    "5//2 + 4//2 "
   ]
  },
  {
   "cell_type": "code",
   "execution_count": 33,
   "id": "smaller-complaint",
   "metadata": {},
   "outputs": [
    {
     "data": {
      "text/plain": [
       "1"
      ]
     },
     "execution_count": 33,
     "metadata": {},
     "output_type": "execute_result"
    }
   ],
   "source": [
    "convert(Int64, 1)  "
   ]
  },
  {
   "cell_type": "code",
   "execution_count": 34,
   "id": "historic-somewhere",
   "metadata": {},
   "outputs": [
    {
     "data": {
      "text/plain": [
       "1.0"
      ]
     },
     "execution_count": 34,
     "metadata": {},
     "output_type": "execute_result"
    }
   ],
   "source": [
    "convert(Float64, 1)  "
   ]
  },
  {
   "cell_type": "code",
   "execution_count": 35,
   "id": "assigned-hygiene",
   "metadata": {},
   "outputs": [
    {
     "ename": "LoadError",
     "evalue": "InexactError: Int64(1.3)",
     "output_type": "error",
     "traceback": [
      "InexactError: Int64(1.3)",
      "",
      "Stacktrace:",
      " [1] Int64 at ./float.jl:710 [inlined]",
      " [2] convert(::Type{Int64}, ::Float64) at ./number.jl:7",
      " [3] top-level scope at In[35]:1",
      " [4] include_string(::Function, ::Module, ::String, ::String) at ./loading.jl:1091"
     ]
    }
   ],
   "source": [
    "convert(Int64, 1.3)  "
   ]
  },
  {
   "cell_type": "markdown",
   "id": "coordinated-elimination",
   "metadata": {},
   "source": [
    "## Booleans "
   ]
  },
  {
   "cell_type": "code",
   "execution_count": 11,
   "id": "blank-formation",
   "metadata": {},
   "outputs": [],
   "source": [
    "val_t = true \n",
    "val_f = false;       # el ; al final elimina la salida"
   ]
  },
  {
   "cell_type": "code",
   "execution_count": 37,
   "id": "eligible-combining",
   "metadata": {},
   "outputs": [
    {
     "data": {
      "text/plain": [
       "false"
      ]
     },
     "execution_count": 37,
     "metadata": {},
     "output_type": "execute_result"
    }
   ],
   "source": [
    "val_t && val_f"
   ]
  },
  {
   "cell_type": "code",
   "execution_count": 38,
   "id": "compressed-macro",
   "metadata": {},
   "outputs": [
    {
     "data": {
      "text/plain": [
       "true"
      ]
     },
     "execution_count": 38,
     "metadata": {},
     "output_type": "execute_result"
    }
   ],
   "source": [
    "val_t || val_f"
   ]
  },
  {
   "cell_type": "code",
   "execution_count": 39,
   "id": "danish-lesson",
   "metadata": {},
   "outputs": [
    {
     "data": {
      "text/plain": [
       "false"
      ]
     },
     "execution_count": 39,
     "metadata": {},
     "output_type": "execute_result"
    }
   ],
   "source": [
    "!val_t"
   ]
  },
  {
   "cell_type": "code",
   "execution_count": null,
   "id": "enhanced-acrylic",
   "metadata": {},
   "outputs": [],
   "source": []
  },
  {
   "cell_type": "markdown",
   "id": "obvious-logging",
   "metadata": {},
   "source": [
    "## String"
   ]
  },
  {
   "cell_type": "code",
   "execution_count": 12,
   "id": "arctic-crime",
   "metadata": {},
   "outputs": [
    {
     "name": "stdout",
     "output_type": "stream",
     "text": [
      "El nombre del cliente es John y su edad es de 35.\n"
     ]
    }
   ],
   "source": [
    "nombre = \"John\"\n",
    "edad = 35\n",
    "println(\"El nombre del cliente es $(nombre) y su edad es de $(edad).\")"
   ]
  },
  {
   "cell_type": "code",
   "execution_count": 15,
   "id": "american-stamp",
   "metadata": {},
   "outputs": [
    {
     "data": {
      "text/plain": [
       "\"Blossom\""
      ]
     },
     "execution_count": 15,
     "metadata": {},
     "output_type": "execute_result"
    }
   ],
   "source": [
    "s1 = \"Awesome\" \n",
    "s2 = \"Blossom\" "
   ]
  },
  {
   "cell_type": "code",
   "execution_count": 42,
   "id": "reduced-employer",
   "metadata": {},
   "outputs": [
    {
     "data": {
      "text/plain": [
       "\"AwesomeBlossom\""
      ]
     },
     "execution_count": 42,
     "metadata": {},
     "output_type": "execute_result"
    }
   ],
   "source": [
    "s1 * s2"
   ]
  },
  {
   "cell_type": "code",
   "execution_count": 43,
   "id": "modified-tokyo",
   "metadata": {},
   "outputs": [
    {
     "data": {
      "text/plain": [
       "\"Awesome Blossom\""
      ]
     },
     "execution_count": 43,
     "metadata": {},
     "output_type": "execute_result"
    }
   ],
   "source": [
    "join([s1, s2], \" \")"
   ]
  },
  {
   "cell_type": "code",
   "execution_count": 13,
   "id": "parliamentary-oklahoma",
   "metadata": {},
   "outputs": [
    {
     "data": {
      "text/plain": [
       "\"a b c d\""
      ]
     },
     "execution_count": 13,
     "metadata": {},
     "output_type": "execute_result"
    }
   ],
   "source": [
    "alfabeto = ['a', 'b', 'c', 'd']\n",
    "join(alfabeto, ' ')"
   ]
  },
  {
   "cell_type": "code",
   "execution_count": 16,
   "id": "passing-tradition",
   "metadata": {},
   "outputs": [
    {
     "data": {
      "text/plain": [
       "\"AwesomeAwesomeAwesome\""
      ]
     },
     "execution_count": 16,
     "metadata": {},
     "output_type": "execute_result"
    }
   ],
   "source": [
    "s1 ^ 3  # multiplicar strings"
   ]
  }
 ],
 "metadata": {
  "kernelspec": {
   "display_name": "Julia 1.8.4",
   "language": "julia",
   "name": "julia-1.8"
  },
  "language_info": {
   "file_extension": ".jl",
   "mimetype": "application/julia",
   "name": "julia",
   "version": "1.8.4"
  }
 },
 "nbformat": 4,
 "nbformat_minor": 5
}
