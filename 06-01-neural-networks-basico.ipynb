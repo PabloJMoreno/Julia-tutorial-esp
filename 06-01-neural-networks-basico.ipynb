{
 "cells": [
  {
   "cell_type": "markdown",
   "id": "neutral-endorsement",
   "metadata": {},
   "source": [
    "# Neural Networks con Flux "
   ]
  },
  {
   "cell_type": "markdown",
   "id": "communist-parcel",
   "metadata": {},
   "source": [
    "Flux es un paquete muy importante en Julia para machine learning.\n",
    "Dispone de la velocidad de TensorFlow y una interfaz simple como Keras."
   ]
  },
  {
   "cell_type": "markdown",
   "id": "liked-number",
   "metadata": {},
   "source": [
    "You can read more about it here: https://fluxml.ai/Flux.jl/stable/ "
   ]
  },
  {
   "cell_type": "code",
   "execution_count": 1,
   "id": "governing-neutral",
   "metadata": {},
   "outputs": [],
   "source": [
    "# ] add Flux"
   ]
  },
  {
   "cell_type": "code",
   "execution_count": 2,
   "id": "advanced-canadian",
   "metadata": {},
   "outputs": [],
   "source": [
    "using Flux "
   ]
  },
  {
   "cell_type": "markdown",
   "id": "anticipated-asset",
   "metadata": {},
   "source": [
    "## Elementos matemáticos (Core) de Flux "
   ]
  },
  {
   "cell_type": "code",
   "execution_count": 3,
   "id": "greatest-stone",
   "metadata": {},
   "outputs": [],
   "source": [
    "f(x) = 3x^2 + 2x + 1;      # gradiente 6x+2"
   ]
  },
  {
   "cell_type": "code",
   "execution_count": 4,
   "id": "compound-internship",
   "metadata": {},
   "outputs": [
    {
     "data": {
      "text/plain": [
       "(14.0,)"
      ]
     },
     "execution_count": 4,
     "metadata": {},
     "output_type": "execute_result"
    }
   ],
   "source": [
    "gradient(f, 2)"
   ]
  },
  {
   "cell_type": "code",
   "execution_count": 5,
   "id": "guided-wildlife",
   "metadata": {},
   "outputs": [],
   "source": [
    "df(x) = gradient(f, x)[1];"
   ]
  },
  {
   "cell_type": "code",
   "execution_count": 6,
   "id": "handy-modern",
   "metadata": {},
   "outputs": [
    {
     "data": {
      "text/plain": [
       "14.0"
      ]
     },
     "execution_count": 6,
     "metadata": {},
     "output_type": "execute_result"
    }
   ],
   "source": [
    "df(2)"
   ]
  },
  {
   "cell_type": "markdown",
   "id": "connected-fiber",
   "metadata": {},
   "source": [
    "## Multiples Parametros para Funciones "
   ]
  },
  {
   "cell_type": "code",
   "execution_count": 7,
   "id": "portable-wagon",
   "metadata": {},
   "outputs": [],
   "source": [
    "f(x, y) = sum((x .- y) .^ 2);        # lo pasamos como vectores "
   ]
  },
  {
   "cell_type": "code",
   "execution_count": 8,
   "id": "c20f10b4",
   "metadata": {},
   "outputs": [],
   "source": [
    "w = [2, 1];\n",
    "b = [2, 0]; "
   ]
  },
  {
   "cell_type": "code",
   "execution_count": 9,
   "id": "cleared-aging",
   "metadata": {},
   "outputs": [
    {
     "data": {
      "text/plain": [
       "([0.0, 2.0], [-0.0, -2.0])"
      ]
     },
     "execution_count": 9,
     "metadata": {},
     "output_type": "execute_result"
    }
   ],
   "source": [
    "gradient(f, w, b)                    # se necesitan 2 vectores "
   ]
  },
  {
   "cell_type": "code",
   "execution_count": 10,
   "id": "animal-garbage",
   "metadata": {},
   "outputs": [
    {
     "ename": "LoadError",
     "evalue": "UndefVarError: params not defined",
     "output_type": "error",
     "traceback": [
      "UndefVarError: params not defined",
      "",
      "Stacktrace:",
      " [1] top-level scope",
      "   @ In[10]:1"
     ]
    }
   ],
   "source": [
    "gs = gradient(params(w, b)) do       # calcular el gradiente de estos 2 parametros\n",
    "         f(w, b)                     \n",
    "     end"
   ]
  },
  {
   "cell_type": "code",
   "execution_count": 11,
   "id": "mechanical-enhancement",
   "metadata": {},
   "outputs": [
    {
     "ename": "LoadError",
     "evalue": "UndefVarError: gs not defined",
     "output_type": "error",
     "traceback": [
      "UndefVarError: gs not defined",
      "",
      "Stacktrace:",
      " [1] top-level scope",
      "   @ In[11]:1"
     ]
    }
   ],
   "source": [
    "gs.grads"
   ]
  },
  {
   "cell_type": "code",
   "execution_count": 12,
   "id": "consecutive-parliament",
   "metadata": {},
   "outputs": [
    {
     "ename": "LoadError",
     "evalue": "UndefVarError: gs not defined",
     "output_type": "error",
     "traceback": [
      "UndefVarError: gs not defined",
      "",
      "Stacktrace:",
      " [1] top-level scope",
      "   @ In[12]:1"
     ]
    }
   ],
   "source": [
    "gs[w]"
   ]
  },
  {
   "cell_type": "code",
   "execution_count": 13,
   "id": "authentic-latvia",
   "metadata": {},
   "outputs": [
    {
     "ename": "LoadError",
     "evalue": "UndefVarError: gs not defined",
     "output_type": "error",
     "traceback": [
      "UndefVarError: gs not defined",
      "",
      "Stacktrace:",
      " [1] top-level scope",
      "   @ In[13]:1"
     ]
    }
   ],
   "source": [
    "gs[b]"
   ]
  },
  {
   "cell_type": "markdown",
   "id": "through-intensity",
   "metadata": {},
   "source": [
    "## Modelado basico con Flux "
   ]
  },
  {
   "cell_type": "code",
   "execution_count": 14,
   "id": "engaging-rhythm",
   "metadata": {},
   "outputs": [
    {
     "data": {
      "text/plain": [
       "2-element Vector{Float64}:\n",
       " 0.8017014556797041\n",
       " 0.05739906395553884"
      ]
     },
     "execution_count": 14,
     "metadata": {},
     "output_type": "execute_result"
    }
   ],
   "source": [
    "W = rand(2, 5)         # Weights\n",
    "b = rand(2)            # biases "
   ]
  },
  {
   "cell_type": "code",
   "execution_count": 15,
   "id": "honest-antenna",
   "metadata": {},
   "outputs": [
    {
     "data": {
      "text/plain": [
       "predict (generic function with 1 method)"
      ]
     },
     "execution_count": 15,
     "metadata": {},
     "output_type": "execute_result"
    }
   ],
   "source": [
    "predict(x) = W*x .+ b      # forward pass"
   ]
  },
  {
   "cell_type": "code",
   "execution_count": 16,
   "id": "thermal-intensity",
   "metadata": {},
   "outputs": [
    {
     "data": {
      "text/plain": [
       "loss (generic function with 1 method)"
      ]
     },
     "execution_count": 16,
     "metadata": {},
     "output_type": "execute_result"
    }
   ],
   "source": [
    "function loss(x, y)\n",
    "  ŷ = predict(x)           # escrito como y\\hat [tab]\n",
    "  sum((y .- ŷ).^2)\n",
    "end"
   ]
  },
  {
   "cell_type": "code",
   "execution_count": 17,
   "id": "hidden-degree",
   "metadata": {},
   "outputs": [
    {
     "data": {
      "text/plain": [
       "([0.19277366139550767, 0.4034014117401761, 0.7671113314410825, 0.9151545728965353, 0.9033253348056207], [0.39727160448667886, 0.15558694438897425])"
      ]
     },
     "execution_count": 17,
     "metadata": {},
     "output_type": "execute_result"
    }
   ],
   "source": [
    "x, y = rand(5), rand(2) # Dummy data"
   ]
  },
  {
   "cell_type": "code",
   "execution_count": 18,
   "id": "stunning-compression",
   "metadata": {},
   "outputs": [
    {
     "data": {
      "text/plain": [
       "6.194740984414782"
      ]
     },
     "execution_count": 18,
     "metadata": {},
     "output_type": "execute_result"
    }
   ],
   "source": [
    "loss(x, y)       "
   ]
  },
  {
   "cell_type": "code",
   "execution_count": 19,
   "id": "altered-bhutan",
   "metadata": {},
   "outputs": [
    {
     "ename": "LoadError",
     "evalue": "UndefVarError: params not defined",
     "output_type": "error",
     "traceback": [
      "UndefVarError: params not defined",
      "",
      "Stacktrace:",
      " [1] top-level scope",
      "   @ In[19]:1"
     ]
    }
   ],
   "source": [
    "gs = gradient(params(W, b)) do       \n",
    "        loss(x, y)                  \n",
    "     end "
   ]
  },
  {
   "cell_type": "code",
   "execution_count": 20,
   "id": "sustained-hardwood",
   "metadata": {},
   "outputs": [
    {
     "ename": "LoadError",
     "evalue": "UndefVarError: params not defined",
     "output_type": "error",
     "traceback": [
      "UndefVarError: params not defined",
      "",
      "Stacktrace:",
      " [1] top-level scope",
      "   @ In[20]:2"
     ]
    }
   ],
   "source": [
    "# Tambien se puede escribir asi:  \n",
    "gs = gradient(() -> loss(x, y), params(W, b))"
   ]
  },
  {
   "cell_type": "code",
   "execution_count": 21,
   "id": "better-laser",
   "metadata": {},
   "outputs": [
    {
     "ename": "LoadError",
     "evalue": "UndefVarError: gs not defined",
     "output_type": "error",
     "traceback": [
      "UndefVarError: gs not defined",
      "",
      "Stacktrace:",
      " [1] top-level scope",
      "   @ In[21]:1"
     ]
    }
   ],
   "source": [
    "gs.grads"
   ]
  },
  {
   "cell_type": "code",
   "execution_count": 22,
   "id": "technological-integer",
   "metadata": {},
   "outputs": [
    {
     "ename": "LoadError",
     "evalue": "UndefVarError: gs not defined",
     "output_type": "error",
     "traceback": [
      "UndefVarError: gs not defined",
      "",
      "Stacktrace:",
      " [1] top-level scope",
      "   @ In[22]:1"
     ]
    }
   ],
   "source": [
    "W̄ = gs[W]               # \\bar "
   ]
  },
  {
   "cell_type": "code",
   "execution_count": 23,
   "id": "crazy-symbol",
   "metadata": {},
   "outputs": [],
   "source": [
    "# Actualicemos los weights y biases con gradientes"
   ]
  },
  {
   "cell_type": "code",
   "execution_count": 24,
   "id": "awful-disabled",
   "metadata": {},
   "outputs": [
    {
     "ename": "LoadError",
     "evalue": "UndefVarError: W̄ not defined",
     "output_type": "error",
     "traceback": [
      "UndefVarError: W̄ not defined",
      "",
      "Stacktrace:",
      " [1] top-level scope",
      "   @ In[24]:1"
     ]
    }
   ],
   "source": [
    "W .-= 0.1 .* W̄"
   ]
  },
  {
   "cell_type": "code",
   "execution_count": 25,
   "id": "developing-breakdown",
   "metadata": {},
   "outputs": [
    {
     "data": {
      "text/plain": [
       "6.194740984414782"
      ]
     },
     "execution_count": 25,
     "metadata": {},
     "output_type": "execute_result"
    }
   ],
   "source": [
    "loss(x, y)     # la pérdida disminuye"
   ]
  },
  {
   "cell_type": "code",
   "execution_count": 26,
   "id": "analyzed-fabric",
   "metadata": {},
   "outputs": [
    {
     "ename": "LoadError",
     "evalue": "UndefVarError: gs not defined",
     "output_type": "error",
     "traceback": [
      "UndefVarError: gs not defined",
      "",
      "Stacktrace:",
      " [1] top-level scope",
      "   @ In[26]:2"
     ]
    }
   ],
   "source": [
    "# se puede actualizar el bias\n",
    "b̄ = gs[b]\n",
    "b .-= 0.1 .* b̄"
   ]
  },
  {
   "cell_type": "code",
   "execution_count": 27,
   "id": "rural-cinema",
   "metadata": {},
   "outputs": [
    {
     "data": {
      "text/plain": [
       "6.194740984414782"
      ]
     },
     "execution_count": 27,
     "metadata": {},
     "output_type": "execute_result"
    }
   ],
   "source": [
    "loss(x, y)     # aun mejor"
   ]
  },
  {
   "cell_type": "markdown",
   "id": "blind-validity",
   "metadata": {},
   "source": [
    "Esto fue una manera sencilla de construir una red neuronal de 1 capa (o perceptron). Es como TensorFlow pero sin todo el codigo necesario. Vamos a agregar más capas."
   ]
  },
  {
   "cell_type": "code",
   "execution_count": 28,
   "id": "white-baker",
   "metadata": {},
   "outputs": [
    {
     "data": {
      "text/plain": [
       "4.857633786918436"
      ]
     },
     "execution_count": 28,
     "metadata": {},
     "output_type": "execute_result"
    }
   ],
   "source": [
    "W = rand(2, 5)         # Weights\n",
    "b = rand(2)            # biases \n",
    "\n",
    "predict(x) = W*x .+ b  \n",
    "\n",
    "function loss(x, y)\n",
    "  ŷ = predict(x)           # y\\hat [tab]\n",
    "  sum((y .- ŷ).^2)\n",
    "end\n",
    "\n",
    "x, y = rand(5), rand(2) # Dummy data\n",
    "loss(x, y) "
   ]
  },
  {
   "cell_type": "code",
   "execution_count": 29,
   "id": "valued-enlargement",
   "metadata": {},
   "outputs": [
    {
     "ename": "LoadError",
     "evalue": "UndefVarError: params not defined",
     "output_type": "error",
     "traceback": [
      "UndefVarError: params not defined",
      "",
      "Stacktrace:",
      " [1] top-level scope",
      "   @ In[29]:1"
     ]
    }
   ],
   "source": [
    "gs = gradient(() -> loss(x, y), params(W, b))\n",
    "W̄ = gs[W] \n",
    "W .-= 0.1 .* W̄\n",
    "\n",
    "b̄ = gs[b]\n",
    "\n",
    "b .-= 0.1 .* b̄\n",
    "loss(x, y) "
   ]
  },
  {
   "cell_type": "code",
   "execution_count": null,
   "id": "prime-figure",
   "metadata": {},
   "outputs": [],
   "source": []
  }
 ],
 "metadata": {
  "kernelspec": {
   "display_name": "Julia 1.8.4",
   "language": "julia",
   "name": "julia-1.8"
  },
  "language_info": {
   "file_extension": ".jl",
   "mimetype": "application/julia",
   "name": "julia",
   "version": "1.8.4"
  },
  "varInspector": {
   "cols": {
    "lenName": 16,
    "lenType": 16,
    "lenVar": 40
   },
   "kernels_config": {
    "python": {
     "delete_cmd_postfix": "",
     "delete_cmd_prefix": "del ",
     "library": "var_list.py",
     "varRefreshCmd": "print(var_dic_list())"
    },
    "r": {
     "delete_cmd_postfix": ") ",
     "delete_cmd_prefix": "rm(",
     "library": "var_list.r",
     "varRefreshCmd": "cat(var_dic_list()) "
    }
   },
   "types_to_exclude": [
    "module",
    "function",
    "builtin_function_or_method",
    "instance",
    "_Feature"
   ],
   "window_display": false
  }
 },
 "nbformat": 4,
 "nbformat_minor": 5
}
