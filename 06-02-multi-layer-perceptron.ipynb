{
 "cells": [
  {
   "cell_type": "markdown",
   "id": "alert-piece",
   "metadata": {},
   "source": [
    "# Multi-Layer Perceptrons "
   ]
  },
  {
   "cell_type": "code",
   "execution_count": 1,
   "id": "studied-editing",
   "metadata": {},
   "outputs": [],
   "source": [
    "using Flux"
   ]
  },
  {
   "cell_type": "code",
   "execution_count": 2,
   "id": "earned-yield",
   "metadata": {},
   "outputs": [
    {
     "data": {
      "text/plain": [
       "layer1 (generic function with 1 method)"
      ]
     },
     "execution_count": 2,
     "metadata": {},
     "output_type": "execute_result"
    }
   ],
   "source": [
    "# Layer 1: weights, bias y forward pass \n",
    "\n",
    "W1 = rand(3, 5)           # 3 nodos, 5 valores de entrada en cada nodo \n",
    "b1 = rand(3)              # cada nodo tiene su propio bias term \n",
    "\n",
    "layer1(x) = W1 * x .+ b1"
   ]
  },
  {
   "cell_type": "code",
   "execution_count": 3,
   "id": "closed-london",
   "metadata": {},
   "outputs": [
    {
     "data": {
      "text/plain": [
       "(0.5, 0.7310585786300049, 0.2689414213699951)"
      ]
     },
     "execution_count": 3,
     "metadata": {},
     "output_type": "execute_result"
    }
   ],
   "source": [
    "σ(0), σ(1), σ(-1)   # sigmoid function, solo para demo "
   ]
  },
  {
   "cell_type": "code",
   "execution_count": 4,
   "id": "patient-cornell",
   "metadata": {},
   "outputs": [
    {
     "data": {
      "text/plain": [
       "l1 (generic function with 1 method)"
      ]
     },
     "execution_count": 4,
     "metadata": {},
     "output_type": "execute_result"
    }
   ],
   "source": [
    "# activacion de layer 1 \n",
    "l1(x) = σ.(layer1(x))"
   ]
  },
  {
   "cell_type": "code",
   "execution_count": 5,
   "id": "suitable-candle",
   "metadata": {},
   "outputs": [
    {
     "data": {
      "text/plain": [
       "layer2 (generic function with 1 method)"
      ]
     },
     "execution_count": 5,
     "metadata": {},
     "output_type": "execute_result"
    }
   ],
   "source": [
    "# Layer 2\n",
    "W2 = rand(2, 3)            # 2 nodos, 3 valores de entrada en cada nodo (porque L1 tiene 3)\n",
    "b2 = rand(2) \n",
    "\n",
    "layer2(x) = W2 * x .+ b2"
   ]
  },
  {
   "cell_type": "code",
   "execution_count": 6,
   "id": "absolute-robertson",
   "metadata": {},
   "outputs": [
    {
     "data": {
      "text/plain": [
       "model (generic function with 1 method)"
      ]
     },
     "execution_count": 6,
     "metadata": {},
     "output_type": "execute_result"
    }
   ],
   "source": [
    "# combinar para formar un modelo con activacion lineal \n",
    "model(x) = layer2( l1(x) )      "
   ]
  },
  {
   "cell_type": "code",
   "execution_count": 7,
   "id": "banned-wrist",
   "metadata": {},
   "outputs": [
    {
     "data": {
      "text/plain": [
       "2-element Vector{Float64}:\n",
       " 2.312653427595195\n",
       " 2.3704494305669463"
      ]
     },
     "execution_count": 7,
     "metadata": {},
     "output_type": "execute_result"
    }
   ],
   "source": [
    "model(rand(5))    "
   ]
  },
  {
   "cell_type": "markdown",
   "id": "simplified-chick",
   "metadata": {},
   "source": [
    "Esto realiza predicciones rápidamente, pero no se verá muy bien. Limpiemos el código "
   ]
  },
  {
   "cell_type": "markdown",
   "id": "warming-arabic",
   "metadata": {},
   "source": [
    "## Limpieza del Codigo "
   ]
  },
  {
   "cell_type": "markdown",
   "id": "aware-superior",
   "metadata": {},
   "source": [
    "### Tipos de capas"
   ]
  },
  {
   "cell_type": "code",
   "execution_count": 8,
   "id": "powerful-murray",
   "metadata": {},
   "outputs": [
    {
     "data": {
      "text/plain": [
       "linear (generic function with 1 method)"
      ]
     },
     "execution_count": 8,
     "metadata": {},
     "output_type": "execute_result"
    }
   ],
   "source": [
    "function linear(in, out)\n",
    "  W = randn(out, in)\n",
    "  b = randn(out)\n",
    "  x -> W * x .+ b      # devuelve una funcion que toma un vector y produce otro \n",
    "end"
   ]
  },
  {
   "cell_type": "code",
   "execution_count": 9,
   "id": "informational-cambridge",
   "metadata": {},
   "outputs": [
    {
     "data": {
      "text/plain": [
       "#1 (generic function with 1 method)"
      ]
     },
     "execution_count": 9,
     "metadata": {},
     "output_type": "execute_result"
    }
   ],
   "source": [
    "linear(5, 3)  # 5 nodos de entrada, 3 de salida en la capa actual "
   ]
  },
  {
   "cell_type": "code",
   "execution_count": 10,
   "id": "typical-treat",
   "metadata": {},
   "outputs": [
    {
     "data": {
      "text/plain": [
       "#1 (generic function with 1 method)"
      ]
     },
     "execution_count": 10,
     "metadata": {},
     "output_type": "execute_result"
    }
   ],
   "source": [
    "linear1 = linear(5, 3) \n",
    "linear2 = linear(3, 2)"
   ]
  },
  {
   "cell_type": "code",
   "execution_count": 11,
   "id": "accompanied-masters",
   "metadata": {},
   "outputs": [
    {
     "data": {
      "text/plain": [
       "3×5 Matrix{Float64}:\n",
       "  0.621917   0.614352  -1.30337    0.962886   0.59264\n",
       " -0.217677  -0.129524  -0.78067    0.0362436  0.173365\n",
       "  0.154861  -1.34433    0.0551138  0.343842   0.201935"
      ]
     },
     "execution_count": 11,
     "metadata": {},
     "output_type": "execute_result"
    }
   ],
   "source": [
    "linear1.W   "
   ]
  },
  {
   "cell_type": "code",
   "execution_count": 12,
   "id": "cutting-accordance",
   "metadata": {},
   "outputs": [
    {
     "data": {
      "text/plain": [
       "model (generic function with 1 method)"
      ]
     },
     "execution_count": 12,
     "metadata": {},
     "output_type": "execute_result"
    }
   ],
   "source": [
    "model(x) = linear2( σ.(linear1(x)) )"
   ]
  },
  {
   "cell_type": "code",
   "execution_count": 13,
   "id": "interior-hayes",
   "metadata": {},
   "outputs": [
    {
     "data": {
      "text/plain": [
       "5-element Vector{Float64}:\n",
       " 0.90204927141224\n",
       " 0.7822200452431758\n",
       " 0.9958984648448636\n",
       " 0.6233980063572192\n",
       " 0.6151692965125259"
      ]
     },
     "execution_count": 13,
     "metadata": {},
     "output_type": "execute_result"
    }
   ],
   "source": [
    "x = rand(5) "
   ]
  },
  {
   "cell_type": "code",
   "execution_count": 14,
   "id": "single-yemen",
   "metadata": {},
   "outputs": [
    {
     "data": {
      "text/plain": [
       "2-element Vector{Float64}:\n",
       " -0.7238180153007114\n",
       "  2.1076271891491185"
      ]
     },
     "execution_count": 14,
     "metadata": {},
     "output_type": "execute_result"
    }
   ],
   "source": [
    "model(x)"
   ]
  },
  {
   "cell_type": "code",
   "execution_count": 15,
   "id": "tired-layout",
   "metadata": {},
   "outputs": [
    {
     "data": {
      "text/plain": [
       "model_p (generic function with 1 method)"
      ]
     },
     "execution_count": 15,
     "metadata": {},
     "output_type": "execute_result"
    }
   ],
   "source": [
    "# tambien se pueden usar 'pipes'\n",
    "model_p(x) = σ.(linear1(x)) |>  \n",
    "             linear2 \n",
    "        "
   ]
  },
  {
   "cell_type": "code",
   "execution_count": 16,
   "id": "linear-librarian",
   "metadata": {},
   "outputs": [
    {
     "data": {
      "text/plain": [
       "2-element Vector{Float64}:\n",
       " -0.7238180153007114\n",
       "  2.1076271891491185"
      ]
     },
     "execution_count": 16,
     "metadata": {},
     "output_type": "execute_result"
    }
   ],
   "source": [
    "model_p(x)"
   ]
  },
  {
   "cell_type": "markdown",
   "id": "current-display",
   "metadata": {},
   "source": [
    "Esto es similar a como construirlo con Flux (que todavía no hemos usado). Vamos a usar ahora Flux."
   ]
  },
  {
   "cell_type": "markdown",
   "id": "quiet-dream",
   "metadata": {},
   "source": [
    "## Layers con Flux "
   ]
  },
  {
   "cell_type": "markdown",
   "id": "retired-chrome",
   "metadata": {},
   "source": [
    "Reiniciamos el kernel dado que definimos una funcion anteriormente"
   ]
  },
  {
   "cell_type": "code",
   "execution_count": 1,
   "id": "public-floating",
   "metadata": {},
   "outputs": [],
   "source": [
    "using Flux "
   ]
  },
  {
   "cell_type": "code",
   "execution_count": 2,
   "id": "favorite-athletics",
   "metadata": {},
   "outputs": [
    {
     "data": {
      "text/plain": [
       "Dense(10 => 5, σ)   \u001b[90m# 55 parameters\u001b[39m"
      ]
     },
     "execution_count": 2,
     "metadata": {},
     "output_type": "execute_result"
    }
   ],
   "source": [
    "layer1 = Dense(10, 5, σ)"
   ]
  },
  {
   "cell_type": "code",
   "execution_count": 3,
   "id": "laden-language",
   "metadata": {},
   "outputs": [
    {
     "data": {
      "text/plain": [
       "Chain(\n",
       "  Dense(10 => 5, σ),                    \u001b[90m# 55 parameters\u001b[39m\n",
       "  Dense(5 => 2),                        \u001b[90m# 12 parameters\u001b[39m\n",
       "  NNlib.softmax,\n",
       ") \u001b[90m                  # Total: 4 arrays, \u001b[39m67 parameters, 524 bytes."
      ]
     },
     "execution_count": 3,
     "metadata": {},
     "output_type": "execute_result"
    }
   ],
   "source": [
    "model2 = Chain(\n",
    "  Dense(10, 5, σ),    # entrada son (10, ), nodos son 5 \n",
    "  Dense(5, 2),\n",
    "  softmax)            # softmax "
   ]
  },
  {
   "cell_type": "code",
   "execution_count": 4,
   "id": "broad-storage",
   "metadata": {},
   "outputs": [
    {
     "data": {
      "text/plain": [
       "2-element Vector{Float64}:\n",
       " 0.729338298655391\n",
       " 0.27066170134460904"
      ]
     },
     "execution_count": 4,
     "metadata": {},
     "output_type": "execute_result"
    }
   ],
   "source": [
    "model2(rand(10))  "
   ]
  },
  {
   "cell_type": "code",
   "execution_count": null,
   "id": "beginning-burden",
   "metadata": {},
   "outputs": [],
   "source": []
  }
 ],
 "metadata": {
  "kernelspec": {
   "display_name": "Julia 1.8.4",
   "language": "julia",
   "name": "julia-1.8"
  },
  "language_info": {
   "file_extension": ".jl",
   "mimetype": "application/julia",
   "name": "julia",
   "version": "1.8.4"
  },
  "varInspector": {
   "cols": {
    "lenName": 16,
    "lenType": 16,
    "lenVar": 40
   },
   "kernels_config": {
    "python": {
     "delete_cmd_postfix": "",
     "delete_cmd_prefix": "del ",
     "library": "var_list.py",
     "varRefreshCmd": "print(var_dic_list())"
    },
    "r": {
     "delete_cmd_postfix": ") ",
     "delete_cmd_prefix": "rm(",
     "library": "var_list.r",
     "varRefreshCmd": "cat(var_dic_list()) "
    }
   },
   "types_to_exclude": [
    "module",
    "function",
    "builtin_function_or_method",
    "instance",
    "_Feature"
   ],
   "window_display": false
  }
 },
 "nbformat": 4,
 "nbformat_minor": 5
}
