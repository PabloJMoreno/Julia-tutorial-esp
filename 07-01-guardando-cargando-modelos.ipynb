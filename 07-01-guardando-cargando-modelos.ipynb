{
 "cells": [
  {
   "cell_type": "markdown",
   "id": "armed-tulsa",
   "metadata": {},
   "source": [
    "# Guardando and Cargando Modelos"
   ]
  },
  {
   "cell_type": "markdown",
   "id": "included-claim",
   "metadata": {},
   "source": [
    "Guardemos el modelo creado y volvamos a cargarlo para uso posterior "
   ]
  },
  {
   "cell_type": "code",
   "execution_count": 1,
   "id": "received-mauritius",
   "metadata": {},
   "outputs": [
    {
     "data": {
      "text/plain": [
       "get_training_test_data (generic function with 2 methods)"
      ]
     },
     "execution_count": 1,
     "metadata": {},
     "output_type": "execute_result"
    }
   ],
   "source": [
    "using Flux, Statistics \n",
    "using Flux.Data.MNIST\n",
    "using Flux: onehotbatch\n",
    "using Base.Iterators: partition\n",
    "using Flux: onecold, crossentropy, throttle\n",
    "\n",
    "function get_training_test_data(batch_size=1000) \n",
    "    # carga y ajuste de train data \n",
    "    train_labels = onehotbatch(MNIST.labels(), 0:9) \n",
    "    \n",
    "    # categorizacion de imagenes \n",
    "    imgs = MNIST.images()\n",
    "    imgs = convert(Array{Array{Float32, 2}, 1}, float.(imgs));    # lo convertimos todo a Float32\n",
    "    train = [ (cat(imgs[i]..., dims = 4),   train_labels[:,i])\n",
    "               for i in partition(1:60_000, batch_size)  ]\n",
    "    \n",
    "    # test imagenes y categorias\n",
    "    test_imgs = MNIST.images(:test)[1:1000];\n",
    "    test_imgs = convert(Array{Array{Float32, 2}, 1}, float.(test_imgs));\n",
    "    test_imgs = cat(test_imgs..., dims = 4);\n",
    "    test_labels = onehotbatch(MNIST.labels(:test)[1:1000], 0:9);\n",
    "    \n",
    "    return (train, test_imgs, test_labels)\n",
    "    \n",
    "end"
   ]
  },
  {
   "cell_type": "code",
   "execution_count": 2,
   "id": "aerial-economy",
   "metadata": {},
   "outputs": [
    {
     "data": {
      "text/plain": [
       "Chain(Conv((3, 3), 1=>16, relu), MaxPool((2, 2), pad = (0, 0, 0, 0), stride = (2, 2)), Conv((3, 3), 16=>8, relu), MaxPool((2, 2), pad = (0, 0, 0, 0), stride = (2, 2)), flatten, Dense(200, 10), softmax)"
      ]
     },
     "execution_count": 2,
     "metadata": {},
     "output_type": "execute_result"
    }
   ],
   "source": [
    "model = Chain(\n",
    "        Conv((3,3), 1=>16, relu),\n",
    "        MaxPool((2,2)),\n",
    "        Conv((3,3), 16=>8, relu),\n",
    "        MaxPool((2,2)),\n",
    "        flatten,\n",
    "        Dense(200, 10),\n",
    "        softmax\n",
    "    )"
   ]
  },
  {
   "cell_type": "code",
   "execution_count": null,
   "id": "seventh-croatia",
   "metadata": {},
   "outputs": [],
   "source": [
    "train, tX, tY =  get_training_test_data();"
   ]
  },
  {
   "cell_type": "code",
   "execution_count": null,
   "id": "exposed-cooler",
   "metadata": {},
   "outputs": [],
   "source": [
    "loss(x, y) = Flux.Losses.crossentropy(model(x), y)\n",
    "opt=ADAM()\n",
    "\n",
    "accuracy(x, y) = mean(onecold(model(x)) .== onecold(y))     \n",
    "evalcb = throttle(() -> @show(accuracy(tX, tY)), 10);"
   ]
  },
  {
   "cell_type": "code",
   "execution_count": null,
   "id": "opposed-export",
   "metadata": {},
   "outputs": [],
   "source": [
    "Flux.train!(loss, params(model), train, opt, cb = evalcb)"
   ]
  },
  {
   "cell_type": "code",
   "execution_count": null,
   "id": "southeast-still",
   "metadata": {},
   "outputs": [],
   "source": [
    "] add BSON"
   ]
  },
  {
   "cell_type": "code",
   "execution_count": null,
   "id": "overhead-property",
   "metadata": {},
   "outputs": [],
   "source": [
    "using BSON: @save"
   ]
  },
  {
   "cell_type": "code",
   "execution_count": null,
   "id": "alert-speaker",
   "metadata": {},
   "outputs": [],
   "source": [
    "mkdir(\"saves\")"
   ]
  },
  {
   "cell_type": "code",
   "execution_count": null,
   "id": "everyday-scout",
   "metadata": {},
   "outputs": [],
   "source": [
    "@save \"saves/mymodel-01.bson\" model"
   ]
  },
  {
   "cell_type": "markdown",
   "id": "moderate-curtis",
   "metadata": {},
   "source": [
    "Reiniciamos el kernel para que se limpie el entorno y carguemos nuevamente el modelo sin conflictos."
   ]
  },
  {
   "cell_type": "code",
   "execution_count": 3,
   "id": "premium-throw",
   "metadata": {},
   "outputs": [],
   "source": [
    "train, tX, tY =  get_training_test_data();"
   ]
  },
  {
   "cell_type": "code",
   "execution_count": 4,
   "id": "confirmed-correction",
   "metadata": {},
   "outputs": [],
   "source": [
    "using BSON: @load"
   ]
  },
  {
   "cell_type": "code",
   "execution_count": 5,
   "id": "adult-biodiversity",
   "metadata": {},
   "outputs": [],
   "source": [
    "@load \"saves/mymodel-01.bson\" model"
   ]
  },
  {
   "cell_type": "code",
   "execution_count": 6,
   "id": "automotive-airfare",
   "metadata": {},
   "outputs": [
    {
     "data": {
      "text/plain": [
       "Chain(Conv((3, 3), 1=>16, relu), MaxPool((2, 2), pad = (0, 0, 0, 0), stride = (2, 2)), Conv((3, 3), 16=>8, relu), MaxPool((2, 2), pad = (0, 0, 0, 0), stride = (2, 2)), flatten, Dense(200, 10), softmax)"
      ]
     },
     "execution_count": 6,
     "metadata": {},
     "output_type": "execute_result"
    }
   ],
   "source": [
    "model"
   ]
  },
  {
   "cell_type": "code",
   "execution_count": 7,
   "id": "therapeutic-organ",
   "metadata": {},
   "outputs": [],
   "source": [
    "loss(x, y) = Flux.Losses.crossentropy(model(x), y)\n",
    "opt=ADAM()\n",
    "\n",
    "accuracy(x, y) = mean(onecold(model(x)) .== onecold(y))     \n",
    "evalcb = throttle(() -> @show(accuracy(tX, tY)), 10);"
   ]
  },
  {
   "cell_type": "code",
   "execution_count": 8,
   "id": "ideal-deviation",
   "metadata": {},
   "outputs": [
    {
     "name": "stdout",
     "output_type": "stream",
     "text": [
      "accuracy(tX, tY) = 0.74\n",
      "accuracy(tX, tY) = 0.82\n",
      "accuracy(tX, tY) = 0.853\n"
     ]
    }
   ],
   "source": [
    "Flux.train!(loss, params(model), train, opt, cb = evalcb)  # as you can see, model has resumed training "
   ]
  },
  {
   "cell_type": "markdown",
   "id": "metallic-independence",
   "metadata": {},
   "source": [
    "## Guardando Checkpoints Automaticamente "
   ]
  },
  {
   "cell_type": "code",
   "execution_count": 9,
   "id": "owned-messaging",
   "metadata": {},
   "outputs": [],
   "source": [
    "using BSON: @save"
   ]
  },
  {
   "cell_type": "code",
   "execution_count": 10,
   "id": "joined-organic",
   "metadata": {},
   "outputs": [],
   "source": [
    "using Dates: now"
   ]
  },
  {
   "cell_type": "code",
   "execution_count": 11,
   "id": "selective-output",
   "metadata": {},
   "outputs": [
    {
     "data": {
      "text/plain": [
       "(::Flux.var\"#throttled#42\"{Flux.var\"#throttled#38#43\"{Bool,Bool,var\"#5#6\",Int64}}) (generic function with 1 method)"
      ]
     },
     "execution_count": 11,
     "metadata": {},
     "output_type": "execute_result"
    }
   ],
   "source": [
    "# evalcb = throttle(() -> @show(accuracy(tX, tY)), 10);  # rehaciendo la funcion en multiples lineas \n",
    "evalcb_checkpoints = throttle(10) do \n",
    "    @show accuracy(tX, tY)\n",
    "    @save \"saves/model-checkpoint-$(now()).bson\" model\n",
    "end"
   ]
  },
  {
   "cell_type": "code",
   "execution_count": 12,
   "id": "smart-superior",
   "metadata": {},
   "outputs": [
    {
     "name": "stdout",
     "output_type": "stream",
     "text": [
      "accuracy(tX, tY) = 0.852\n",
      "accuracy(tX, tY) = 0.89\n"
     ]
    }
   ],
   "source": [
    "Flux.train!(loss, params(model), train, opt, cb = evalcb_checkpoints)"
   ]
  },
  {
   "cell_type": "code",
   "execution_count": null,
   "id": "conceptual-nancy",
   "metadata": {},
   "outputs": [],
   "source": []
  }
 ],
 "metadata": {
  "kernelspec": {
   "display_name": "Julia 1.8.4",
   "language": "julia",
   "name": "julia-1.8"
  },
  "language_info": {
   "file_extension": ".jl",
   "mimetype": "application/julia",
   "name": "julia",
   "version": "1.8.4"
  },
  "varInspector": {
   "cols": {
    "lenName": 16,
    "lenType": 16,
    "lenVar": 40
   },
   "kernels_config": {
    "python": {
     "delete_cmd_postfix": "",
     "delete_cmd_prefix": "del ",
     "library": "var_list.py",
     "varRefreshCmd": "print(var_dic_list())"
    },
    "r": {
     "delete_cmd_postfix": ") ",
     "delete_cmd_prefix": "rm(",
     "library": "var_list.r",
     "varRefreshCmd": "cat(var_dic_list()) "
    }
   },
   "types_to_exclude": [
    "module",
    "function",
    "builtin_function_or_method",
    "instance",
    "_Feature"
   ],
   "window_display": false
  }
 },
 "nbformat": 4,
 "nbformat_minor": 5
}
