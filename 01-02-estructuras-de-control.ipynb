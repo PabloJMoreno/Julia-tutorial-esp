{
 "cells": [
  {
   "cell_type": "markdown",
   "id": "orange-reminder",
   "metadata": {},
   "source": [
    "# Estructuras de Control"
   ]
  },
  {
   "cell_type": "markdown",
   "id": "western-robertson",
   "metadata": {
    "tags": []
   },
   "source": [
    "## Conditionales"
   ]
  },
  {
   "cell_type": "code",
   "execution_count": 2,
   "id": "medieval-suggestion",
   "metadata": {},
   "outputs": [
    {
     "data": {
      "text/plain": [
       "25"
      ]
     },
     "execution_count": 2,
     "metadata": {},
     "output_type": "execute_result"
    }
   ],
   "source": [
    "x = 25 "
   ]
  },
  {
   "cell_type": "markdown",
   "id": "decimal-allocation",
   "metadata": {},
   "source": [
    "El condicional **if** necesita un **end** al final. No necesita ':' al final de cada statement ni tampoco indentacion, pero es buena práctica usar indentacion."
   ]
  },
  {
   "cell_type": "code",
   "execution_count": 3,
   "id": "reported-elevation",
   "metadata": {},
   "outputs": [
    {
     "name": "stdout",
     "output_type": "stream",
     "text": [
      "x es mayor que 20\n"
     ]
    }
   ],
   "source": [
    "if x > 20\n",
    "    println(\"x es mayor que 20\")\n",
    "end "
   ]
  },
  {
   "cell_type": "markdown",
   "id": "affecting-genealogy",
   "metadata": {},
   "source": [
    "### Ejemplo"
   ]
  },
  {
   "cell_type": "markdown",
   "id": "gorgeous-invention",
   "metadata": {},
   "source": [
    "FizzBuzz test: dado un numero *n*, imprime \"Fizz\" si *n* es divisible por 3, \"Buzz\" si *n* es divisible por 5, y \"FizzBuzz\" si *n* es divisible por 3 **y** por 5. Si no, solo imprime *n*"
   ]
  },
  {
   "cell_type": "code",
   "execution_count": 4,
   "id": "arbitrary-measure",
   "metadata": {},
   "outputs": [
    {
     "data": {
      "text/plain": [
       "13"
      ]
     },
     "execution_count": 4,
     "metadata": {},
     "output_type": "execute_result"
    }
   ],
   "source": [
    "n = 13"
   ]
  },
  {
   "cell_type": "code",
   "execution_count": 5,
   "id": "parallel-mistake",
   "metadata": {},
   "outputs": [
    {
     "name": "stdout",
     "output_type": "stream",
     "text": [
      "13\n"
     ]
    }
   ],
   "source": [
    "if (n % 3 == 0) && (n % 5 == 0) \n",
    "    println(\"FizzBuzz\")\n",
    "elseif n % 3 == 0\n",
    "    println(\"Fizz\")\n",
    "elseif n % 5 == 0\n",
    "    println(\"Buzz\")\n",
    "else\n",
    "    println(n)\n",
    "end"
   ]
  },
  {
   "cell_type": "markdown",
   "id": "polish-handling",
   "metadata": {},
   "source": [
    "El operador ternario **should** en general, se ignora."
   ]
  },
  {
   "cell_type": "code",
   "execution_count": 6,
   "id": "loving-suspension",
   "metadata": {},
   "outputs": [
    {
     "name": "stdout",
     "output_type": "stream",
     "text": [
      "13\n"
     ]
    }
   ],
   "source": [
    "x = 13\n",
    "y = 6 \n",
    "\n",
    "z = (x > y) ? x : y            # condicion ? valor si es true : valor is es false \n",
    "println(z)"
   ]
  },
  {
   "cell_type": "markdown",
   "id": "collaborative-dressing",
   "metadata": {},
   "source": [
    "## Iteraciones "
   ]
  },
  {
   "cell_type": "code",
   "execution_count": 7,
   "id": "inside-adolescent",
   "metadata": {},
   "outputs": [
    {
     "name": "stdout",
     "output_type": "stream",
     "text": [
      "i is: 0\n",
      "i is: 1\n",
      "i is: 2\n",
      "i is: 3\n",
      "i is: 4\n",
      "i is: 5\n",
      "i is: 6\n",
      "i is: 7\n",
      "i is: 8\n",
      "i is: 9\n"
     ]
    }
   ],
   "source": [
    "i = 0 \n",
    "while i < 10 \n",
    "    println(\"i is: \", i)\n",
    "    i += 1 \n",
    "end"
   ]
  },
  {
   "cell_type": "code",
   "execution_count": 8,
   "id": "lesser-pound",
   "metadata": {},
   "outputs": [
    {
     "name": "stdout",
     "output_type": "stream",
     "text": [
      "1\n",
      "2\n",
      "3\n",
      "4\n",
      "5\n",
      "6\n",
      "7\n",
      "80\n",
      "9\n"
     ]
    }
   ],
   "source": [
    "nums = [1, 2, 3, 4, 5, 6, 7, 80, 9]\n",
    "\n",
    "for var in nums\n",
    "    println(var)\n",
    "end"
   ]
  },
  {
   "cell_type": "code",
   "execution_count": 9,
   "id": "documented-speed",
   "metadata": {},
   "outputs": [
    {
     "name": "stdout",
     "output_type": "stream",
     "text": [
      "1\n",
      "2\n",
      "3\n",
      "4\n",
      "5\n",
      "6\n",
      "7\n",
      "8\n",
      "9\n",
      "10\n"
     ]
    }
   ],
   "source": [
    "for var in 1:10\n",
    "    println(var) \n",
    "end "
   ]
  },
  {
   "cell_type": "code",
   "execution_count": 10,
   "id": "charitable-enough",
   "metadata": {},
   "outputs": [
    {
     "data": {
      "text/plain": [
       "1:10"
      ]
     },
     "execution_count": 10,
     "metadata": {},
     "output_type": "execute_result"
    }
   ],
   "source": [
    "1:10      "
   ]
  },
  {
   "cell_type": "code",
   "execution_count": 11,
   "id": "blind-consistency",
   "metadata": {},
   "outputs": [
    {
     "data": {
      "text/plain": [
       "UnitRange{Int64}"
      ]
     },
     "execution_count": 11,
     "metadata": {},
     "output_type": "execute_result"
    }
   ],
   "source": [
    "typeof(1:10)     # muy similar a un rango en python "
   ]
  },
  {
   "cell_type": "code",
   "execution_count": null,
   "id": "alien-puzzle",
   "metadata": {},
   "outputs": [],
   "source": []
  }
 ],
 "metadata": {
  "kernelspec": {
   "display_name": "Julia 1.8.4",
   "language": "julia",
   "name": "julia-1.8"
  },
  "language_info": {
   "file_extension": ".jl",
   "mimetype": "application/julia",
   "name": "julia",
   "version": "1.8.4"
  }
 },
 "nbformat": 4,
 "nbformat_minor": 5
}
