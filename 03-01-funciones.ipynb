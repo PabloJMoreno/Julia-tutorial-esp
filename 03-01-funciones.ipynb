{
 "cells": [
  {
   "cell_type": "markdown",
   "id": "capable-madonna",
   "metadata": {},
   "source": [
    "# Funciones "
   ]
  },
  {
   "cell_type": "code",
   "execution_count": 1,
   "id": "amino-suspect",
   "metadata": {},
   "outputs": [
    {
     "data": {
      "text/plain": [
       "square (generic function with 1 method)"
      ]
     },
     "execution_count": 1,
     "metadata": {},
     "output_type": "execute_result"
    }
   ],
   "source": [
    "# definiciones basicas\n",
    "\n",
    "function square(x)\n",
    "    return x * x \n",
    "end \n",
    "\n",
    "# una funcion termina con 'end'\n",
    "# el valor de una expresión en la línea de ejecución se retorna automaticamente\n",
    "# aunque no es necesario, es una buena práctica usar 'return' "
   ]
  },
  {
   "cell_type": "code",
   "execution_count": 2,
   "id": "mysterious-cincinnati",
   "metadata": {},
   "outputs": [
    {
     "data": {
      "text/plain": [
       "16"
      ]
     },
     "execution_count": 2,
     "metadata": {},
     "output_type": "execute_result"
    }
   ],
   "source": [
    "square(4)"
   ]
  },
  {
   "cell_type": "code",
   "execution_count": 3,
   "id": "wound-registrar",
   "metadata": {},
   "outputs": [
    {
     "data": {
      "text/plain": [
       "hello (generic function with 1 method)"
      ]
     },
     "execution_count": 3,
     "metadata": {},
     "output_type": "execute_result"
    }
   ],
   "source": [
    "function hello(name)\n",
    "    println(\"Buenos días \", name)\n",
    "end"
   ]
  },
  {
   "cell_type": "code",
   "execution_count": 4,
   "id": "conventional-effectiveness",
   "metadata": {},
   "outputs": [
    {
     "name": "stdout",
     "output_type": "stream",
     "text": [
      "Buenos días world\n"
     ]
    }
   ],
   "source": [
    "hello(\"world\")"
   ]
  },
  {
   "cell_type": "code",
   "execution_count": 5,
   "id": "military-recall",
   "metadata": {},
   "outputs": [
    {
     "name": "stdout",
     "output_type": "stream",
     "text": [
      "Buenos días 1\n"
     ]
    }
   ],
   "source": [
    "hello(1)"
   ]
  },
  {
   "cell_type": "code",
   "execution_count": 6,
   "id": "robust-harbor",
   "metadata": {},
   "outputs": [
    {
     "data": {
      "text/plain": [
       "3×4 Matrix{Float64}:\n",
       " 0.206921  0.504159  0.636752  0.804085\n",
       " 0.477046  0.268586  0.626003  0.0293309\n",
       " 0.737447  0.114571  0.814512  0.0503991"
      ]
     },
     "execution_count": 6,
     "metadata": {},
     "output_type": "execute_result"
    }
   ],
   "source": [
    "v = rand(3, 4)"
   ]
  },
  {
   "cell_type": "code",
   "execution_count": 7,
   "id": "fifth-narrative",
   "metadata": {},
   "outputs": [
    {
     "name": "stdout",
     "output_type": "stream",
     "text": [
      "Buenos días [0.20692055732776748 0.5041593772269065 0.6367515861187225 0.8040850608054285; 0.47704638059911053 0.26858604561843236 0.6260029066850937 0.029330944827158367; 0.7374474052628118 0.114570540022494 0.814511677254344 0.0503991226650391]\n"
     ]
    }
   ],
   "source": [
    "hello(v)  # en tanto que el parametro se pueda imprimir, esta bien"
   ]
  },
  {
   "cell_type": "markdown",
   "id": "ranking-dictionary",
   "metadata": {},
   "source": [
    "Atajo para ejecución en 1 línea "
   ]
  },
  {
   "cell_type": "code",
   "execution_count": 8,
   "id": "liberal-report",
   "metadata": {},
   "outputs": [
    {
     "data": {
      "text/plain": [
       "halver (generic function with 1 method)"
      ]
     },
     "execution_count": 8,
     "metadata": {},
     "output_type": "execute_result"
    }
   ],
   "source": [
    "halver(x) = x // 2      "
   ]
  },
  {
   "cell_type": "code",
   "execution_count": 9,
   "id": "deadly-alarm",
   "metadata": {},
   "outputs": [
    {
     "data": {
      "text/plain": [
       "5//2"
      ]
     },
     "execution_count": 9,
     "metadata": {},
     "output_type": "execute_result"
    }
   ],
   "source": [
    "halver(5)"
   ]
  },
  {
   "cell_type": "markdown",
   "id": "specialized-bachelor",
   "metadata": {},
   "source": [
    "## Convencion para 'Mutating Functions' "
   ]
  },
  {
   "cell_type": "code",
   "execution_count": 10,
   "id": "complete-sunset",
   "metadata": {},
   "outputs": [],
   "source": [
    "v = [46, 5, 87]; "
   ]
  },
  {
   "cell_type": "code",
   "execution_count": 11,
   "id": "featured-learning",
   "metadata": {},
   "outputs": [
    {
     "data": {
      "text/plain": [
       "3-element Vector{Int64}:\n",
       "  5\n",
       " 46\n",
       " 87"
      ]
     },
     "execution_count": 11,
     "metadata": {},
     "output_type": "execute_result"
    }
   ],
   "source": [
    "sort(v)  # para ordenar el objeto de manera ascendente"
   ]
  },
  {
   "cell_type": "code",
   "execution_count": 12,
   "id": "nuclear-family",
   "metadata": {},
   "outputs": [
    {
     "name": "stdout",
     "output_type": "stream",
     "text": [
      "v = [46, 5, 87]\n"
     ]
    }
   ],
   "source": [
    "@show v;"
   ]
  },
  {
   "cell_type": "code",
   "execution_count": 13,
   "id": "blind-regular",
   "metadata": {},
   "outputs": [
    {
     "data": {
      "text/plain": [
       "3-element Vector{Int64}:\n",
       "  5\n",
       " 46\n",
       " 87"
      ]
     },
     "execution_count": 13,
     "metadata": {},
     "output_type": "execute_result"
    }
   ],
   "source": [
    "sort!(v)   # recuerda que (!) muta el objeto "
   ]
  },
  {
   "cell_type": "code",
   "execution_count": 15,
   "id": "defensive-boards",
   "metadata": {},
   "outputs": [
    {
     "name": "stdout",
     "output_type": "stream",
     "text": [
      "v = [5, 46, 87]\n"
     ]
    }
   ],
   "source": [
    "@show v;"
   ]
  },
  {
   "cell_type": "markdown",
   "id": "economic-tracy",
   "metadata": {},
   "source": [
    "Considera que `sort` y `sort!` son fuciones totalmente diferentes "
   ]
  },
  {
   "cell_type": "markdown",
   "id": "suburban-following",
   "metadata": {},
   "source": [
    "## Overloading y \"Methods\""
   ]
  },
  {
   "cell_type": "code",
   "execution_count": 16,
   "id": "connected-nursery",
   "metadata": {},
   "outputs": [
    {
     "data": {
      "text/plain": [
       "show_number (generic function with 1 method)"
      ]
     },
     "execution_count": 16,
     "metadata": {},
     "output_type": "execute_result"
    }
   ],
   "source": [
    "function show_number(x::Int64)     # podemos definir el tipo de variable\n",
    "    println(\"Imprimir el valor entero: \", x)\n",
    "end"
   ]
  },
  {
   "cell_type": "code",
   "execution_count": 17,
   "id": "velvet-participation",
   "metadata": {},
   "outputs": [
    {
     "name": "stdout",
     "output_type": "stream",
     "text": [
      "Imprimir el valor entero: 65\n"
     ]
    }
   ],
   "source": [
    "show_number(65)"
   ]
  },
  {
   "cell_type": "code",
   "execution_count": 18,
   "id": "contained-details",
   "metadata": {},
   "outputs": [
    {
     "ename": "LoadError",
     "evalue": "MethodError: no method matching show_number(::Float64)\n\u001b[0mClosest candidates are:\n\u001b[0m  show_number(\u001b[91m::Int64\u001b[39m) at In[16]:1",
     "output_type": "error",
     "traceback": [
      "MethodError: no method matching show_number(::Float64)\n\u001b[0mClosest candidates are:\n\u001b[0m  show_number(\u001b[91m::Int64\u001b[39m) at In[16]:1",
      "",
      "Stacktrace:",
      " [1] top-level scope",
      "   @ In[18]:1"
     ]
    }
   ],
   "source": [
    "show_number(65.0) # no es un entero"
   ]
  },
  {
   "cell_type": "code",
   "execution_count": 20,
   "id": "cheap-smile",
   "metadata": {},
   "outputs": [
    {
     "data": {
      "text/plain": [
       "show_number (generic function with 2 methods)"
      ]
     },
     "execution_count": 20,
     "metadata": {},
     "output_type": "execute_result"
    }
   ],
   "source": [
    "function show_number(x::Float64) \n",
    "    println(\"Imprimir el valor Float64: \", x)\n",
    "end"
   ]
  },
  {
   "cell_type": "code",
   "execution_count": 21,
   "id": "thousand-wichita",
   "metadata": {},
   "outputs": [
    {
     "name": "stdout",
     "output_type": "stream",
     "text": [
      "Imprimir el valor entero: 65\n",
      "Imprimir el valor Float64: 65.0\n"
     ]
    }
   ],
   "source": [
    "show_number(65)\n",
    "show_number(65.0)"
   ]
  },
  {
   "cell_type": "code",
   "execution_count": 22,
   "id": "biological-format",
   "metadata": {},
   "outputs": [
    {
     "data": {
      "text/html": [
       "# 2 methods for generic function <b>show_number</b>:<ul><li> show_number(x::<b>Int64</b>) in Main at In[16]:1</li> <li> show_number(x::<b>Float64</b>) in Main at In[20]:1</li> </ul>"
      ],
      "text/plain": [
       "# 2 methods for generic function \"show_number\":\n",
       "[1] show_number(x::Int64) in Main at In[16]:1\n",
       "[2] show_number(x::Float64) in Main at In[20]:1"
      ]
     },
     "execution_count": 22,
     "metadata": {},
     "output_type": "execute_result"
    }
   ],
   "source": [
    "methods(show_number)       # observe los metodos \"overloaded\" que tenemos. Lea la terminologia! "
   ]
  },
  {
   "cell_type": "code",
   "execution_count": 23,
   "id": "continent-battery",
   "metadata": {},
   "outputs": [
    {
     "data": {
      "text/html": [
       "# 206 methods for generic function <b>+</b>:<ul><li> +(x::<b>T</b>, y::<b>T</b>)<i> where T<:Union{Int128, Int16, Int32, Int64, Int8, UInt128, UInt16, UInt32, UInt64, UInt8}</i> in Base at <a href=\"https://github.com/JuliaLang/julia/tree/00177ebc4fcadaaa37c4c2cbca2f9db75ba4d8e3/base/int.jl#L87\" target=\"_blank\">int.jl:87</a></li> <li> +(x::<b>T</b>, y::<b>T</b>)<i> where T<:Union{Float16, Float32, Float64}</i> in Base at <a href=\"https://github.com/JuliaLang/julia/tree/00177ebc4fcadaaa37c4c2cbca2f9db75ba4d8e3/base/float.jl#L383\" target=\"_blank\">float.jl:383</a></li> <li> +(c::<b>Union{UInt16, UInt32, UInt8}</b>, x::<b>BigInt</b>) in Base.GMP at <a href=\"https://github.com/JuliaLang/julia/tree/00177ebc4fcadaaa37c4c2cbca2f9db75ba4d8e3/base/gmp.jl#L531\" target=\"_blank\">gmp.jl:531</a></li> <li> +(c::<b>Union{Int16, Int32, Int8}</b>, x::<b>BigInt</b>) in Base.GMP at <a href=\"https://github.com/JuliaLang/julia/tree/00177ebc4fcadaaa37c4c2cbca2f9db75ba4d8e3/base/gmp.jl#L537\" target=\"_blank\">gmp.jl:537</a></li> <li> +(c::<b>Union{UInt16, UInt32, UInt8}</b>, x::<b>BigFloat</b>) in Base.MPFR at <a href=\"https://github.com/JuliaLang/julia/tree/00177ebc4fcadaaa37c4c2cbca2f9db75ba4d8e3/base/mpfr.jl#L398\" target=\"_blank\">mpfr.jl:398</a></li> <li> +(c::<b>Union{Int16, Int32, Int8}</b>, x::<b>BigFloat</b>) in Base.MPFR at <a href=\"https://github.com/JuliaLang/julia/tree/00177ebc4fcadaaa37c4c2cbca2f9db75ba4d8e3/base/mpfr.jl#L406\" target=\"_blank\">mpfr.jl:406</a></li> <li> +(c::<b>Union{Float16, Float32, Float64}</b>, x::<b>BigFloat</b>) in Base.MPFR at <a href=\"https://github.com/JuliaLang/julia/tree/00177ebc4fcadaaa37c4c2cbca2f9db75ba4d8e3/base/mpfr.jl#L414\" target=\"_blank\">mpfr.jl:414</a></li> <li> +(x::<b>Union{Dates.CompoundPeriod, Dates.Period}</b>) in Dates at <a href=\"file://C:/workdir/usr/share/julia/stdlib/v1.8/Dates/src/periods.jl\" target=\"_blank\">C:\\julia184\\Julia-1.8.4\\share\\julia\\stdlib\\v1.8\\Dates\\src\\periods.jl:378</a></li> <li> +(Da::<b>LinearAlgebra.Diagonal</b>, Db::<b>LinearAlgebra.Diagonal</b>) in LinearAlgebra at <a href=\"file://C:/workdir/usr/share/julia/stdlib/v1.8/LinearAlgebra/src/diagonal.jl\" target=\"_blank\">C:\\julia184\\Julia-1.8.4\\share\\julia\\stdlib\\v1.8\\LinearAlgebra\\src\\diagonal.jl:184</a></li> <li> +(D::<b>LinearAlgebra.Diagonal</b>, S::<b>LinearAlgebra.Symmetric</b>) in LinearAlgebra at <a href=\"file://C:/workdir/usr/share/julia/stdlib/v1.8/LinearAlgebra/src/diagonal.jl\" target=\"_blank\">C:\\julia184\\Julia-1.8.4\\share\\julia\\stdlib\\v1.8\\LinearAlgebra\\src\\diagonal.jl:188</a></li> <li> +(D::<b>LinearAlgebra.Diagonal{var\"#s886\", V} where {var\"#s886\"<:Real, V<:AbstractVector{var\"#s886\"}}</b>, H::<b>LinearAlgebra.Hermitian</b>) in LinearAlgebra at <a href=\"file://C:/workdir/usr/share/julia/stdlib/v1.8/LinearAlgebra/src/diagonal.jl\" target=\"_blank\">C:\\julia184\\Julia-1.8.4\\share\\julia\\stdlib\\v1.8\\LinearAlgebra\\src\\diagonal.jl:194</a></li> <li> +(x::<b>LinearAlgebra.Diagonal</b>, H::<b>LinearAlgebra.UpperHessenberg</b>) in LinearAlgebra at <a href=\"file://C:/workdir/usr/share/julia/stdlib/v1.8/LinearAlgebra/src/hessenberg.jl\" target=\"_blank\">C:\\julia184\\Julia-1.8.4\\share\\julia\\stdlib\\v1.8\\LinearAlgebra\\src\\hessenberg.jl:109</a></li> <li> +(A::<b>LinearAlgebra.Diagonal</b>, B::<b>LinearAlgebra.Bidiagonal</b>) in LinearAlgebra at <a href=\"file://C:/workdir/usr/share/julia/stdlib/v1.8/LinearAlgebra/src/special.jl\" target=\"_blank\">C:\\julia184\\Julia-1.8.4\\share\\julia\\stdlib\\v1.8\\LinearAlgebra\\src\\special.jl:137</a></li> <li> +(A::<b>LinearAlgebra.Diagonal</b>, B::<b>LinearAlgebra.SymTridiagonal</b>) in LinearAlgebra at <a href=\"file://C:/workdir/usr/share/julia/stdlib/v1.8/LinearAlgebra/src/special.jl\" target=\"_blank\">C:\\julia184\\Julia-1.8.4\\share\\julia\\stdlib\\v1.8\\LinearAlgebra\\src\\special.jl:147</a></li> <li> +(A::<b>LinearAlgebra.Diagonal</b>, B::<b>LinearAlgebra.Tridiagonal</b>) in LinearAlgebra at <a href=\"file://C:/workdir/usr/share/julia/stdlib/v1.8/LinearAlgebra/src/special.jl\" target=\"_blank\">C:\\julia184\\Julia-1.8.4\\share\\julia\\stdlib\\v1.8\\LinearAlgebra\\src\\special.jl:175</a></li> <li> +(A::<b>LinearAlgebra.Diagonal{var\"#s886\", V} where {var\"#s886\"<:Number, V<:AbstractVector{var\"#s886\"}}</b>, B::<b>LinearAlgebra.UniformScaling</b>) in LinearAlgebra at <a href=\"file://C:/workdir/usr/share/julia/stdlib/v1.8/LinearAlgebra/src/special.jl\" target=\"_blank\">C:\\julia184\\Julia-1.8.4\\share\\julia\\stdlib\\v1.8\\LinearAlgebra\\src\\special.jl:253</a></li> <li> +(A::<b>BitArray</b>, B::<b>BitArray</b>) in Base at <a href=\"https://github.com/JuliaLang/julia/tree/00177ebc4fcadaaa37c4c2cbca2f9db75ba4d8e3/base/bitarray.jl#L1184\" target=\"_blank\">bitarray.jl:1184</a></li> <li> +(index1::<b>CartesianIndex{N}</b>, index2::<b>CartesianIndex{N}</b>)<i> where N</i> in Base.IteratorsMD at <a href=\"https://github.com/JuliaLang/julia/tree/00177ebc4fcadaaa37c4c2cbca2f9db75ba4d8e3/base/multidimensional.jl#L114\" target=\"_blank\">multidimensional.jl:114</a></li> <li> +(y::<b>Dates.TimeType</b>, x::<b>StridedArray{<:Union{Dates.CompoundPeriod, Dates.Period}}</b>) in Dates at <a href=\"file://C:/workdir/usr/share/julia/stdlib/v1.8/Dates/src/deprecated.jl\" target=\"_blank\">C:\\julia184\\Julia-1.8.4\\share\\julia\\stdlib\\v1.8\\Dates\\src\\deprecated.jl:18</a></li> <li> +(A::<b>LinearAlgebra.UnitUpperTriangular</b>, B::<b>LinearAlgebra.UpperTriangular</b>) in LinearAlgebra at <a href=\"file://C:/workdir/usr/share/julia/stdlib/v1.8/LinearAlgebra/src/triangular.jl\" target=\"_blank\">C:\\julia184\\Julia-1.8.4\\share\\julia\\stdlib\\v1.8\\LinearAlgebra\\src\\triangular.jl:642</a></li> <li> +(A::<b>LinearAlgebra.UnitUpperTriangular</b>, B::<b>LinearAlgebra.UnitUpperTriangular</b>) in LinearAlgebra at <a href=\"file://C:/workdir/usr/share/julia/stdlib/v1.8/LinearAlgebra/src/triangular.jl\" target=\"_blank\">C:\\julia184\\Julia-1.8.4\\share\\julia\\stdlib\\v1.8\\LinearAlgebra\\src\\triangular.jl:644</a></li> <li> +(UL::<b>LinearAlgebra.UnitUpperTriangular</b>, J::<b>LinearAlgebra.UniformScaling</b>) in LinearAlgebra at <a href=\"file://C:/workdir/usr/share/julia/stdlib/v1.8/LinearAlgebra/src/uniformscaling.jl\" target=\"_blank\">C:\\julia184\\Julia-1.8.4\\share\\julia\\stdlib\\v1.8\\LinearAlgebra\\src\\uniformscaling.jl:181</a></li> <li> +(x::<b>LinearAlgebra.UnitUpperTriangular</b>, H::<b>LinearAlgebra.UpperHessenberg</b>) in LinearAlgebra at <a href=\"file://C:/workdir/usr/share/julia/stdlib/v1.8/LinearAlgebra/src/hessenberg.jl\" target=\"_blank\">C:\\julia184\\Julia-1.8.4\\share\\julia\\stdlib\\v1.8\\LinearAlgebra\\src\\hessenberg.jl:109</a></li> <li> +(A::<b>LinearAlgebra.UnitUpperTriangular</b>, B::<b>LinearAlgebra.Bidiagonal</b>) in LinearAlgebra at <a href=\"file://C:/workdir/usr/share/julia/stdlib/v1.8/LinearAlgebra/src/special.jl\" target=\"_blank\">C:\\julia184\\Julia-1.8.4\\share\\julia\\stdlib\\v1.8\\LinearAlgebra\\src\\special.jl:98</a></li> <li> +(A::<b>LinearAlgebra.UpperHessenberg</b>, B::<b>LinearAlgebra.UpperHessenberg</b>) in LinearAlgebra at <a href=\"file://C:/workdir/usr/share/julia/stdlib/v1.8/LinearAlgebra/src/hessenberg.jl\" target=\"_blank\">C:\\julia184\\Julia-1.8.4\\share\\julia\\stdlib\\v1.8\\LinearAlgebra\\src\\hessenberg.jl:101</a></li> <li> +(H::<b>LinearAlgebra.UpperHessenberg</b>, x::<b>LinearAlgebra.UniformScaling</b>) in LinearAlgebra at <a href=\"file://C:/workdir/usr/share/julia/stdlib/v1.8/LinearAlgebra/src/hessenberg.jl\" target=\"_blank\">C:\\julia184\\Julia-1.8.4\\share\\julia\\stdlib\\v1.8\\LinearAlgebra\\src\\hessenberg.jl:108</a></li> <li> +(H::<b>LinearAlgebra.UpperHessenberg</b>, x::<b>LinearAlgebra.Diagonal</b>) in LinearAlgebra at <a href=\"file://C:/workdir/usr/share/julia/stdlib/v1.8/LinearAlgebra/src/hessenberg.jl\" target=\"_blank\">C:\\julia184\\Julia-1.8.4\\share\\julia\\stdlib\\v1.8\\LinearAlgebra\\src\\hessenberg.jl:108</a></li> <li> +(H::<b>LinearAlgebra.UpperHessenberg</b>, x::<b>LinearAlgebra.Bidiagonal</b>) in LinearAlgebra at <a href=\"file://C:/workdir/usr/share/julia/stdlib/v1.8/LinearAlgebra/src/hessenberg.jl\" target=\"_blank\">C:\\julia184\\Julia-1.8.4\\share\\julia\\stdlib\\v1.8\\LinearAlgebra\\src\\hessenberg.jl:108</a></li> <li> +(H::<b>LinearAlgebra.UpperHessenberg</b>, x::<b>LinearAlgebra.Tridiagonal</b>) in LinearAlgebra at <a href=\"file://C:/workdir/usr/share/julia/stdlib/v1.8/LinearAlgebra/src/hessenberg.jl\" target=\"_blank\">C:\\julia184\\Julia-1.8.4\\share\\julia\\stdlib\\v1.8\\LinearAlgebra\\src\\hessenberg.jl:108</a></li> <li> +(H::<b>LinearAlgebra.UpperHessenberg</b>, x::<b>LinearAlgebra.SymTridiagonal</b>) in LinearAlgebra at <a href=\"file://C:/workdir/usr/share/julia/stdlib/v1.8/LinearAlgebra/src/hessenberg.jl\" target=\"_blank\">C:\\julia184\\Julia-1.8.4\\share\\julia\\stdlib\\v1.8\\LinearAlgebra\\src\\hessenberg.jl:108</a></li> <li> +(H::<b>LinearAlgebra.UpperHessenberg</b>, x::<b>LinearAlgebra.UpperTriangular</b>) in LinearAlgebra at <a href=\"file://C:/workdir/usr/share/julia/stdlib/v1.8/LinearAlgebra/src/hessenberg.jl\" target=\"_blank\">C:\\julia184\\Julia-1.8.4\\share\\julia\\stdlib\\v1.8\\LinearAlgebra\\src\\hessenberg.jl:108</a></li> <li> +(H::<b>LinearAlgebra.UpperHessenberg</b>, x::<b>LinearAlgebra.UnitUpperTriangular</b>) in LinearAlgebra at <a href=\"file://C:/workdir/usr/share/julia/stdlib/v1.8/LinearAlgebra/src/hessenberg.jl\" target=\"_blank\">C:\\julia184\\Julia-1.8.4\\share\\julia\\stdlib\\v1.8\\LinearAlgebra\\src\\hessenberg.jl:108</a></li> <li> +(A::<b>LinearAlgebra.LowerTriangular</b>, B::<b>LinearAlgebra.LowerTriangular</b>) in LinearAlgebra at <a href=\"file://C:/workdir/usr/share/julia/stdlib/v1.8/LinearAlgebra/src/triangular.jl\" target=\"_blank\">C:\\julia184\\Julia-1.8.4\\share\\julia\\stdlib\\v1.8\\LinearAlgebra\\src\\triangular.jl:639</a></li> <li> +(A::<b>LinearAlgebra.LowerTriangular</b>, B::<b>LinearAlgebra.UnitLowerTriangular</b>) in LinearAlgebra at <a href=\"file://C:/workdir/usr/share/julia/stdlib/v1.8/LinearAlgebra/src/triangular.jl\" target=\"_blank\">C:\\julia184\\Julia-1.8.4\\share\\julia\\stdlib\\v1.8\\LinearAlgebra\\src\\triangular.jl:641</a></li> <li> +(A::<b>LinearAlgebra.LowerTriangular</b>, B::<b>LinearAlgebra.Bidiagonal</b>) in LinearAlgebra at <a href=\"file://C:/workdir/usr/share/julia/stdlib/v1.8/LinearAlgebra/src/special.jl\" target=\"_blank\">C:\\julia184\\Julia-1.8.4\\share\\julia\\stdlib\\v1.8\\LinearAlgebra\\src\\special.jl:98</a></li> <li> +(r1::<b>StepRangeLen{T, R}</b>, r2::<b>StepRangeLen{T, R}</b>)<i> where {R<:Base.TwicePrecision, T}</i> in Base at <a href=\"https://github.com/JuliaLang/julia/tree/00177ebc4fcadaaa37c4c2cbca2f9db75ba4d8e3/base/twiceprecision.jl#L644\" target=\"_blank\">twiceprecision.jl:644</a></li> <li> +(r1::<b>StepRangeLen{T, S}</b>, r2::<b>StepRangeLen{T, S}</b>)<i> where {T, S}</i> in Base at <a href=\"https://github.com/JuliaLang/julia/tree/00177ebc4fcadaaa37c4c2cbca2f9db75ba4d8e3/base/range.jl#L1446\" target=\"_blank\">range.jl:1446</a></li> <li> +(z::<b>Complex</b>, w::<b>Complex</b>) in Base at <a href=\"https://github.com/JuliaLang/julia/tree/00177ebc4fcadaaa37c4c2cbca2f9db75ba4d8e3/base/complex.jl#L288\" target=\"_blank\">complex.jl:288</a></li> <li> +(x::<b>AbstractIrrational</b>, y::<b>AbstractIrrational</b>) in Base at <a href=\"https://github.com/JuliaLang/julia/tree/00177ebc4fcadaaa37c4c2cbca2f9db75ba4d8e3/base/irrationals.jl#L158\" target=\"_blank\">irrationals.jl:158</a></li> <li> +(x::<b>Base.TwicePrecision</b>, y::<b>Number</b>) in Base at <a href=\"https://github.com/JuliaLang/julia/tree/00177ebc4fcadaaa37c4c2cbca2f9db75ba4d8e3/base/twiceprecision.jl#L290\" target=\"_blank\">twiceprecision.jl:290</a></li> <li> +(x::<b>Base.TwicePrecision{T}</b>, y::<b>Base.TwicePrecision{T}</b>)<i> where T</i> in Base at <a href=\"https://github.com/JuliaLang/julia/tree/00177ebc4fcadaaa37c4c2cbca2f9db75ba4d8e3/base/twiceprecision.jl#L296\" target=\"_blank\">twiceprecision.jl:296</a></li> <li> +(x::<b>Base.TwicePrecision</b>, y::<b>Base.TwicePrecision</b>) in Base at <a href=\"https://github.com/JuliaLang/julia/tree/00177ebc4fcadaaa37c4c2cbca2f9db75ba4d8e3/base/twiceprecision.jl#L301\" target=\"_blank\">twiceprecision.jl:301</a></li> <li> +(r1::<b>LinRange{T}</b>, r2::<b>LinRange{T}</b>)<i> where T</i> in Base at <a href=\"https://github.com/JuliaLang/julia/tree/00177ebc4fcadaaa37c4c2cbca2f9db75ba4d8e3/base/range.jl#L1430\" target=\"_blank\">range.jl:1430</a></li> <li> +(A::<b>LinearAlgebra.Tridiagonal</b>, B::<b>LinearAlgebra.Tridiagonal</b>) in LinearAlgebra at <a href=\"file://C:/workdir/usr/share/julia/stdlib/v1.8/LinearAlgebra/src/tridiag.jl\" target=\"_blank\">C:\\julia184\\Julia-1.8.4\\share\\julia\\stdlib\\v1.8\\LinearAlgebra\\src\\tridiag.jl:741</a></li> <li> +(x::<b>LinearAlgebra.Tridiagonal</b>, H::<b>LinearAlgebra.UpperHessenberg</b>) in LinearAlgebra at <a href=\"file://C:/workdir/usr/share/julia/stdlib/v1.8/LinearAlgebra/src/hessenberg.jl\" target=\"_blank\">C:\\julia184\\Julia-1.8.4\\share\\julia\\stdlib\\v1.8\\LinearAlgebra\\src\\hessenberg.jl:109</a></li> <li> +(A::<b>LinearAlgebra.Tridiagonal</b>, B::<b>LinearAlgebra.SymTridiagonal</b>) in LinearAlgebra at <a href=\"file://C:/workdir/usr/share/julia/stdlib/v1.8/LinearAlgebra/src/special.jl\" target=\"_blank\">C:\\julia184\\Julia-1.8.4\\share\\julia\\stdlib\\v1.8\\LinearAlgebra\\src\\special.jl:169</a></li> <li> +(A::<b>LinearAlgebra.Tridiagonal</b>, B::<b>LinearAlgebra.Diagonal</b>) in LinearAlgebra at <a href=\"file://C:/workdir/usr/share/julia/stdlib/v1.8/LinearAlgebra/src/special.jl\" target=\"_blank\">C:\\julia184\\Julia-1.8.4\\share\\julia\\stdlib\\v1.8\\LinearAlgebra\\src\\special.jl:185</a></li> <li> +(A::<b>LinearAlgebra.Tridiagonal</b>, B::<b>LinearAlgebra.Bidiagonal</b>) in LinearAlgebra at <a href=\"file://C:/workdir/usr/share/julia/stdlib/v1.8/LinearAlgebra/src/special.jl\" target=\"_blank\">C:\\julia184\\Julia-1.8.4\\share\\julia\\stdlib\\v1.8\\LinearAlgebra\\src\\special.jl:205</a></li> <li> +(A::<b>LinearAlgebra.Tridiagonal{var\"#s886\", V} where {var\"#s886\"<:Number, V<:AbstractVector{var\"#s886\"}}</b>, B::<b>LinearAlgebra.UniformScaling</b>) in LinearAlgebra at <a href=\"file://C:/workdir/usr/share/julia/stdlib/v1.8/LinearAlgebra/src/special.jl\" target=\"_blank\">C:\\julia184\\Julia-1.8.4\\share\\julia\\stdlib\\v1.8\\LinearAlgebra\\src\\special.jl:238</a></li> <li> +(x::<b>T</b>, y::<b>Integer</b>)<i> where T<:AbstractChar</i> in Base at <a href=\"https://github.com/JuliaLang/julia/tree/00177ebc4fcadaaa37c4c2cbca2f9db75ba4d8e3/base/char.jl#L237\" target=\"_blank\">char.jl:237</a></li> <li> +(A::<b>LinearAlgebra.Bidiagonal</b>, B::<b>LinearAlgebra.Bidiagonal</b>) in LinearAlgebra at <a href=\"file://C:/workdir/usr/share/julia/stdlib/v1.8/LinearAlgebra/src/bidiag.jl\" target=\"_blank\">C:\\julia184\\Julia-1.8.4\\share\\julia\\stdlib\\v1.8\\LinearAlgebra\\src\\bidiag.jl:365</a></li> <li> +(x::<b>LinearAlgebra.Bidiagonal</b>, H::<b>LinearAlgebra.UpperHessenberg</b>) in LinearAlgebra at <a href=\"file://C:/workdir/usr/share/julia/stdlib/v1.8/LinearAlgebra/src/hessenberg.jl\" target=\"_blank\">C:\\julia184\\Julia-1.8.4\\share\\julia\\stdlib\\v1.8\\LinearAlgebra\\src\\hessenberg.jl:109</a></li> <li> +(A::<b>LinearAlgebra.Bidiagonal</b>, B::<b>LinearAlgebra.UpperTriangular</b>) in LinearAlgebra at <a href=\"file://C:/workdir/usr/share/julia/stdlib/v1.8/LinearAlgebra/src/special.jl\" target=\"_blank\">C:\\julia184\\Julia-1.8.4\\share\\julia\\stdlib\\v1.8\\LinearAlgebra\\src\\special.jl:106</a></li> <li> +(A::<b>LinearAlgebra.Bidiagonal</b>, B::<b>LinearAlgebra.UnitUpperTriangular</b>) in LinearAlgebra at <a href=\"file://C:/workdir/usr/share/julia/stdlib/v1.8/LinearAlgebra/src/special.jl\" target=\"_blank\">C:\\julia184\\Julia-1.8.4\\share\\julia\\stdlib\\v1.8\\LinearAlgebra\\src\\special.jl:106</a></li> <li> +(A::<b>LinearAlgebra.Bidiagonal</b>, B::<b>LinearAlgebra.LowerTriangular</b>) in LinearAlgebra at <a href=\"file://C:/workdir/usr/share/julia/stdlib/v1.8/LinearAlgebra/src/special.jl\" target=\"_blank\">C:\\julia184\\Julia-1.8.4\\share\\julia\\stdlib\\v1.8\\LinearAlgebra\\src\\special.jl:106</a></li> <li> +(A::<b>LinearAlgebra.Bidiagonal</b>, B::<b>LinearAlgebra.UnitLowerTriangular</b>) in LinearAlgebra at <a href=\"file://C:/workdir/usr/share/julia/stdlib/v1.8/LinearAlgebra/src/special.jl\" target=\"_blank\">C:\\julia184\\Julia-1.8.4\\share\\julia\\stdlib\\v1.8\\LinearAlgebra\\src\\special.jl:106</a></li> <li> +(A::<b>LinearAlgebra.Bidiagonal</b>, B::<b>LinearAlgebra.Diagonal</b>) in LinearAlgebra at <a href=\"file://C:/workdir/usr/share/julia/stdlib/v1.8/LinearAlgebra/src/special.jl\" target=\"_blank\">C:\\julia184\\Julia-1.8.4\\share\\julia\\stdlib\\v1.8\\LinearAlgebra\\src\\special.jl:127</a></li> <li> +(A::<b>LinearAlgebra.Bidiagonal</b>, B::<b>LinearAlgebra.Tridiagonal</b>) in LinearAlgebra at <a href=\"file://C:/workdir/usr/share/julia/stdlib/v1.8/LinearAlgebra/src/special.jl\" target=\"_blank\">C:\\julia184\\Julia-1.8.4\\share\\julia\\stdlib\\v1.8\\LinearAlgebra\\src\\special.jl:195</a></li> <li> +(A::<b>LinearAlgebra.Bidiagonal</b>, B::<b>LinearAlgebra.SymTridiagonal</b>) in LinearAlgebra at <a href=\"file://C:/workdir/usr/share/julia/stdlib/v1.8/LinearAlgebra/src/special.jl\" target=\"_blank\">C:\\julia184\\Julia-1.8.4\\share\\julia\\stdlib\\v1.8\\LinearAlgebra\\src\\special.jl:215</a></li> <li> +(A::<b>LinearAlgebra.Bidiagonal{var\"#s886\", V} where {var\"#s886\"<:Number, V<:AbstractVector{var\"#s886\"}}</b>, B::<b>LinearAlgebra.UniformScaling</b>) in LinearAlgebra at <a href=\"file://C:/workdir/usr/share/julia/stdlib/v1.8/LinearAlgebra/src/special.jl\" target=\"_blank\">C:\\julia184\\Julia-1.8.4\\share\\julia\\stdlib\\v1.8\\LinearAlgebra\\src\\special.jl:248</a></li> <li> +(x::<b>Dates.Instant</b>) in Dates at <a href=\"file://C:/workdir/usr/share/julia/stdlib/v1.8/Dates/src/arithmetic.jl\" target=\"_blank\">C:\\julia184\\Julia-1.8.4\\share\\julia\\stdlib\\v1.8\\Dates\\src\\arithmetic.jl:4</a></li> <li> +(x::<b>Dates.AbstractTime</b>, y::<b>Missing</b>) in Dates at <a href=\"file://C:/workdir/usr/share/julia/stdlib/v1.8/Dates/src/arithmetic.jl\" target=\"_blank\">C:\\julia184\\Julia-1.8.4\\share\\julia\\stdlib\\v1.8\\Dates\\src\\arithmetic.jl:88</a></li> <li> +(F::<b>LinearAlgebra.Hessenberg</b>, J::<b>LinearAlgebra.UniformScaling</b>) in LinearAlgebra at <a href=\"file://C:/workdir/usr/share/julia/stdlib/v1.8/LinearAlgebra/src/hessenberg.jl\" target=\"_blank\">C:\\julia184\\Julia-1.8.4\\share\\julia\\stdlib\\v1.8\\LinearAlgebra\\src\\hessenberg.jl:641</a></li> <li> +(A::<b>LinearAlgebra.Symmetric</b>, B::<b>LinearAlgebra.Symmetric</b>) in LinearAlgebra at <a href=\"file://C:/workdir/usr/share/julia/stdlib/v1.8/LinearAlgebra/src/symmetric.jl\" target=\"_blank\">C:\\julia184\\Julia-1.8.4\\share\\julia\\stdlib\\v1.8\\LinearAlgebra\\src\\symmetric.jl:469</a></li> <li> +(A::<b>LinearAlgebra.Symmetric</b>, B::<b>LinearAlgebra.SymTridiagonal</b>) in LinearAlgebra at <a href=\"file://C:/workdir/usr/share/julia/stdlib/v1.8/LinearAlgebra/src/symmetric.jl\" target=\"_blank\">C:\\julia184\\Julia-1.8.4\\share\\julia\\stdlib\\v1.8\\LinearAlgebra\\src\\symmetric.jl:486</a></li> <li> +(S::<b>LinearAlgebra.Symmetric</b>, D::<b>LinearAlgebra.Diagonal</b>) in LinearAlgebra at <a href=\"file://C:/workdir/usr/share/julia/stdlib/v1.8/LinearAlgebra/src/diagonal.jl\" target=\"_blank\">C:\\julia184\\Julia-1.8.4\\share\\julia\\stdlib\\v1.8\\LinearAlgebra\\src\\diagonal.jl:191</a></li> <li> +(A::<b>LinearAlgebra.Symmetric{<:Any, <:SparseArrays.AbstractSparseMatrix}</b>, B::<b>SparseArrays.AbstractSparseMatrix</b>) in SparseArrays at <a href=\"file://C:/workdir/usr/share/julia/stdlib/v1.8/SparseArrays/src/linalg.jl\" target=\"_blank\">C:\\julia184\\Julia-1.8.4\\share\\julia\\stdlib\\v1.8\\SparseArrays\\src\\linalg.jl:15</a></li> <li> +(A::<b>LinearAlgebra.Symmetric</b>, B::<b>SparseArrays.AbstractSparseMatrix</b>) in SparseArrays at <a href=\"file://C:/workdir/usr/share/julia/stdlib/v1.8/SparseArrays/src/linalg.jl\" target=\"_blank\">C:\\julia184\\Julia-1.8.4\\share\\julia\\stdlib\\v1.8\\SparseArrays\\src\\linalg.jl:18</a></li> <li> +(A::<b>LinearAlgebra.Symmetric{<:Real, <:SparseArrays.AbstractSparseMatrix}</b>, B::<b>LinearAlgebra.Hermitian{<:Any, <:SparseArrays.AbstractSparseMatrix}</b>) in SparseArrays at <a href=\"file://C:/workdir/usr/share/julia/stdlib/v1.8/SparseArrays/src/linalg.jl\" target=\"_blank\">C:\\julia184\\Julia-1.8.4\\share\\julia\\stdlib\\v1.8\\SparseArrays\\src\\linalg.jl:25</a></li> <li> +(A::<b>LinearAlgebra.Symmetric{var\"#s885\", S} where {var\"#s885\"<:Real, S<:(AbstractMatrix{<:var\"#s885\"})}</b>, B::<b>LinearAlgebra.Hermitian</b>) in LinearAlgebra at <a href=\"file://C:/workdir/usr/share/julia/stdlib/v1.8/LinearAlgebra/src/symmetric.jl\" target=\"_blank\">C:\\julia184\\Julia-1.8.4\\share\\julia\\stdlib\\v1.8\\LinearAlgebra\\src\\symmetric.jl:484</a></li> <li> +(A::<b>LinearAlgebra.Symmetric{<:Any, <:SparseArrays.AbstractSparseMatrix}</b>, B::<b>LinearAlgebra.Hermitian{<:Any, <:SparseArrays.AbstractSparseMatrix}</b>) in SparseArrays at <a href=\"file://C:/workdir/usr/share/julia/stdlib/v1.8/SparseArrays/src/linalg.jl\" target=\"_blank\">C:\\julia184\\Julia-1.8.4\\share\\julia\\stdlib\\v1.8\\SparseArrays\\src\\linalg.jl:23</a></li> <li> +(A::<b>LinearAlgebra.Hermitian</b>, B::<b>LinearAlgebra.Hermitian</b>) in LinearAlgebra at <a href=\"file://C:/workdir/usr/share/julia/stdlib/v1.8/LinearAlgebra/src/symmetric.jl\" target=\"_blank\">C:\\julia184\\Julia-1.8.4\\share\\julia\\stdlib\\v1.8\\LinearAlgebra\\src\\symmetric.jl:469</a></li> <li> +(A::<b>LinearAlgebra.Hermitian</b>, B::<b>LinearAlgebra.SymTridiagonal{var\"#s883\", V} where {var\"#s883\"<:Real, V<:AbstractVector{var\"#s883\"}}</b>) in LinearAlgebra at <a href=\"file://C:/workdir/usr/share/julia/stdlib/v1.8/LinearAlgebra/src/symmetric.jl\" target=\"_blank\">C:\\julia184\\Julia-1.8.4\\share\\julia\\stdlib\\v1.8\\LinearAlgebra\\src\\symmetric.jl:488</a></li> <li> +(H::<b>LinearAlgebra.Hermitian</b>, D::<b>LinearAlgebra.Diagonal{var\"#s886\", V} where {var\"#s886\"<:Real, V<:AbstractVector{var\"#s886\"}}</b>) in LinearAlgebra at <a href=\"file://C:/workdir/usr/share/julia/stdlib/v1.8/LinearAlgebra/src/diagonal.jl\" target=\"_blank\">C:\\julia184\\Julia-1.8.4\\share\\julia\\stdlib\\v1.8\\LinearAlgebra\\src\\diagonal.jl:197</a></li> <li> +(A::<b>LinearAlgebra.Hermitian</b>, J::<b>LinearAlgebra.UniformScaling{<:Complex}</b>) in LinearAlgebra at <a href=\"file://C:/workdir/usr/share/julia/stdlib/v1.8/LinearAlgebra/src/uniformscaling.jl\" target=\"_blank\">C:\\julia184\\Julia-1.8.4\\share\\julia\\stdlib\\v1.8\\LinearAlgebra\\src\\uniformscaling.jl:195</a></li> <li> +(A::<b>LinearAlgebra.Hermitian{<:Any, <:SparseArrays.AbstractSparseMatrix}</b>, B::<b>SparseArrays.AbstractSparseMatrix</b>) in SparseArrays at <a href=\"file://C:/workdir/usr/share/julia/stdlib/v1.8/SparseArrays/src/linalg.jl\" target=\"_blank\">C:\\julia184\\Julia-1.8.4\\share\\julia\\stdlib\\v1.8\\SparseArrays\\src\\linalg.jl:15</a></li> <li> +(A::<b>LinearAlgebra.Hermitian</b>, B::<b>SparseArrays.AbstractSparseMatrix</b>) in SparseArrays at <a href=\"file://C:/workdir/usr/share/julia/stdlib/v1.8/SparseArrays/src/linalg.jl\" target=\"_blank\">C:\\julia184\\Julia-1.8.4\\share\\julia\\stdlib\\v1.8\\SparseArrays\\src\\linalg.jl:18</a></li> <li> +(A::<b>LinearAlgebra.Hermitian{<:Any, <:SparseArrays.AbstractSparseMatrix}</b>, B::<b>LinearAlgebra.Symmetric{<:Real, <:SparseArrays.AbstractSparseMatrix}</b>) in SparseArrays at <a href=\"file://C:/workdir/usr/share/julia/stdlib/v1.8/SparseArrays/src/linalg.jl\" target=\"_blank\">C:\\julia184\\Julia-1.8.4\\share\\julia\\stdlib\\v1.8\\SparseArrays\\src\\linalg.jl:26</a></li> <li> +(A::<b>LinearAlgebra.Hermitian</b>, B::<b>LinearAlgebra.Symmetric{var\"#s886\", S} where {var\"#s886\"<:Real, S<:(AbstractMatrix{<:var\"#s886\"})}</b>) in LinearAlgebra at <a href=\"file://C:/workdir/usr/share/julia/stdlib/v1.8/LinearAlgebra/src/symmetric.jl\" target=\"_blank\">C:\\julia184\\Julia-1.8.4\\share\\julia\\stdlib\\v1.8\\LinearAlgebra\\src\\symmetric.jl:483</a></li> <li> +(A::<b>LinearAlgebra.Hermitian{<:Any, <:SparseArrays.AbstractSparseMatrix}</b>, B::<b>LinearAlgebra.Symmetric{<:Any, <:SparseArrays.AbstractSparseMatrix}</b>) in SparseArrays at <a href=\"file://C:/workdir/usr/share/julia/stdlib/v1.8/SparseArrays/src/linalg.jl\" target=\"_blank\">C:\\julia184\\Julia-1.8.4\\share\\julia\\stdlib\\v1.8\\SparseArrays\\src\\linalg.jl:24</a></li> <li> +(r::<b>AbstractRange{<:Dates.TimeType}</b>, x::<b>Dates.Period</b>) in Dates at <a href=\"file://C:/workdir/usr/share/julia/stdlib/v1.8/Dates/src/ranges.jl\" target=\"_blank\">C:\\julia184\\Julia-1.8.4\\share\\julia\\stdlib\\v1.8\\Dates\\src\\ranges.jl:64</a></li> <li> +(x::<b>AbstractArray{<:Dates.TimeType}</b>, y::<b>Union{Dates.CompoundPeriod, Dates.Period}</b>) in Dates at <a href=\"file://C:/workdir/usr/share/julia/stdlib/v1.8/Dates/src/deprecated.jl\" target=\"_blank\">C:\\julia184\\Julia-1.8.4\\share\\julia\\stdlib\\v1.8\\Dates\\src\\deprecated.jl:6</a></li> <li> +(x::<b>Ptr</b>, y::<b>Integer</b>) in Base at <a href=\"https://github.com/JuliaLang/julia/tree/00177ebc4fcadaaa37c4c2cbca2f9db75ba4d8e3/base/pointer.jl#L159\" target=\"_blank\">pointer.jl:159</a></li> <li> +(r1::<b>OrdinalRange</b>, r2::<b>OrdinalRange</b>) in Base at <a href=\"https://github.com/JuliaLang/julia/tree/00177ebc4fcadaaa37c4c2cbca2f9db75ba4d8e3/base/range.jl#L1423\" target=\"_blank\">range.jl:1423</a></li> <li> +(r1::<b>Union{LinRange, OrdinalRange, StepRangeLen}</b>, r2::<b>Union{LinRange, OrdinalRange, StepRangeLen}</b>) in Base at <a href=\"https://github.com/JuliaLang/julia/tree/00177ebc4fcadaaa37c4c2cbca2f9db75ba4d8e3/base/range.jl#L1439\" target=\"_blank\">range.jl:1439</a></li> <li> +(A::<b>SparseArrays.AbstractSparseMatrixCSC</b>, B::<b>SparseArrays.AbstractSparseMatrixCSC</b>) in SparseArrays at <a href=\"file://C:/workdir/usr/share/julia/stdlib/v1.8/SparseArrays/src/sparsematrix.jl\" target=\"_blank\">C:\\julia184\\Julia-1.8.4\\share\\julia\\stdlib\\v1.8\\SparseArrays\\src\\sparsematrix.jl:1835</a></li> <li> +(A::<b>SparseArrays.AbstractSparseMatrixCSC</b>, B::<b>Array</b>) in SparseArrays at <a href=\"file://C:/workdir/usr/share/julia/stdlib/v1.8/SparseArrays/src/sparsematrix.jl\" target=\"_blank\">C:\\julia184\\Julia-1.8.4\\share\\julia\\stdlib\\v1.8\\SparseArrays\\src\\sparsematrix.jl:1838</a></li> <li> +(A::<b>SparseArrays.AbstractSparseMatrixCSC</b>, J::<b>LinearAlgebra.UniformScaling</b>) in SparseArrays at <a href=\"file://C:/workdir/usr/share/julia/stdlib/v1.8/SparseArrays/src/sparsematrix.jl\" target=\"_blank\">C:\\julia184\\Julia-1.8.4\\share\\julia\\stdlib\\v1.8\\SparseArrays\\src\\sparsematrix.jl:3827</a></li> <li> +(x::<b>SparseArrays.AbstractSparseVector</b>, y::<b>SparseArrays.AbstractSparseVector</b>) in SparseArrays at <a href=\"file://C:/workdir/usr/share/julia/stdlib/v1.8/SparseArrays/src/sparsevector.jl\" target=\"_blank\">C:\\julia184\\Julia-1.8.4\\share\\julia\\stdlib\\v1.8\\SparseArrays\\src\\sparsevector.jl:1394</a></li> <li> +(A::<b>SparseArrays.AbstractSparseMatrix</b>, B::<b>LinearAlgebra.Hermitian{<:Any, <:SparseArrays.AbstractSparseMatrix}</b>) in SparseArrays at <a href=\"file://C:/workdir/usr/share/julia/stdlib/v1.8/SparseArrays/src/linalg.jl\" target=\"_blank\">C:\\julia184\\Julia-1.8.4\\share\\julia\\stdlib\\v1.8\\SparseArrays\\src\\linalg.jl:14</a></li> <li> +(A::<b>SparseArrays.AbstractSparseMatrix</b>, B::<b>LinearAlgebra.Hermitian</b>) in SparseArrays at <a href=\"file://C:/workdir/usr/share/julia/stdlib/v1.8/SparseArrays/src/linalg.jl\" target=\"_blank\">C:\\julia184\\Julia-1.8.4\\share\\julia\\stdlib\\v1.8\\SparseArrays\\src\\linalg.jl:17</a></li> <li> +(A::<b>SparseArrays.AbstractSparseMatrix</b>, B::<b>LinearAlgebra.Symmetric{<:Any, <:SparseArrays.AbstractSparseMatrix}</b>) in SparseArrays at <a href=\"file://C:/workdir/usr/share/julia/stdlib/v1.8/SparseArrays/src/linalg.jl\" target=\"_blank\">C:\\julia184\\Julia-1.8.4\\share\\julia\\stdlib\\v1.8\\SparseArrays\\src\\linalg.jl:14</a></li> <li> +(A::<b>SparseArrays.AbstractSparseMatrix</b>, B::<b>LinearAlgebra.Symmetric</b>) in SparseArrays at <a href=\"file://C:/workdir/usr/share/julia/stdlib/v1.8/SparseArrays/src/linalg.jl\" target=\"_blank\">C:\\julia184\\Julia-1.8.4\\share\\julia\\stdlib\\v1.8\\SparseArrays\\src\\linalg.jl:17</a></li> <li> +(A::<b>LinearAlgebra.SymTridiagonal</b>, B::<b>LinearAlgebra.SymTridiagonal</b>) in LinearAlgebra at <a href=\"file://C:/workdir/usr/share/julia/stdlib/v1.8/LinearAlgebra/src/tridiag.jl\" target=\"_blank\">C:\\julia184\\Julia-1.8.4\\share\\julia\\stdlib\\v1.8\\LinearAlgebra\\src\\tridiag.jl:207</a></li> <li> +(A::<b>LinearAlgebra.SymTridiagonal</b>, B::<b>LinearAlgebra.Symmetric</b>) in LinearAlgebra at <a href=\"file://C:/workdir/usr/share/julia/stdlib/v1.8/LinearAlgebra/src/symmetric.jl\" target=\"_blank\">C:\\julia184\\Julia-1.8.4\\share\\julia\\stdlib\\v1.8\\LinearAlgebra\\src\\symmetric.jl:485</a></li> <li> +(A::<b>LinearAlgebra.SymTridiagonal{var\"#s884\", V} where {var\"#s884\"<:Real, V<:AbstractVector{var\"#s884\"}}</b>, B::<b>LinearAlgebra.Hermitian</b>) in LinearAlgebra at <a href=\"file://C:/workdir/usr/share/julia/stdlib/v1.8/LinearAlgebra/src/symmetric.jl\" target=\"_blank\">C:\\julia184\\Julia-1.8.4\\share\\julia\\stdlib\\v1.8\\LinearAlgebra\\src\\symmetric.jl:487</a></li> <li> +(x::<b>LinearAlgebra.SymTridiagonal</b>, H::<b>LinearAlgebra.UpperHessenberg</b>) in LinearAlgebra at <a href=\"file://C:/workdir/usr/share/julia/stdlib/v1.8/LinearAlgebra/src/hessenberg.jl\" target=\"_blank\">C:\\julia184\\Julia-1.8.4\\share\\julia\\stdlib\\v1.8\\LinearAlgebra\\src\\hessenberg.jl:109</a></li> <li> +(A::<b>LinearAlgebra.SymTridiagonal</b>, B::<b>LinearAlgebra.Diagonal</b>) in LinearAlgebra at <a href=\"file://C:/workdir/usr/share/julia/stdlib/v1.8/LinearAlgebra/src/special.jl\" target=\"_blank\">C:\\julia184\\Julia-1.8.4\\share\\julia\\stdlib\\v1.8\\LinearAlgebra\\src\\special.jl:157</a></li> <li> +(A::<b>LinearAlgebra.SymTridiagonal</b>, B::<b>LinearAlgebra.Tridiagonal</b>) in LinearAlgebra at <a href=\"file://C:/workdir/usr/share/julia/stdlib/v1.8/LinearAlgebra/src/special.jl\" target=\"_blank\">C:\\julia184\\Julia-1.8.4\\share\\julia\\stdlib\\v1.8\\LinearAlgebra\\src\\special.jl:171</a></li> <li> +(A::<b>LinearAlgebra.SymTridiagonal</b>, B::<b>LinearAlgebra.Bidiagonal</b>) in LinearAlgebra at <a href=\"file://C:/workdir/usr/share/julia/stdlib/v1.8/LinearAlgebra/src/special.jl\" target=\"_blank\">C:\\julia184\\Julia-1.8.4\\share\\julia\\stdlib\\v1.8\\LinearAlgebra\\src\\special.jl:225</a></li> <li> +(A::<b>LinearAlgebra.SymTridiagonal{var\"#s886\", V} where {var\"#s886\"<:Number, V<:AbstractVector{var\"#s886\"}}</b>, B::<b>LinearAlgebra.UniformScaling</b>) in LinearAlgebra at <a href=\"file://C:/workdir/usr/share/julia/stdlib/v1.8/LinearAlgebra/src/special.jl\" target=\"_blank\">C:\\julia184\\Julia-1.8.4\\share\\julia\\stdlib\\v1.8\\LinearAlgebra\\src\\special.jl:243</a></li> <li> +(x::<b>P</b>, y::<b>P</b>)<i> where P<:Dates.Period</i> in Dates at <a href=\"file://C:/workdir/usr/share/julia/stdlib/v1.8/Dates/src/periods.jl\" target=\"_blank\">C:\\julia184\\Julia-1.8.4\\share\\julia\\stdlib\\v1.8\\Dates\\src\\periods.jl:77</a></li> <li> +(x::<b>Dates.Period</b>, y::<b>Dates.Period</b>) in Dates at <a href=\"file://C:/workdir/usr/share/julia/stdlib/v1.8/Dates/src/periods.jl\" target=\"_blank\">C:\\julia184\\Julia-1.8.4\\share\\julia\\stdlib\\v1.8\\Dates\\src\\periods.jl:367</a></li> <li> +(y::<b>Dates.Period</b>, x::<b>Dates.CompoundPeriod</b>) in Dates at <a href=\"file://C:/workdir/usr/share/julia/stdlib/v1.8/Dates/src/periods.jl\" target=\"_blank\">C:\\julia184\\Julia-1.8.4\\share\\julia\\stdlib\\v1.8\\Dates\\src\\periods.jl:369</a></li> <li> +(y::<b>Dates.Period</b>, x::<b>Dates.TimeType</b>) in Dates at <a href=\"file://C:/workdir/usr/share/julia/stdlib/v1.8/Dates/src/arithmetic.jl\" target=\"_blank\">C:\\julia184\\Julia-1.8.4\\share\\julia\\stdlib\\v1.8\\Dates\\src\\arithmetic.jl:85</a></li> <li> +(x::<b>Dates.Period</b>, r::<b>AbstractRange{<:Dates.TimeType}</b>) in Dates at <a href=\"file://C:/workdir/usr/share/julia/stdlib/v1.8/Dates/src/ranges.jl\" target=\"_blank\">C:\\julia184\\Julia-1.8.4\\share\\julia\\stdlib\\v1.8\\Dates\\src\\ranges.jl:63</a></li> <li> +(y::<b>Union{Dates.CompoundPeriod, Dates.Period}</b>, x::<b>AbstractArray{<:Dates.TimeType}</b>) in Dates at <a href=\"file://C:/workdir/usr/share/julia/stdlib/v1.8/Dates/src/deprecated.jl\" target=\"_blank\">C:\\julia184\\Julia-1.8.4\\share\\julia\\stdlib\\v1.8\\Dates\\src\\deprecated.jl:14</a></li> <li> +(A::<b>LinearAlgebra.UnitLowerTriangular</b>, B::<b>LinearAlgebra.LowerTriangular</b>) in LinearAlgebra at <a href=\"file://C:/workdir/usr/share/julia/stdlib/v1.8/LinearAlgebra/src/triangular.jl\" target=\"_blank\">C:\\julia184\\Julia-1.8.4\\share\\julia\\stdlib\\v1.8\\LinearAlgebra\\src\\triangular.jl:643</a></li> <li> +(A::<b>LinearAlgebra.UnitLowerTriangular</b>, B::<b>LinearAlgebra.UnitLowerTriangular</b>) in LinearAlgebra at <a href=\"file://C:/workdir/usr/share/julia/stdlib/v1.8/LinearAlgebra/src/triangular.jl\" target=\"_blank\">C:\\julia184\\Julia-1.8.4\\share\\julia\\stdlib\\v1.8\\LinearAlgebra\\src\\triangular.jl:645</a></li> <li> +(UL::<b>LinearAlgebra.UnitLowerTriangular</b>, J::<b>LinearAlgebra.UniformScaling</b>) in LinearAlgebra at <a href=\"file://C:/workdir/usr/share/julia/stdlib/v1.8/LinearAlgebra/src/uniformscaling.jl\" target=\"_blank\">C:\\julia184\\Julia-1.8.4\\share\\julia\\stdlib\\v1.8\\LinearAlgebra\\src\\uniformscaling.jl:181</a></li> <li> +(A::<b>LinearAlgebra.UnitLowerTriangular</b>, B::<b>LinearAlgebra.Bidiagonal</b>) in LinearAlgebra at <a href=\"file://C:/workdir/usr/share/julia/stdlib/v1.8/LinearAlgebra/src/special.jl\" target=\"_blank\">C:\\julia184\\Julia-1.8.4\\share\\julia\\stdlib\\v1.8\\LinearAlgebra\\src\\special.jl:98</a></li> <li> +(A::<b>LinearAlgebra.UpperTriangular</b>, B::<b>LinearAlgebra.UpperTriangular</b>) in LinearAlgebra at <a href=\"file://C:/workdir/usr/share/julia/stdlib/v1.8/LinearAlgebra/src/triangular.jl\" target=\"_blank\">C:\\julia184\\Julia-1.8.4\\share\\julia\\stdlib\\v1.8\\LinearAlgebra\\src\\triangular.jl:638</a></li> <li> +(A::<b>LinearAlgebra.UpperTriangular</b>, B::<b>LinearAlgebra.UnitUpperTriangular</b>) in LinearAlgebra at <a href=\"file://C:/workdir/usr/share/julia/stdlib/v1.8/LinearAlgebra/src/triangular.jl\" target=\"_blank\">C:\\julia184\\Julia-1.8.4\\share\\julia\\stdlib\\v1.8\\LinearAlgebra\\src\\triangular.jl:640</a></li> <li> +(A::<b>LinearAlgebra.AbstractTriangular</b>, B::<b>LinearAlgebra.AbstractTriangular</b>) in LinearAlgebra at <a href=\"file://C:/workdir/usr/share/julia/stdlib/v1.8/LinearAlgebra/src/triangular.jl\" target=\"_blank\">C:\\julia184\\Julia-1.8.4\\share\\julia\\stdlib\\v1.8\\LinearAlgebra\\src\\triangular.jl:646</a></li> <li> +(x::<b>LinearAlgebra.UpperTriangular</b>, H::<b>LinearAlgebra.UpperHessenberg</b>) in LinearAlgebra at <a href=\"file://C:/workdir/usr/share/julia/stdlib/v1.8/LinearAlgebra/src/hessenberg.jl\" target=\"_blank\">C:\\julia184\\Julia-1.8.4\\share\\julia\\stdlib\\v1.8\\LinearAlgebra\\src\\hessenberg.jl:109</a></li> <li> +(A::<b>LinearAlgebra.UpperTriangular</b>, B::<b>LinearAlgebra.Bidiagonal</b>) in LinearAlgebra at <a href=\"file://C:/workdir/usr/share/julia/stdlib/v1.8/LinearAlgebra/src/special.jl\" target=\"_blank\">C:\\julia184\\Julia-1.8.4\\share\\julia\\stdlib\\v1.8\\LinearAlgebra\\src\\special.jl:98</a></li> <li> +(y::<b>AbstractFloat</b>, x::<b>Bool</b>) in Base at <a href=\"https://github.com/JuliaLang/julia/tree/00177ebc4fcadaaa37c4c2cbca2f9db75ba4d8e3/base/bool.jl#L172\" target=\"_blank\">bool.jl:172</a></li> <li> +(J::<b>LinearAlgebra.UniformScaling</b>) in LinearAlgebra at <a href=\"file://C:/workdir/usr/share/julia/stdlib/v1.8/LinearAlgebra/src/uniformscaling.jl\" target=\"_blank\">C:\\julia184\\Julia-1.8.4\\share\\julia\\stdlib\\v1.8\\LinearAlgebra\\src\\uniformscaling.jl:149</a></li> <li> +(J::<b>LinearAlgebra.UniformScaling</b>, x::<b>Number</b>) in LinearAlgebra at <a href=\"file://C:/workdir/usr/share/julia/stdlib/v1.8/LinearAlgebra/src/uniformscaling.jl\" target=\"_blank\">C:\\julia184\\Julia-1.8.4\\share\\julia\\stdlib\\v1.8\\LinearAlgebra\\src\\uniformscaling.jl:144</a></li> <li> +(J1::<b>LinearAlgebra.UniformScaling</b>, J2::<b>LinearAlgebra.UniformScaling</b>) in LinearAlgebra at <a href=\"file://C:/workdir/usr/share/julia/stdlib/v1.8/LinearAlgebra/src/uniformscaling.jl\" target=\"_blank\">C:\\julia184\\Julia-1.8.4\\share\\julia\\stdlib\\v1.8\\LinearAlgebra\\src\\uniformscaling.jl:150</a></li> <li> +(J::<b>LinearAlgebra.UniformScaling</b>, B::<b>BitMatrix</b>) in LinearAlgebra at <a href=\"file://C:/workdir/usr/share/julia/stdlib/v1.8/LinearAlgebra/src/uniformscaling.jl\" target=\"_blank\">C:\\julia184\\Julia-1.8.4\\share\\julia\\stdlib\\v1.8\\LinearAlgebra\\src\\uniformscaling.jl:152</a></li> <li> +(x::<b>LinearAlgebra.UniformScaling</b>, H::<b>LinearAlgebra.UpperHessenberg</b>) in LinearAlgebra at <a href=\"file://C:/workdir/usr/share/julia/stdlib/v1.8/LinearAlgebra/src/hessenberg.jl\" target=\"_blank\">C:\\julia184\\Julia-1.8.4\\share\\julia\\stdlib\\v1.8\\LinearAlgebra\\src\\hessenberg.jl:109</a></li> <li> +(J::<b>LinearAlgebra.UniformScaling</b>, F::<b>LinearAlgebra.Hessenberg</b>) in LinearAlgebra at <a href=\"file://C:/workdir/usr/share/julia/stdlib/v1.8/LinearAlgebra/src/hessenberg.jl\" target=\"_blank\">C:\\julia184\\Julia-1.8.4\\share\\julia\\stdlib\\v1.8\\LinearAlgebra\\src\\hessenberg.jl:642</a></li> <li> +(A::<b>LinearAlgebra.UniformScaling</b>, B::<b>LinearAlgebra.Tridiagonal{var\"#s886\", V} where {var\"#s886\"<:Number, V<:AbstractVector{var\"#s886\"}}</b>) in LinearAlgebra at <a href=\"file://C:/workdir/usr/share/julia/stdlib/v1.8/LinearAlgebra/src/special.jl\" target=\"_blank\">C:\\julia184\\Julia-1.8.4\\share\\julia\\stdlib\\v1.8\\LinearAlgebra\\src\\special.jl:257</a></li> <li> +(A::<b>LinearAlgebra.UniformScaling</b>, B::<b>LinearAlgebra.SymTridiagonal{var\"#s886\", V} where {var\"#s886\"<:Number, V<:AbstractVector{var\"#s886\"}}</b>) in LinearAlgebra at <a href=\"file://C:/workdir/usr/share/julia/stdlib/v1.8/LinearAlgebra/src/special.jl\" target=\"_blank\">C:\\julia184\\Julia-1.8.4\\share\\julia\\stdlib\\v1.8\\LinearAlgebra\\src\\special.jl:262</a></li> <li> +(A::<b>LinearAlgebra.UniformScaling</b>, B::<b>LinearAlgebra.Bidiagonal{var\"#s886\", V} where {var\"#s886\"<:Number, V<:AbstractVector{var\"#s886\"}}</b>) in LinearAlgebra at <a href=\"file://C:/workdir/usr/share/julia/stdlib/v1.8/LinearAlgebra/src/special.jl\" target=\"_blank\">C:\\julia184\\Julia-1.8.4\\share\\julia\\stdlib\\v1.8\\LinearAlgebra\\src\\special.jl:267</a></li> <li> +(A::<b>LinearAlgebra.UniformScaling</b>, B::<b>LinearAlgebra.Diagonal{var\"#s886\", V} where {var\"#s886\"<:Number, V<:AbstractVector{var\"#s886\"}}</b>) in LinearAlgebra at <a href=\"file://C:/workdir/usr/share/julia/stdlib/v1.8/LinearAlgebra/src/special.jl\" target=\"_blank\">C:\\julia184\\Julia-1.8.4\\share\\julia\\stdlib\\v1.8\\LinearAlgebra\\src\\special.jl:272</a></li> <li> +(J::<b>LinearAlgebra.UniformScaling</b>, A::<b>AbstractMatrix</b>) in LinearAlgebra at <a href=\"file://C:/workdir/usr/share/julia/stdlib/v1.8/LinearAlgebra/src/uniformscaling.jl\" target=\"_blank\">C:\\julia184\\Julia-1.8.4\\share\\julia\\stdlib\\v1.8\\LinearAlgebra\\src\\uniformscaling.jl:153</a></li> <li> +(x::<b>Rational</b>, y::<b>Integer</b>) in Base at <a href=\"https://github.com/JuliaLang/julia/tree/00177ebc4fcadaaa37c4c2cbca2f9db75ba4d8e3/base/rational.jl#L313\" target=\"_blank\">rational.jl:313</a></li> <li> +(A::<b>Array</b>, Bs::<b>Array...</b>) in Base at <a href=\"https://github.com/JuliaLang/julia/tree/00177ebc4fcadaaa37c4c2cbca2f9db75ba4d8e3/base/arraymath.jl#L12\" target=\"_blank\">arraymath.jl:12</a></li> <li> +(X::<b>StridedArray{<:Union{Dates.CompoundPeriod, Dates.Period}}</b>, Y::<b>StridedArray{<:Union{Dates.CompoundPeriod, Dates.Period}}</b>) in Dates at <a href=\"file://C:/workdir/usr/share/julia/stdlib/v1.8/Dates/src/deprecated.jl\" target=\"_blank\">C:\\julia184\\Julia-1.8.4\\share\\julia\\stdlib\\v1.8\\Dates\\src\\deprecated.jl:62</a></li> <li> +(A::<b>Array</b>, B::<b>SparseArrays.AbstractSparseMatrixCSC</b>) in SparseArrays at <a href=\"file://C:/workdir/usr/share/julia/stdlib/v1.8/SparseArrays/src/sparsematrix.jl\" target=\"_blank\">C:\\julia184\\Julia-1.8.4\\share\\julia\\stdlib\\v1.8\\SparseArrays\\src\\sparsematrix.jl:1839</a></li> <li> +(x::<b>StridedArray{<:Union{Dates.CompoundPeriod, Dates.Period}}</b>) in Dates at <a href=\"file://C:/workdir/usr/share/julia/stdlib/v1.8/Dates/src/deprecated.jl\" target=\"_blank\">C:\\julia184\\Julia-1.8.4\\share\\julia\\stdlib\\v1.8\\Dates\\src\\deprecated.jl:55</a></li> <li> +(x::<b>StridedArray{<:Union{Dates.CompoundPeriod, Dates.Period}}</b>, y::<b>Dates.TimeType</b>) in Dates at <a href=\"file://C:/workdir/usr/share/julia/stdlib/v1.8/Dates/src/deprecated.jl\" target=\"_blank\">C:\\julia184\\Julia-1.8.4\\share\\julia\\stdlib\\v1.8\\Dates\\src\\deprecated.jl:10</a></li> <li> +(A::<b>AbstractArray</b>, B::<b>AbstractArray</b>) in Base at <a href=\"https://github.com/JuliaLang/julia/tree/00177ebc4fcadaaa37c4c2cbca2f9db75ba4d8e3/base/arraymath.jl#L6\" target=\"_blank\">arraymath.jl:6</a></li> <li> +(x::<b>Dates.Time</b>, y::<b>Dates.TimePeriod</b>) in Dates at <a href=\"file://C:/workdir/usr/share/julia/stdlib/v1.8/Dates/src/arithmetic.jl\" target=\"_blank\">C:\\julia184\\Julia-1.8.4\\share\\julia\\stdlib\\v1.8\\Dates\\src\\arithmetic.jl:83</a></li> <li> +(t::<b>Dates.Time</b>, dt::<b>Dates.Date</b>) in Dates at <a href=\"file://C:/workdir/usr/share/julia/stdlib/v1.8/Dates/src/arithmetic.jl\" target=\"_blank\">C:\\julia184\\Julia-1.8.4\\share\\julia\\stdlib\\v1.8\\Dates\\src\\arithmetic.jl:20</a></li> <li> +(dt::<b>Dates.Date</b>, t::<b>Dates.Time</b>) in Dates at <a href=\"file://C:/workdir/usr/share/julia/stdlib/v1.8/Dates/src/arithmetic.jl\" target=\"_blank\">C:\\julia184\\Julia-1.8.4\\share\\julia\\stdlib\\v1.8\\Dates\\src\\arithmetic.jl:19</a></li> <li> +(dt::<b>Dates.Date</b>, y::<b>Dates.Year</b>) in Dates at <a href=\"file://C:/workdir/usr/share/julia/stdlib/v1.8/Dates/src/arithmetic.jl\" target=\"_blank\">C:\\julia184\\Julia-1.8.4\\share\\julia\\stdlib\\v1.8\\Dates\\src\\arithmetic.jl:27</a></li> <li> +(dt::<b>Dates.Date</b>, z::<b>Dates.Month</b>) in Dates at <a href=\"file://C:/workdir/usr/share/julia/stdlib/v1.8/Dates/src/arithmetic.jl\" target=\"_blank\">C:\\julia184\\Julia-1.8.4\\share\\julia\\stdlib\\v1.8\\Dates\\src\\arithmetic.jl:54</a></li> <li> +(x::<b>Dates.Date</b>, y::<b>Dates.Quarter</b>) in Dates at <a href=\"file://C:/workdir/usr/share/julia/stdlib/v1.8/Dates/src/arithmetic.jl\" target=\"_blank\">C:\\julia184\\Julia-1.8.4\\share\\julia\\stdlib\\v1.8\\Dates\\src\\arithmetic.jl:73</a></li> <li> +(x::<b>Dates.Date</b>, y::<b>Dates.Week</b>) in Dates at <a href=\"file://C:/workdir/usr/share/julia/stdlib/v1.8/Dates/src/arithmetic.jl\" target=\"_blank\">C:\\julia184\\Julia-1.8.4\\share\\julia\\stdlib\\v1.8\\Dates\\src\\arithmetic.jl:77</a></li> <li> +(x::<b>Dates.Date</b>, y::<b>Dates.Day</b>) in Dates at <a href=\"file://C:/workdir/usr/share/julia/stdlib/v1.8/Dates/src/arithmetic.jl\" target=\"_blank\">C:\\julia184\\Julia-1.8.4\\share\\julia\\stdlib\\v1.8\\Dates\\src\\arithmetic.jl:79</a></li> <li> +(x::<b>Dates.CompoundPeriod</b>, y::<b>Dates.Period</b>) in Dates at <a href=\"file://C:/workdir/usr/share/julia/stdlib/v1.8/Dates/src/periods.jl\" target=\"_blank\">C:\\julia184\\Julia-1.8.4\\share\\julia\\stdlib\\v1.8\\Dates\\src\\periods.jl:368</a></li> <li> +(x::<b>Dates.CompoundPeriod</b>, y::<b>Dates.TimeType</b>) in Dates at <a href=\"file://C:/workdir/usr/share/julia/stdlib/v1.8/Dates/src/periods.jl\" target=\"_blank\">C:\\julia184\\Julia-1.8.4\\share\\julia\\stdlib\\v1.8\\Dates\\src\\periods.jl:398</a></li> <li> +(x::<b>Dates.CompoundPeriod</b>, y::<b>Dates.CompoundPeriod</b>) in Dates at <a href=\"file://C:/workdir/usr/share/julia/stdlib/v1.8/Dates/src/periods.jl\" target=\"_blank\">C:\\julia184\\Julia-1.8.4\\share\\julia\\stdlib\\v1.8\\Dates\\src\\periods.jl:370</a></li> <li> +(level::<b>Base.CoreLogging.LogLevel</b>, inc::<b>Integer</b>) in Base.CoreLogging at <a href=\"https://github.com/JuliaLang/julia/tree/00177ebc4fcadaaa37c4c2cbca2f9db75ba4d8e3/base/logging.jl#L131\" target=\"_blank\">logging.jl:131</a></li> <li> +(x::<b>Bool</b>) in Base at <a href=\"https://github.com/JuliaLang/julia/tree/00177ebc4fcadaaa37c4c2cbca2f9db75ba4d8e3/base/bool.jl#L159\" target=\"_blank\">bool.jl:159</a></li> <li> +(x::<b>Integer</b>, y::<b>Ptr</b>) in Base at <a href=\"https://github.com/JuliaLang/julia/tree/00177ebc4fcadaaa37c4c2cbca2f9db75ba4d8e3/base/pointer.jl#L161\" target=\"_blank\">pointer.jl:161</a></li> <li> +(y::<b>Integer</b>, x::<b>Rational</b>) in Base at <a href=\"https://github.com/JuliaLang/julia/tree/00177ebc4fcadaaa37c4c2cbca2f9db75ba4d8e3/base/rational.jl#L320\" target=\"_blank\">rational.jl:320</a></li> <li> +(x::<b>Integer</b>, y::<b>AbstractChar</b>) in Base at <a href=\"https://github.com/JuliaLang/julia/tree/00177ebc4fcadaaa37c4c2cbca2f9db75ba4d8e3/base/char.jl#L247\" target=\"_blank\">char.jl:247</a></li> <li> +(x::<b>Bool</b>, y::<b>T</b>)<i> where T<:AbstractFloat</i> in Base at <a href=\"https://github.com/JuliaLang/julia/tree/00177ebc4fcadaaa37c4c2cbca2f9db75ba4d8e3/base/bool.jl#L169\" target=\"_blank\">bool.jl:169</a></li> <li> +(x::<b>Bool</b>, y::<b>Bool</b>) in Base at <a href=\"https://github.com/JuliaLang/julia/tree/00177ebc4fcadaaa37c4c2cbca2f9db75ba4d8e3/base/bool.jl#L162\" target=\"_blank\">bool.jl:162</a></li> <li> +(x::<b>Bool</b>, z::<b>Complex{Bool}</b>) in Base at <a href=\"https://github.com/JuliaLang/julia/tree/00177ebc4fcadaaa37c4c2cbca2f9db75ba4d8e3/base/complex.jl#L299\" target=\"_blank\">complex.jl:299</a></li> <li> +(x::<b>Bool</b>, z::<b>Complex</b>) in Base at <a href=\"https://github.com/JuliaLang/julia/tree/00177ebc4fcadaaa37c4c2cbca2f9db75ba4d8e3/base/complex.jl#L306\" target=\"_blank\">complex.jl:306</a></li> <li> +(dt::<b>Dates.DateTime</b>, y::<b>Dates.Year</b>) in Dates at <a href=\"file://C:/workdir/usr/share/julia/stdlib/v1.8/Dates/src/arithmetic.jl\" target=\"_blank\">C:\\julia184\\Julia-1.8.4\\share\\julia\\stdlib\\v1.8\\Dates\\src\\arithmetic.jl:23</a></li> <li> +(dt::<b>Dates.DateTime</b>, z::<b>Dates.Month</b>) in Dates at <a href=\"file://C:/workdir/usr/share/julia/stdlib/v1.8/Dates/src/arithmetic.jl\" target=\"_blank\">C:\\julia184\\Julia-1.8.4\\share\\julia\\stdlib\\v1.8\\Dates\\src\\arithmetic.jl:47</a></li> <li> +(x::<b>Dates.DateTime</b>, y::<b>Dates.Quarter</b>) in Dates at <a href=\"file://C:/workdir/usr/share/julia/stdlib/v1.8/Dates/src/arithmetic.jl\" target=\"_blank\">C:\\julia184\\Julia-1.8.4\\share\\julia\\stdlib\\v1.8\\Dates\\src\\arithmetic.jl:75</a></li> <li> +(x::<b>Dates.DateTime</b>, y::<b>Dates.Period</b>) in Dates at <a href=\"file://C:/workdir/usr/share/julia/stdlib/v1.8/Dates/src/arithmetic.jl\" target=\"_blank\">C:\\julia184\\Julia-1.8.4\\share\\julia\\stdlib\\v1.8\\Dates\\src\\arithmetic.jl:81</a></li> <li> +(x::<b>Dates.TimeType</b>) in Dates at <a href=\"file://C:/workdir/usr/share/julia/stdlib/v1.8/Dates/src/arithmetic.jl\" target=\"_blank\">C:\\julia184\\Julia-1.8.4\\share\\julia\\stdlib\\v1.8\\Dates\\src\\arithmetic.jl:8</a></li> <li> +(a::<b>Dates.TimeType</b>, b::<b>Dates.Period</b>, c::<b>Dates.Period</b>) in Dates at <a href=\"file://C:/workdir/usr/share/julia/stdlib/v1.8/Dates/src/periods.jl\" target=\"_blank\">C:\\julia184\\Julia-1.8.4\\share\\julia\\stdlib\\v1.8\\Dates\\src\\periods.jl:389</a></li> <li> +(a::<b>Dates.TimeType</b>, b::<b>Dates.Period</b>, c::<b>Dates.Period</b>, d::<b>Dates.Period...</b>) in Dates at <a href=\"file://C:/workdir/usr/share/julia/stdlib/v1.8/Dates/src/periods.jl\" target=\"_blank\">C:\\julia184\\Julia-1.8.4\\share\\julia\\stdlib\\v1.8\\Dates\\src\\periods.jl:390</a></li> <li> +(x::<b>Dates.TimeType</b>, y::<b>Dates.CompoundPeriod</b>) in Dates at <a href=\"file://C:/workdir/usr/share/julia/stdlib/v1.8/Dates/src/periods.jl\" target=\"_blank\">C:\\julia184\\Julia-1.8.4\\share\\julia\\stdlib\\v1.8\\Dates\\src\\periods.jl:392</a></li> <li> +(x::<b>BigInt</b>, c::<b>Union{UInt16, UInt32, UInt8}</b>) in Base.GMP at <a href=\"https://github.com/JuliaLang/julia/tree/00177ebc4fcadaaa37c4c2cbca2f9db75ba4d8e3/base/gmp.jl#L530\" target=\"_blank\">gmp.jl:530</a></li> <li> +(x::<b>BigInt</b>, c::<b>Union{Int16, Int32, Int8}</b>) in Base.GMP at <a href=\"https://github.com/JuliaLang/julia/tree/00177ebc4fcadaaa37c4c2cbca2f9db75ba4d8e3/base/gmp.jl#L536\" target=\"_blank\">gmp.jl:536</a></li> <li> +(x::<b>BigInt</b>, y::<b>BigInt</b>) in Base.GMP at <a href=\"https://github.com/JuliaLang/julia/tree/00177ebc4fcadaaa37c4c2cbca2f9db75ba4d8e3/base/gmp.jl#L482\" target=\"_blank\">gmp.jl:482</a></li> <li> +(a::<b>BigInt</b>, b::<b>BigInt</b>, c::<b>BigInt</b>) in Base.GMP at <a href=\"https://github.com/JuliaLang/julia/tree/00177ebc4fcadaaa37c4c2cbca2f9db75ba4d8e3/base/gmp.jl#L522\" target=\"_blank\">gmp.jl:522</a></li> <li> +(a::<b>BigInt</b>, b::<b>BigInt</b>, c::<b>BigInt</b>, d::<b>BigInt</b>) in Base.GMP at <a href=\"https://github.com/JuliaLang/julia/tree/00177ebc4fcadaaa37c4c2cbca2f9db75ba4d8e3/base/gmp.jl#L523\" target=\"_blank\">gmp.jl:523</a></li> <li> +(a::<b>BigInt</b>, b::<b>BigInt</b>, c::<b>BigInt</b>, d::<b>BigInt</b>, e::<b>BigInt</b>) in Base.GMP at <a href=\"https://github.com/JuliaLang/julia/tree/00177ebc4fcadaaa37c4c2cbca2f9db75ba4d8e3/base/gmp.jl#L524\" target=\"_blank\">gmp.jl:524</a></li> <li> +(x::<b>BigInt</b>, y::<b>BigInt</b>, rest::<b>BigInt...</b>) in Base.GMP at <a href=\"https://github.com/JuliaLang/julia/tree/00177ebc4fcadaaa37c4c2cbca2f9db75ba4d8e3/base/gmp.jl#L657\" target=\"_blank\">gmp.jl:657</a></li> <li> +(a::<b>Integer</b>, b::<b>Integer</b>) in Base at <a href=\"https://github.com/JuliaLang/julia/tree/00177ebc4fcadaaa37c4c2cbca2f9db75ba4d8e3/base/int.jl#L987\" target=\"_blank\">int.jl:987</a></li> <li> +(c::<b>BigInt</b>, x::<b>BigFloat</b>) in Base.MPFR at <a href=\"https://github.com/JuliaLang/julia/tree/00177ebc4fcadaaa37c4c2cbca2f9db75ba4d8e3/base/mpfr.jl#L422\" target=\"_blank\">mpfr.jl:422</a></li> <li> +(::<b>Missing</b>) in Base at <a href=\"https://github.com/JuliaLang/julia/tree/00177ebc4fcadaaa37c4c2cbca2f9db75ba4d8e3/base/missing.jl#L101\" target=\"_blank\">missing.jl:101</a></li> <li> +(::<b>Missing</b>, ::<b>Number</b>) in Base at <a href=\"https://github.com/JuliaLang/julia/tree/00177ebc4fcadaaa37c4c2cbca2f9db75ba4d8e3/base/missing.jl#L123\" target=\"_blank\">missing.jl:123</a></li> <li> +(x::<b>Missing</b>, y::<b>Dates.AbstractTime</b>) in Dates at <a href=\"file://C:/workdir/usr/share/julia/stdlib/v1.8/Dates/src/arithmetic.jl\" target=\"_blank\">C:\\julia184\\Julia-1.8.4\\share\\julia\\stdlib\\v1.8\\Dates\\src\\arithmetic.jl:89</a></li> <li> +(::<b>Missing</b>, ::<b>Missing</b>) in Base at <a href=\"https://github.com/JuliaLang/julia/tree/00177ebc4fcadaaa37c4c2cbca2f9db75ba4d8e3/base/missing.jl#L122\" target=\"_blank\">missing.jl:122</a></li> <li> +(B::<b>BitMatrix</b>, J::<b>LinearAlgebra.UniformScaling</b>) in LinearAlgebra at <a href=\"file://C:/workdir/usr/share/julia/stdlib/v1.8/LinearAlgebra/src/uniformscaling.jl\" target=\"_blank\">C:\\julia184\\Julia-1.8.4\\share\\julia\\stdlib\\v1.8\\LinearAlgebra\\src\\uniformscaling.jl:151</a></li> <li> +(A::<b>AbstractMatrix</b>, J::<b>LinearAlgebra.UniformScaling</b>) in LinearAlgebra at <a href=\"file://C:/workdir/usr/share/julia/stdlib/v1.8/LinearAlgebra/src/uniformscaling.jl\" target=\"_blank\">C:\\julia184\\Julia-1.8.4\\share\\julia\\stdlib\\v1.8\\LinearAlgebra\\src\\uniformscaling.jl:214</a></li> <li> +(x::<b>AbstractArray{<:Number}</b>) in Base at <a href=\"https://github.com/JuliaLang/julia/tree/00177ebc4fcadaaa37c4c2cbca2f9db75ba4d8e3/base/abstractarraymath.jl#L220\" target=\"_blank\">abstractarraymath.jl:220</a></li> <li> +(x::<b>BigFloat</b>, c::<b>Union{UInt16, UInt32, UInt8}</b>) in Base.MPFR at <a href=\"https://github.com/JuliaLang/julia/tree/00177ebc4fcadaaa37c4c2cbca2f9db75ba4d8e3/base/mpfr.jl#L393\" target=\"_blank\">mpfr.jl:393</a></li> <li> +(x::<b>BigFloat</b>, c::<b>Union{Int16, Int32, Int8}</b>) in Base.MPFR at <a href=\"https://github.com/JuliaLang/julia/tree/00177ebc4fcadaaa37c4c2cbca2f9db75ba4d8e3/base/mpfr.jl#L401\" target=\"_blank\">mpfr.jl:401</a></li> <li> +(x::<b>BigFloat</b>, c::<b>Union{Float16, Float32, Float64}</b>) in Base.MPFR at <a href=\"https://github.com/JuliaLang/julia/tree/00177ebc4fcadaaa37c4c2cbca2f9db75ba4d8e3/base/mpfr.jl#L409\" target=\"_blank\">mpfr.jl:409</a></li> <li> +(x::<b>BigFloat</b>, y::<b>BigFloat</b>) in Base.MPFR at <a href=\"https://github.com/JuliaLang/julia/tree/00177ebc4fcadaaa37c4c2cbca2f9db75ba4d8e3/base/mpfr.jl#L386\" target=\"_blank\">mpfr.jl:386</a></li> <li> +(x::<b>BigFloat</b>, c::<b>BigInt</b>) in Base.MPFR at <a href=\"https://github.com/JuliaLang/julia/tree/00177ebc4fcadaaa37c4c2cbca2f9db75ba4d8e3/base/mpfr.jl#L417\" target=\"_blank\">mpfr.jl:417</a></li> <li> +(a::<b>BigFloat</b>, b::<b>BigFloat</b>, c::<b>BigFloat</b>) in Base.MPFR at <a href=\"https://github.com/JuliaLang/julia/tree/00177ebc4fcadaaa37c4c2cbca2f9db75ba4d8e3/base/mpfr.jl#L558\" target=\"_blank\">mpfr.jl:558</a></li> <li> +(a::<b>BigFloat</b>, b::<b>BigFloat</b>, c::<b>BigFloat</b>, d::<b>BigFloat</b>) in Base.MPFR at <a href=\"https://github.com/JuliaLang/julia/tree/00177ebc4fcadaaa37c4c2cbca2f9db75ba4d8e3/base/mpfr.jl#L564\" target=\"_blank\">mpfr.jl:564</a></li> <li> +(a::<b>BigFloat</b>, b::<b>BigFloat</b>, c::<b>BigFloat</b>, d::<b>BigFloat</b>, e::<b>BigFloat</b>) in Base.MPFR at <a href=\"https://github.com/JuliaLang/julia/tree/00177ebc4fcadaaa37c4c2cbca2f9db75ba4d8e3/base/mpfr.jl#L571\" target=\"_blank\">mpfr.jl:571</a></li> <li> +(a::<b>Pkg.Resolve.FieldValue</b>, b::<b>Pkg.Resolve.FieldValue</b>) in Pkg.Resolve at <a href=\"file://C:/workdir/usr/share/julia/stdlib/v1.8/Pkg/src/Resolve/fieldvalues.jl\" target=\"_blank\">C:\\julia184\\Julia-1.8.4\\share\\julia\\stdlib\\v1.8\\Pkg\\src\\Resolve\\fieldvalues.jl:43</a></li> <li> +(a::<b>Pkg.Resolve.VersionWeight</b>, b::<b>Pkg.Resolve.VersionWeight</b>) in Pkg.Resolve at <a href=\"file://C:/workdir/usr/share/julia/stdlib/v1.8/Pkg/src/Resolve/versionweights.jl\" target=\"_blank\">C:\\julia184\\Julia-1.8.4\\share\\julia\\stdlib\\v1.8\\Pkg\\src\\Resolve\\versionweights.jl:22</a></li> <li> +(x::<b>Rational{BigInt}</b>, y::<b>Rational{BigInt}</b>) in Base.GMP.MPQ at <a href=\"https://github.com/JuliaLang/julia/tree/00177ebc4fcadaaa37c4c2cbca2f9db75ba4d8e3/base/gmp.jl#L922\" target=\"_blank\">gmp.jl:922</a></li> <li> +(x::<b>Rational</b>) in Base at <a href=\"https://github.com/JuliaLang/julia/tree/00177ebc4fcadaaa37c4c2cbca2f9db75ba4d8e3/base/rational.jl#L270\" target=\"_blank\">rational.jl:270</a></li> <li> +(x::<b>Real</b>, z::<b>Complex{Bool}</b>) in Base at <a href=\"https://github.com/JuliaLang/julia/tree/00177ebc4fcadaaa37c4c2cbca2f9db75ba4d8e3/base/complex.jl#L313\" target=\"_blank\">complex.jl:313</a></li> <li> +(x::<b>Real</b>, z::<b>Complex</b>) in Base at <a href=\"https://github.com/JuliaLang/julia/tree/00177ebc4fcadaaa37c4c2cbca2f9db75ba4d8e3/base/complex.jl#L325\" target=\"_blank\">complex.jl:325</a></li> <li> +(x::<b>Number</b>, y::<b>Base.TwicePrecision</b>) in Base at <a href=\"https://github.com/JuliaLang/julia/tree/00177ebc4fcadaaa37c4c2cbca2f9db75ba4d8e3/base/twiceprecision.jl#L294\" target=\"_blank\">twiceprecision.jl:294</a></li> <li> +(::<b>Number</b>, ::<b>Missing</b>) in Base at <a href=\"https://github.com/JuliaLang/julia/tree/00177ebc4fcadaaa37c4c2cbca2f9db75ba4d8e3/base/missing.jl#L124\" target=\"_blank\">missing.jl:124</a></li> <li> +(x::<b>Number</b>, J::<b>LinearAlgebra.UniformScaling</b>) in LinearAlgebra at <a href=\"file://C:/workdir/usr/share/julia/stdlib/v1.8/LinearAlgebra/src/uniformscaling.jl\" target=\"_blank\">C:\\julia184\\Julia-1.8.4\\share\\julia\\stdlib\\v1.8\\LinearAlgebra\\src\\uniformscaling.jl:145</a></li> <li> +(x::<b>Rational</b>, y::<b>Rational</b>) in Base at <a href=\"https://github.com/JuliaLang/julia/tree/00177ebc4fcadaaa37c4c2cbca2f9db75ba4d8e3/base/rational.jl#L284\" target=\"_blank\">rational.jl:284</a></li> <li> +(z::<b>Complex{Bool}</b>, x::<b>Bool</b>) in Base at <a href=\"https://github.com/JuliaLang/julia/tree/00177ebc4fcadaaa37c4c2cbca2f9db75ba4d8e3/base/complex.jl#L300\" target=\"_blank\">complex.jl:300</a></li> <li> +(z::<b>Complex</b>, x::<b>Bool</b>) in Base at <a href=\"https://github.com/JuliaLang/julia/tree/00177ebc4fcadaaa37c4c2cbca2f9db75ba4d8e3/base/complex.jl#L307\" target=\"_blank\">complex.jl:307</a></li> <li> +(z::<b>Complex{Bool}</b>, x::<b>Real</b>) in Base at <a href=\"https://github.com/JuliaLang/julia/tree/00177ebc4fcadaaa37c4c2cbca2f9db75ba4d8e3/base/complex.jl#L314\" target=\"_blank\">complex.jl:314</a></li> <li> +(z::<b>Complex</b>) in Base at <a href=\"https://github.com/JuliaLang/julia/tree/00177ebc4fcadaaa37c4c2cbca2f9db75ba4d8e3/base/complex.jl#L286\" target=\"_blank\">complex.jl:286</a></li> <li> +(z::<b>Complex</b>, x::<b>Real</b>) in Base at <a href=\"https://github.com/JuliaLang/julia/tree/00177ebc4fcadaaa37c4c2cbca2f9db75ba4d8e3/base/complex.jl#L326\" target=\"_blank\">complex.jl:326</a></li> <li> +(x::<b>Number</b>) in Base at <a href=\"https://github.com/JuliaLang/julia/tree/00177ebc4fcadaaa37c4c2cbca2f9db75ba4d8e3/base/operators.jl#L528\" target=\"_blank\">operators.jl:528</a></li> <li> +(x::<b>T</b>, y::<b>T</b>)<i> where T<:Number</i> in Base at <a href=\"https://github.com/JuliaLang/julia/tree/00177ebc4fcadaaa37c4c2cbca2f9db75ba4d8e3/base/promotion.jl#L463\" target=\"_blank\">promotion.jl:463</a></li> <li> +(x::<b>Number</b>, y::<b>Number</b>) in Base at <a href=\"https://github.com/JuliaLang/julia/tree/00177ebc4fcadaaa37c4c2cbca2f9db75ba4d8e3/base/promotion.jl#L388\" target=\"_blank\">promotion.jl:388</a></li> <li> +(a, b, c, xs...) in Base at <a href=\"https://github.com/JuliaLang/julia/tree/00177ebc4fcadaaa37c4c2cbca2f9db75ba4d8e3/base/operators.jl#L591\" target=\"_blank\">operators.jl:591</a></li> </ul>"
      ],
      "text/plain": [
       "# 206 methods for generic function \"+\":\n",
       "[1] +(x::T, y::T) where T<:Union{Int128, Int16, Int32, Int64, Int8, UInt128, UInt16, UInt32, UInt64, UInt8} in Base at int.jl:87\n",
       "[2] +(x::T, y::T) where T<:Union{Float16, Float32, Float64} in Base at float.jl:383\n",
       "[3] +(c::Union{UInt16, UInt32, UInt8}, x::BigInt) in Base.GMP at gmp.jl:531\n",
       "[4] +(c::Union{Int16, Int32, Int8}, x::BigInt) in Base.GMP at gmp.jl:537\n",
       "[5] +(c::Union{UInt16, UInt32, UInt8}, x::BigFloat) in Base.MPFR at mpfr.jl:398\n",
       "[6] +(c::Union{Int16, Int32, Int8}, x::BigFloat) in Base.MPFR at mpfr.jl:406\n",
       "[7] +(c::Union{Float16, Float32, Float64}, x::BigFloat) in Base.MPFR at mpfr.jl:414\n",
       "[8] +(x::Union{Dates.CompoundPeriod, Dates.Period}) in Dates at C:\\julia184\\Julia-1.8.4\\share\\julia\\stdlib\\v1.8\\Dates\\src\\periods.jl:378\n",
       "[9] +(Da::LinearAlgebra.Diagonal, Db::LinearAlgebra.Diagonal) in LinearAlgebra at C:\\julia184\\Julia-1.8.4\\share\\julia\\stdlib\\v1.8\\LinearAlgebra\\src\\diagonal.jl:184\n",
       "[10] +(D::LinearAlgebra.Diagonal, S::LinearAlgebra.Symmetric) in LinearAlgebra at C:\\julia184\\Julia-1.8.4\\share\\julia\\stdlib\\v1.8\\LinearAlgebra\\src\\diagonal.jl:188\n",
       "[11] +(D::LinearAlgebra.Diagonal{var\"#s886\", V} where {var\"#s886\"<:Real, V<:AbstractVector{var\"#s886\"}}, H::LinearAlgebra.Hermitian) in LinearAlgebra at C:\\julia184\\Julia-1.8.4\\share\\julia\\stdlib\\v1.8\\LinearAlgebra\\src\\diagonal.jl:194\n",
       "[12] +(x::LinearAlgebra.Diagonal, H::LinearAlgebra.UpperHessenberg) in LinearAlgebra at C:\\julia184\\Julia-1.8.4\\share\\julia\\stdlib\\v1.8\\LinearAlgebra\\src\\hessenberg.jl:109\n",
       "[13] +(A::LinearAlgebra.Diagonal, B::LinearAlgebra.Bidiagonal) in LinearAlgebra at C:\\julia184\\Julia-1.8.4\\share\\julia\\stdlib\\v1.8\\LinearAlgebra\\src\\special.jl:137\n",
       "[14] +(A::LinearAlgebra.Diagonal, B::LinearAlgebra.SymTridiagonal) in LinearAlgebra at C:\\julia184\\Julia-1.8.4\\share\\julia\\stdlib\\v1.8\\LinearAlgebra\\src\\special.jl:147\n",
       "[15] +(A::LinearAlgebra.Diagonal, B::LinearAlgebra.Tridiagonal) in LinearAlgebra at C:\\julia184\\Julia-1.8.4\\share\\julia\\stdlib\\v1.8\\LinearAlgebra\\src\\special.jl:175\n",
       "[16] +(A::LinearAlgebra.Diagonal{var\"#s886\", V} where {var\"#s886\"<:Number, V<:AbstractVector{var\"#s886\"}}, B::LinearAlgebra.UniformScaling) in LinearAlgebra at C:\\julia184\\Julia-1.8.4\\share\\julia\\stdlib\\v1.8\\LinearAlgebra\\src\\special.jl:253\n",
       "[17] +(A::BitArray, B::BitArray) in Base at bitarray.jl:1184\n",
       "[18] +(index1::CartesianIndex{N}, index2::CartesianIndex{N}) where N in Base.IteratorsMD at multidimensional.jl:114\n",
       "[19] +(y::Dates.TimeType, x::StridedArray{<:Union{Dates.CompoundPeriod, Dates.Period}}) in Dates at C:\\julia184\\Julia-1.8.4\\share\\julia\\stdlib\\v1.8\\Dates\\src\\deprecated.jl:18\n",
       "[20] +(A::LinearAlgebra.UnitUpperTriangular, B::LinearAlgebra.UpperTriangular) in LinearAlgebra at C:\\julia184\\Julia-1.8.4\\share\\julia\\stdlib\\v1.8\\LinearAlgebra\\src\\triangular.jl:642\n",
       "[21] +(A::LinearAlgebra.UnitUpperTriangular, B::LinearAlgebra.UnitUpperTriangular) in LinearAlgebra at C:\\julia184\\Julia-1.8.4\\share\\julia\\stdlib\\v1.8\\LinearAlgebra\\src\\triangular.jl:644\n",
       "[22] +(UL::LinearAlgebra.UnitUpperTriangular, J::LinearAlgebra.UniformScaling) in LinearAlgebra at C:\\julia184\\Julia-1.8.4\\share\\julia\\stdlib\\v1.8\\LinearAlgebra\\src\\uniformscaling.jl:181\n",
       "[23] +(x::LinearAlgebra.UnitUpperTriangular, H::LinearAlgebra.UpperHessenberg) in LinearAlgebra at C:\\julia184\\Julia-1.8.4\\share\\julia\\stdlib\\v1.8\\LinearAlgebra\\src\\hessenberg.jl:109\n",
       "[24] +(A::LinearAlgebra.UnitUpperTriangular, B::LinearAlgebra.Bidiagonal) in LinearAlgebra at C:\\julia184\\Julia-1.8.4\\share\\julia\\stdlib\\v1.8\\LinearAlgebra\\src\\special.jl:98\n",
       "[25] +(A::LinearAlgebra.UpperHessenberg, B::LinearAlgebra.UpperHessenberg) in LinearAlgebra at C:\\julia184\\Julia-1.8.4\\share\\julia\\stdlib\\v1.8\\LinearAlgebra\\src\\hessenberg.jl:101\n",
       "[26] +(H::LinearAlgebra.UpperHessenberg, x::LinearAlgebra.UniformScaling) in LinearAlgebra at C:\\julia184\\Julia-1.8.4\\share\\julia\\stdlib\\v1.8\\LinearAlgebra\\src\\hessenberg.jl:108\n",
       "[27] +(H::LinearAlgebra.UpperHessenberg, x::LinearAlgebra.Diagonal) in LinearAlgebra at C:\\julia184\\Julia-1.8.4\\share\\julia\\stdlib\\v1.8\\LinearAlgebra\\src\\hessenberg.jl:108\n",
       "[28] +(H::LinearAlgebra.UpperHessenberg, x::LinearAlgebra.Bidiagonal) in LinearAlgebra at C:\\julia184\\Julia-1.8.4\\share\\julia\\stdlib\\v1.8\\LinearAlgebra\\src\\hessenberg.jl:108\n",
       "[29] +(H::LinearAlgebra.UpperHessenberg, x::LinearAlgebra.Tridiagonal) in LinearAlgebra at C:\\julia184\\Julia-1.8.4\\share\\julia\\stdlib\\v1.8\\LinearAlgebra\\src\\hessenberg.jl:108\n",
       "[30] +(H::LinearAlgebra.UpperHessenberg, x::LinearAlgebra.SymTridiagonal) in LinearAlgebra at C:\\julia184\\Julia-1.8.4\\share\\julia\\stdlib\\v1.8\\LinearAlgebra\\src\\hessenberg.jl:108\n",
       "[31] +(H::LinearAlgebra.UpperHessenberg, x::LinearAlgebra.UpperTriangular) in LinearAlgebra at C:\\julia184\\Julia-1.8.4\\share\\julia\\stdlib\\v1.8\\LinearAlgebra\\src\\hessenberg.jl:108\n",
       "[32] +(H::LinearAlgebra.UpperHessenberg, x::LinearAlgebra.UnitUpperTriangular) in LinearAlgebra at C:\\julia184\\Julia-1.8.4\\share\\julia\\stdlib\\v1.8\\LinearAlgebra\\src\\hessenberg.jl:108\n",
       "[33] +(A::LinearAlgebra.LowerTriangular, B::LinearAlgebra.LowerTriangular) in LinearAlgebra at C:\\julia184\\Julia-1.8.4\\share\\julia\\stdlib\\v1.8\\LinearAlgebra\\src\\triangular.jl:639\n",
       "[34] +(A::LinearAlgebra.LowerTriangular, B::LinearAlgebra.UnitLowerTriangular) in LinearAlgebra at C:\\julia184\\Julia-1.8.4\\share\\julia\\stdlib\\v1.8\\LinearAlgebra\\src\\triangular.jl:641\n",
       "[35] +(A::LinearAlgebra.LowerTriangular, B::LinearAlgebra.Bidiagonal) in LinearAlgebra at C:\\julia184\\Julia-1.8.4\\share\\julia\\stdlib\\v1.8\\LinearAlgebra\\src\\special.jl:98\n",
       "[36] +(r1::StepRangeLen{T, R}, r2::StepRangeLen{T, R}) where {R<:Base.TwicePrecision, T} in Base at twiceprecision.jl:644\n",
       "[37] +(r1::StepRangeLen{T, S}, r2::StepRangeLen{T, S}) where {T, S} in Base at range.jl:1446\n",
       "[38] +(z::Complex, w::Complex) in Base at complex.jl:288\n",
       "[39] +(x::AbstractIrrational, y::AbstractIrrational) in Base at irrationals.jl:158\n",
       "[40] +(x::Base.TwicePrecision, y::Number) in Base at twiceprecision.jl:290\n",
       "[41] +(x::Base.TwicePrecision{T}, y::Base.TwicePrecision{T}) where T in Base at twiceprecision.jl:296\n",
       "[42] +(x::Base.TwicePrecision, y::Base.TwicePrecision) in Base at twiceprecision.jl:301\n",
       "[43] +(r1::LinRange{T}, r2::LinRange{T}) where T in Base at range.jl:1430\n",
       "[44] +(A::LinearAlgebra.Tridiagonal, B::LinearAlgebra.Tridiagonal) in LinearAlgebra at C:\\julia184\\Julia-1.8.4\\share\\julia\\stdlib\\v1.8\\LinearAlgebra\\src\\tridiag.jl:741\n",
       "[45] +(x::LinearAlgebra.Tridiagonal, H::LinearAlgebra.UpperHessenberg) in LinearAlgebra at C:\\julia184\\Julia-1.8.4\\share\\julia\\stdlib\\v1.8\\LinearAlgebra\\src\\hessenberg.jl:109\n",
       "[46] +(A::LinearAlgebra.Tridiagonal, B::LinearAlgebra.SymTridiagonal) in LinearAlgebra at C:\\julia184\\Julia-1.8.4\\share\\julia\\stdlib\\v1.8\\LinearAlgebra\\src\\special.jl:169\n",
       "[47] +(A::LinearAlgebra.Tridiagonal, B::LinearAlgebra.Diagonal) in LinearAlgebra at C:\\julia184\\Julia-1.8.4\\share\\julia\\stdlib\\v1.8\\LinearAlgebra\\src\\special.jl:185\n",
       "[48] +(A::LinearAlgebra.Tridiagonal, B::LinearAlgebra.Bidiagonal) in LinearAlgebra at C:\\julia184\\Julia-1.8.4\\share\\julia\\stdlib\\v1.8\\LinearAlgebra\\src\\special.jl:205\n",
       "[49] +(A::LinearAlgebra.Tridiagonal{var\"#s886\", V} where {var\"#s886\"<:Number, V<:AbstractVector{var\"#s886\"}}, B::LinearAlgebra.UniformScaling) in LinearAlgebra at C:\\julia184\\Julia-1.8.4\\share\\julia\\stdlib\\v1.8\\LinearAlgebra\\src\\special.jl:238\n",
       "[50] +(x::T, y::Integer) where T<:AbstractChar in Base at char.jl:237\n",
       "[51] +(A::LinearAlgebra.Bidiagonal, B::LinearAlgebra.Bidiagonal) in LinearAlgebra at C:\\julia184\\Julia-1.8.4\\share\\julia\\stdlib\\v1.8\\LinearAlgebra\\src\\bidiag.jl:365\n",
       "[52] +(x::LinearAlgebra.Bidiagonal, H::LinearAlgebra.UpperHessenberg) in LinearAlgebra at C:\\julia184\\Julia-1.8.4\\share\\julia\\stdlib\\v1.8\\LinearAlgebra\\src\\hessenberg.jl:109\n",
       "[53] +(A::LinearAlgebra.Bidiagonal, B::LinearAlgebra.UpperTriangular) in LinearAlgebra at C:\\julia184\\Julia-1.8.4\\share\\julia\\stdlib\\v1.8\\LinearAlgebra\\src\\special.jl:106\n",
       "[54] +(A::LinearAlgebra.Bidiagonal, B::LinearAlgebra.UnitUpperTriangular) in LinearAlgebra at C:\\julia184\\Julia-1.8.4\\share\\julia\\stdlib\\v1.8\\LinearAlgebra\\src\\special.jl:106\n",
       "[55] +(A::LinearAlgebra.Bidiagonal, B::LinearAlgebra.LowerTriangular) in LinearAlgebra at C:\\julia184\\Julia-1.8.4\\share\\julia\\stdlib\\v1.8\\LinearAlgebra\\src\\special.jl:106\n",
       "[56] +(A::LinearAlgebra.Bidiagonal, B::LinearAlgebra.UnitLowerTriangular) in LinearAlgebra at C:\\julia184\\Julia-1.8.4\\share\\julia\\stdlib\\v1.8\\LinearAlgebra\\src\\special.jl:106\n",
       "[57] +(A::LinearAlgebra.Bidiagonal, B::LinearAlgebra.Diagonal) in LinearAlgebra at C:\\julia184\\Julia-1.8.4\\share\\julia\\stdlib\\v1.8\\LinearAlgebra\\src\\special.jl:127\n",
       "[58] +(A::LinearAlgebra.Bidiagonal, B::LinearAlgebra.Tridiagonal) in LinearAlgebra at C:\\julia184\\Julia-1.8.4\\share\\julia\\stdlib\\v1.8\\LinearAlgebra\\src\\special.jl:195\n",
       "[59] +(A::LinearAlgebra.Bidiagonal, B::LinearAlgebra.SymTridiagonal) in LinearAlgebra at C:\\julia184\\Julia-1.8.4\\share\\julia\\stdlib\\v1.8\\LinearAlgebra\\src\\special.jl:215\n",
       "[60] +(A::LinearAlgebra.Bidiagonal{var\"#s886\", V} where {var\"#s886\"<:Number, V<:AbstractVector{var\"#s886\"}}, B::LinearAlgebra.UniformScaling) in LinearAlgebra at C:\\julia184\\Julia-1.8.4\\share\\julia\\stdlib\\v1.8\\LinearAlgebra\\src\\special.jl:248\n",
       "[61] +(x::Dates.Instant) in Dates at C:\\julia184\\Julia-1.8.4\\share\\julia\\stdlib\\v1.8\\Dates\\src\\arithmetic.jl:4\n",
       "[62] +(x::Dates.AbstractTime, y::Missing) in Dates at C:\\julia184\\Julia-1.8.4\\share\\julia\\stdlib\\v1.8\\Dates\\src\\arithmetic.jl:88\n",
       "[63] +(F::LinearAlgebra.Hessenberg, J::LinearAlgebra.UniformScaling) in LinearAlgebra at C:\\julia184\\Julia-1.8.4\\share\\julia\\stdlib\\v1.8\\LinearAlgebra\\src\\hessenberg.jl:641\n",
       "[64] +(A::LinearAlgebra.Symmetric, B::LinearAlgebra.Symmetric) in LinearAlgebra at C:\\julia184\\Julia-1.8.4\\share\\julia\\stdlib\\v1.8\\LinearAlgebra\\src\\symmetric.jl:469\n",
       "[65] +(A::LinearAlgebra.Symmetric, B::LinearAlgebra.SymTridiagonal) in LinearAlgebra at C:\\julia184\\Julia-1.8.4\\share\\julia\\stdlib\\v1.8\\LinearAlgebra\\src\\symmetric.jl:486\n",
       "[66] +(S::LinearAlgebra.Symmetric, D::LinearAlgebra.Diagonal) in LinearAlgebra at C:\\julia184\\Julia-1.8.4\\share\\julia\\stdlib\\v1.8\\LinearAlgebra\\src\\diagonal.jl:191\n",
       "[67] +(A::LinearAlgebra.Symmetric{<:Any, <:SparseArrays.AbstractSparseMatrix}, B::SparseArrays.AbstractSparseMatrix) in SparseArrays at C:\\julia184\\Julia-1.8.4\\share\\julia\\stdlib\\v1.8\\SparseArrays\\src\\linalg.jl:15\n",
       "[68] +(A::LinearAlgebra.Symmetric, B::SparseArrays.AbstractSparseMatrix) in SparseArrays at C:\\julia184\\Julia-1.8.4\\share\\julia\\stdlib\\v1.8\\SparseArrays\\src\\linalg.jl:18\n",
       "[69] +(A::LinearAlgebra.Symmetric{<:Real, <:SparseArrays.AbstractSparseMatrix}, B::LinearAlgebra.Hermitian{<:Any, <:SparseArrays.AbstractSparseMatrix}) in SparseArrays at C:\\julia184\\Julia-1.8.4\\share\\julia\\stdlib\\v1.8\\SparseArrays\\src\\linalg.jl:25\n",
       "[70] +(A::LinearAlgebra.Symmetric{var\"#s885\", S} where {var\"#s885\"<:Real, S<:(AbstractMatrix{<:var\"#s885\"})}, B::LinearAlgebra.Hermitian) in LinearAlgebra at C:\\julia184\\Julia-1.8.4\\share\\julia\\stdlib\\v1.8\\LinearAlgebra\\src\\symmetric.jl:484\n",
       "[71] +(A::LinearAlgebra.Symmetric{<:Any, <:SparseArrays.AbstractSparseMatrix}, B::LinearAlgebra.Hermitian{<:Any, <:SparseArrays.AbstractSparseMatrix}) in SparseArrays at C:\\julia184\\Julia-1.8.4\\share\\julia\\stdlib\\v1.8\\SparseArrays\\src\\linalg.jl:23\n",
       "[72] +(A::LinearAlgebra.Hermitian, B::LinearAlgebra.Hermitian) in LinearAlgebra at C:\\julia184\\Julia-1.8.4\\share\\julia\\stdlib\\v1.8\\LinearAlgebra\\src\\symmetric.jl:469\n",
       "[73] +(A::LinearAlgebra.Hermitian, B::LinearAlgebra.SymTridiagonal{var\"#s883\", V} where {var\"#s883\"<:Real, V<:AbstractVector{var\"#s883\"}}) in LinearAlgebra at C:\\julia184\\Julia-1.8.4\\share\\julia\\stdlib\\v1.8\\LinearAlgebra\\src\\symmetric.jl:488\n",
       "[74] +(H::LinearAlgebra.Hermitian, D::LinearAlgebra.Diagonal{var\"#s886\", V} where {var\"#s886\"<:Real, V<:AbstractVector{var\"#s886\"}}) in LinearAlgebra at C:\\julia184\\Julia-1.8.4\\share\\julia\\stdlib\\v1.8\\LinearAlgebra\\src\\diagonal.jl:197\n",
       "[75] +(A::LinearAlgebra.Hermitian, J::LinearAlgebra.UniformScaling{<:Complex}) in LinearAlgebra at C:\\julia184\\Julia-1.8.4\\share\\julia\\stdlib\\v1.8\\LinearAlgebra\\src\\uniformscaling.jl:195\n",
       "[76] +(A::LinearAlgebra.Hermitian{<:Any, <:SparseArrays.AbstractSparseMatrix}, B::SparseArrays.AbstractSparseMatrix) in SparseArrays at C:\\julia184\\Julia-1.8.4\\share\\julia\\stdlib\\v1.8\\SparseArrays\\src\\linalg.jl:15\n",
       "[77] +(A::LinearAlgebra.Hermitian, B::SparseArrays.AbstractSparseMatrix) in SparseArrays at C:\\julia184\\Julia-1.8.4\\share\\julia\\stdlib\\v1.8\\SparseArrays\\src\\linalg.jl:18\n",
       "[78] +(A::LinearAlgebra.Hermitian{<:Any, <:SparseArrays.AbstractSparseMatrix}, B::LinearAlgebra.Symmetric{<:Real, <:SparseArrays.AbstractSparseMatrix}) in SparseArrays at C:\\julia184\\Julia-1.8.4\\share\\julia\\stdlib\\v1.8\\SparseArrays\\src\\linalg.jl:26\n",
       "[79] +(A::LinearAlgebra.Hermitian, B::LinearAlgebra.Symmetric{var\"#s886\", S} where {var\"#s886\"<:Real, S<:(AbstractMatrix{<:var\"#s886\"})}) in LinearAlgebra at C:\\julia184\\Julia-1.8.4\\share\\julia\\stdlib\\v1.8\\LinearAlgebra\\src\\symmetric.jl:483\n",
       "[80] +(A::LinearAlgebra.Hermitian{<:Any, <:SparseArrays.AbstractSparseMatrix}, B::LinearAlgebra.Symmetric{<:Any, <:SparseArrays.AbstractSparseMatrix}) in SparseArrays at C:\\julia184\\Julia-1.8.4\\share\\julia\\stdlib\\v1.8\\SparseArrays\\src\\linalg.jl:24\n",
       "[81] +(r::AbstractRange{<:Dates.TimeType}, x::Dates.Period) in Dates at C:\\julia184\\Julia-1.8.4\\share\\julia\\stdlib\\v1.8\\Dates\\src\\ranges.jl:64\n",
       "[82] +(x::AbstractArray{<:Dates.TimeType}, y::Union{Dates.CompoundPeriod, Dates.Period}) in Dates at C:\\julia184\\Julia-1.8.4\\share\\julia\\stdlib\\v1.8\\Dates\\src\\deprecated.jl:6\n",
       "[83] +(x::Ptr, y::Integer) in Base at pointer.jl:159\n",
       "[84] +(r1::OrdinalRange, r2::OrdinalRange) in Base at range.jl:1423\n",
       "[85] +(r1::Union{LinRange, OrdinalRange, StepRangeLen}, r2::Union{LinRange, OrdinalRange, StepRangeLen}) in Base at range.jl:1439\n",
       "[86] +(A::SparseArrays.AbstractSparseMatrixCSC, B::SparseArrays.AbstractSparseMatrixCSC) in SparseArrays at C:\\julia184\\Julia-1.8.4\\share\\julia\\stdlib\\v1.8\\SparseArrays\\src\\sparsematrix.jl:1835\n",
       "[87] +(A::SparseArrays.AbstractSparseMatrixCSC, B::Array) in SparseArrays at C:\\julia184\\Julia-1.8.4\\share\\julia\\stdlib\\v1.8\\SparseArrays\\src\\sparsematrix.jl:1838\n",
       "[88] +(A::SparseArrays.AbstractSparseMatrixCSC, J::LinearAlgebra.UniformScaling) in SparseArrays at C:\\julia184\\Julia-1.8.4\\share\\julia\\stdlib\\v1.8\\SparseArrays\\src\\sparsematrix.jl:3827\n",
       "[89] +(x::SparseArrays.AbstractSparseVector, y::SparseArrays.AbstractSparseVector) in SparseArrays at C:\\julia184\\Julia-1.8.4\\share\\julia\\stdlib\\v1.8\\SparseArrays\\src\\sparsevector.jl:1394\n",
       "[90] +(A::SparseArrays.AbstractSparseMatrix, B::LinearAlgebra.Hermitian{<:Any, <:SparseArrays.AbstractSparseMatrix}) in SparseArrays at C:\\julia184\\Julia-1.8.4\\share\\julia\\stdlib\\v1.8\\SparseArrays\\src\\linalg.jl:14\n",
       "[91] +(A::SparseArrays.AbstractSparseMatrix, B::LinearAlgebra.Hermitian) in SparseArrays at C:\\julia184\\Julia-1.8.4\\share\\julia\\stdlib\\v1.8\\SparseArrays\\src\\linalg.jl:17\n",
       "[92] +(A::SparseArrays.AbstractSparseMatrix, B::LinearAlgebra.Symmetric{<:Any, <:SparseArrays.AbstractSparseMatrix}) in SparseArrays at C:\\julia184\\Julia-1.8.4\\share\\julia\\stdlib\\v1.8\\SparseArrays\\src\\linalg.jl:14\n",
       "[93] +(A::SparseArrays.AbstractSparseMatrix, B::LinearAlgebra.Symmetric) in SparseArrays at C:\\julia184\\Julia-1.8.4\\share\\julia\\stdlib\\v1.8\\SparseArrays\\src\\linalg.jl:17\n",
       "[94] +(A::LinearAlgebra.SymTridiagonal, B::LinearAlgebra.SymTridiagonal) in LinearAlgebra at C:\\julia184\\Julia-1.8.4\\share\\julia\\stdlib\\v1.8\\LinearAlgebra\\src\\tridiag.jl:207\n",
       "[95] +(A::LinearAlgebra.SymTridiagonal, B::LinearAlgebra.Symmetric) in LinearAlgebra at C:\\julia184\\Julia-1.8.4\\share\\julia\\stdlib\\v1.8\\LinearAlgebra\\src\\symmetric.jl:485\n",
       "[96] +(A::LinearAlgebra.SymTridiagonal{var\"#s884\", V} where {var\"#s884\"<:Real, V<:AbstractVector{var\"#s884\"}}, B::LinearAlgebra.Hermitian) in LinearAlgebra at C:\\julia184\\Julia-1.8.4\\share\\julia\\stdlib\\v1.8\\LinearAlgebra\\src\\symmetric.jl:487\n",
       "[97] +(x::LinearAlgebra.SymTridiagonal, H::LinearAlgebra.UpperHessenberg) in LinearAlgebra at C:\\julia184\\Julia-1.8.4\\share\\julia\\stdlib\\v1.8\\LinearAlgebra\\src\\hessenberg.jl:109\n",
       "[98] +(A::LinearAlgebra.SymTridiagonal, B::LinearAlgebra.Diagonal) in LinearAlgebra at C:\\julia184\\Julia-1.8.4\\share\\julia\\stdlib\\v1.8\\LinearAlgebra\\src\\special.jl:157\n",
       "[99] +(A::LinearAlgebra.SymTridiagonal, B::LinearAlgebra.Tridiagonal) in LinearAlgebra at C:\\julia184\\Julia-1.8.4\\share\\julia\\stdlib\\v1.8\\LinearAlgebra\\src\\special.jl:171\n",
       "[100] +(A::LinearAlgebra.SymTridiagonal, B::LinearAlgebra.Bidiagonal) in LinearAlgebra at C:\\julia184\\Julia-1.8.4\\share\\julia\\stdlib\\v1.8\\LinearAlgebra\\src\\special.jl:225\n",
       "[101] +(A::LinearAlgebra.SymTridiagonal{var\"#s886\", V} where {var\"#s886\"<:Number, V<:AbstractVector{var\"#s886\"}}, B::LinearAlgebra.UniformScaling) in LinearAlgebra at C:\\julia184\\Julia-1.8.4\\share\\julia\\stdlib\\v1.8\\LinearAlgebra\\src\\special.jl:243\n",
       "[102] +(x::P, y::P) where P<:Dates.Period in Dates at C:\\julia184\\Julia-1.8.4\\share\\julia\\stdlib\\v1.8\\Dates\\src\\periods.jl:77\n",
       "[103] +(x::Dates.Period, y::Dates.Period) in Dates at C:\\julia184\\Julia-1.8.4\\share\\julia\\stdlib\\v1.8\\Dates\\src\\periods.jl:367\n",
       "[104] +(y::Dates.Period, x::Dates.CompoundPeriod) in Dates at C:\\julia184\\Julia-1.8.4\\share\\julia\\stdlib\\v1.8\\Dates\\src\\periods.jl:369\n",
       "[105] +(y::Dates.Period, x::Dates.TimeType) in Dates at C:\\julia184\\Julia-1.8.4\\share\\julia\\stdlib\\v1.8\\Dates\\src\\arithmetic.jl:85\n",
       "[106] +(x::Dates.Period, r::AbstractRange{<:Dates.TimeType}) in Dates at C:\\julia184\\Julia-1.8.4\\share\\julia\\stdlib\\v1.8\\Dates\\src\\ranges.jl:63\n",
       "[107] +(y::Union{Dates.CompoundPeriod, Dates.Period}, x::AbstractArray{<:Dates.TimeType}) in Dates at C:\\julia184\\Julia-1.8.4\\share\\julia\\stdlib\\v1.8\\Dates\\src\\deprecated.jl:14\n",
       "[108] +(A::LinearAlgebra.UnitLowerTriangular, B::LinearAlgebra.LowerTriangular) in LinearAlgebra at C:\\julia184\\Julia-1.8.4\\share\\julia\\stdlib\\v1.8\\LinearAlgebra\\src\\triangular.jl:643\n",
       "[109] +(A::LinearAlgebra.UnitLowerTriangular, B::LinearAlgebra.UnitLowerTriangular) in LinearAlgebra at C:\\julia184\\Julia-1.8.4\\share\\julia\\stdlib\\v1.8\\LinearAlgebra\\src\\triangular.jl:645\n",
       "[110] +(UL::LinearAlgebra.UnitLowerTriangular, J::LinearAlgebra.UniformScaling) in LinearAlgebra at C:\\julia184\\Julia-1.8.4\\share\\julia\\stdlib\\v1.8\\LinearAlgebra\\src\\uniformscaling.jl:181\n",
       "[111] +(A::LinearAlgebra.UnitLowerTriangular, B::LinearAlgebra.Bidiagonal) in LinearAlgebra at C:\\julia184\\Julia-1.8.4\\share\\julia\\stdlib\\v1.8\\LinearAlgebra\\src\\special.jl:98\n",
       "[112] +(A::LinearAlgebra.UpperTriangular, B::LinearAlgebra.UpperTriangular) in LinearAlgebra at C:\\julia184\\Julia-1.8.4\\share\\julia\\stdlib\\v1.8\\LinearAlgebra\\src\\triangular.jl:638\n",
       "[113] +(A::LinearAlgebra.UpperTriangular, B::LinearAlgebra.UnitUpperTriangular) in LinearAlgebra at C:\\julia184\\Julia-1.8.4\\share\\julia\\stdlib\\v1.8\\LinearAlgebra\\src\\triangular.jl:640\n",
       "[114] +(A::LinearAlgebra.AbstractTriangular, B::LinearAlgebra.AbstractTriangular) in LinearAlgebra at C:\\julia184\\Julia-1.8.4\\share\\julia\\stdlib\\v1.8\\LinearAlgebra\\src\\triangular.jl:646\n",
       "[115] +(x::LinearAlgebra.UpperTriangular, H::LinearAlgebra.UpperHessenberg) in LinearAlgebra at C:\\julia184\\Julia-1.8.4\\share\\julia\\stdlib\\v1.8\\LinearAlgebra\\src\\hessenberg.jl:109\n",
       "[116] +(A::LinearAlgebra.UpperTriangular, B::LinearAlgebra.Bidiagonal) in LinearAlgebra at C:\\julia184\\Julia-1.8.4\\share\\julia\\stdlib\\v1.8\\LinearAlgebra\\src\\special.jl:98\n",
       "[117] +(y::AbstractFloat, x::Bool) in Base at bool.jl:172\n",
       "[118] +(J::LinearAlgebra.UniformScaling) in LinearAlgebra at C:\\julia184\\Julia-1.8.4\\share\\julia\\stdlib\\v1.8\\LinearAlgebra\\src\\uniformscaling.jl:149\n",
       "[119] +(J::LinearAlgebra.UniformScaling, x::Number) in LinearAlgebra at C:\\julia184\\Julia-1.8.4\\share\\julia\\stdlib\\v1.8\\LinearAlgebra\\src\\uniformscaling.jl:144\n",
       "[120] +(J1::LinearAlgebra.UniformScaling, J2::LinearAlgebra.UniformScaling) in LinearAlgebra at C:\\julia184\\Julia-1.8.4\\share\\julia\\stdlib\\v1.8\\LinearAlgebra\\src\\uniformscaling.jl:150\n",
       "[121] +(J::LinearAlgebra.UniformScaling, B::BitMatrix) in LinearAlgebra at C:\\julia184\\Julia-1.8.4\\share\\julia\\stdlib\\v1.8\\LinearAlgebra\\src\\uniformscaling.jl:152\n",
       "[122] +(x::LinearAlgebra.UniformScaling, H::LinearAlgebra.UpperHessenberg) in LinearAlgebra at C:\\julia184\\Julia-1.8.4\\share\\julia\\stdlib\\v1.8\\LinearAlgebra\\src\\hessenberg.jl:109\n",
       "[123] +(J::LinearAlgebra.UniformScaling, F::LinearAlgebra.Hessenberg) in LinearAlgebra at C:\\julia184\\Julia-1.8.4\\share\\julia\\stdlib\\v1.8\\LinearAlgebra\\src\\hessenberg.jl:642\n",
       "[124] +(A::LinearAlgebra.UniformScaling, B::LinearAlgebra.Tridiagonal{var\"#s886\", V} where {var\"#s886\"<:Number, V<:AbstractVector{var\"#s886\"}}) in LinearAlgebra at C:\\julia184\\Julia-1.8.4\\share\\julia\\stdlib\\v1.8\\LinearAlgebra\\src\\special.jl:257\n",
       "[125] +(A::LinearAlgebra.UniformScaling, B::LinearAlgebra.SymTridiagonal{var\"#s886\", V} where {var\"#s886\"<:Number, V<:AbstractVector{var\"#s886\"}}) in LinearAlgebra at C:\\julia184\\Julia-1.8.4\\share\\julia\\stdlib\\v1.8\\LinearAlgebra\\src\\special.jl:262\n",
       "[126] +(A::LinearAlgebra.UniformScaling, B::LinearAlgebra.Bidiagonal{var\"#s886\", V} where {var\"#s886\"<:Number, V<:AbstractVector{var\"#s886\"}}) in LinearAlgebra at C:\\julia184\\Julia-1.8.4\\share\\julia\\stdlib\\v1.8\\LinearAlgebra\\src\\special.jl:267\n",
       "[127] +(A::LinearAlgebra.UniformScaling, B::LinearAlgebra.Diagonal{var\"#s886\", V} where {var\"#s886\"<:Number, V<:AbstractVector{var\"#s886\"}}) in LinearAlgebra at C:\\julia184\\Julia-1.8.4\\share\\julia\\stdlib\\v1.8\\LinearAlgebra\\src\\special.jl:272\n",
       "[128] +(J::LinearAlgebra.UniformScaling, A::AbstractMatrix) in LinearAlgebra at C:\\julia184\\Julia-1.8.4\\share\\julia\\stdlib\\v1.8\\LinearAlgebra\\src\\uniformscaling.jl:153\n",
       "[129] +(x::Rational, y::Integer) in Base at rational.jl:313\n",
       "[130] +(A::Array, Bs::Array...) in Base at arraymath.jl:12\n",
       "[131] +(X::StridedArray{<:Union{Dates.CompoundPeriod, Dates.Period}}, Y::StridedArray{<:Union{Dates.CompoundPeriod, Dates.Period}}) in Dates at C:\\julia184\\Julia-1.8.4\\share\\julia\\stdlib\\v1.8\\Dates\\src\\deprecated.jl:62\n",
       "[132] +(A::Array, B::SparseArrays.AbstractSparseMatrixCSC) in SparseArrays at C:\\julia184\\Julia-1.8.4\\share\\julia\\stdlib\\v1.8\\SparseArrays\\src\\sparsematrix.jl:1839\n",
       "[133] +(x::StridedArray{<:Union{Dates.CompoundPeriod, Dates.Period}}) in Dates at C:\\julia184\\Julia-1.8.4\\share\\julia\\stdlib\\v1.8\\Dates\\src\\deprecated.jl:55\n",
       "[134] +(x::StridedArray{<:Union{Dates.CompoundPeriod, Dates.Period}}, y::Dates.TimeType) in Dates at C:\\julia184\\Julia-1.8.4\\share\\julia\\stdlib\\v1.8\\Dates\\src\\deprecated.jl:10\n",
       "[135] +(A::AbstractArray, B::AbstractArray) in Base at arraymath.jl:6\n",
       "[136] +(x::Dates.Time, y::Dates.TimePeriod) in Dates at C:\\julia184\\Julia-1.8.4\\share\\julia\\stdlib\\v1.8\\Dates\\src\\arithmetic.jl:83\n",
       "[137] +(t::Dates.Time, dt::Dates.Date) in Dates at C:\\julia184\\Julia-1.8.4\\share\\julia\\stdlib\\v1.8\\Dates\\src\\arithmetic.jl:20\n",
       "[138] +(dt::Dates.Date, t::Dates.Time) in Dates at C:\\julia184\\Julia-1.8.4\\share\\julia\\stdlib\\v1.8\\Dates\\src\\arithmetic.jl:19\n",
       "[139] +(dt::Dates.Date, y::Dates.Year) in Dates at C:\\julia184\\Julia-1.8.4\\share\\julia\\stdlib\\v1.8\\Dates\\src\\arithmetic.jl:27\n",
       "[140] +(dt::Dates.Date, z::Dates.Month) in Dates at C:\\julia184\\Julia-1.8.4\\share\\julia\\stdlib\\v1.8\\Dates\\src\\arithmetic.jl:54\n",
       "[141] +(x::Dates.Date, y::Dates.Quarter) in Dates at C:\\julia184\\Julia-1.8.4\\share\\julia\\stdlib\\v1.8\\Dates\\src\\arithmetic.jl:73\n",
       "[142] +(x::Dates.Date, y::Dates.Week) in Dates at C:\\julia184\\Julia-1.8.4\\share\\julia\\stdlib\\v1.8\\Dates\\src\\arithmetic.jl:77\n",
       "[143] +(x::Dates.Date, y::Dates.Day) in Dates at C:\\julia184\\Julia-1.8.4\\share\\julia\\stdlib\\v1.8\\Dates\\src\\arithmetic.jl:79\n",
       "[144] +(x::Dates.CompoundPeriod, y::Dates.Period) in Dates at C:\\julia184\\Julia-1.8.4\\share\\julia\\stdlib\\v1.8\\Dates\\src\\periods.jl:368\n",
       "[145] +(x::Dates.CompoundPeriod, y::Dates.TimeType) in Dates at C:\\julia184\\Julia-1.8.4\\share\\julia\\stdlib\\v1.8\\Dates\\src\\periods.jl:398\n",
       "[146] +(x::Dates.CompoundPeriod, y::Dates.CompoundPeriod) in Dates at C:\\julia184\\Julia-1.8.4\\share\\julia\\stdlib\\v1.8\\Dates\\src\\periods.jl:370\n",
       "[147] +(level::Base.CoreLogging.LogLevel, inc::Integer) in Base.CoreLogging at logging.jl:131\n",
       "[148] +(x::Bool) in Base at bool.jl:159\n",
       "[149] +(x::Integer, y::Ptr) in Base at pointer.jl:161\n",
       "[150] +(y::Integer, x::Rational) in Base at rational.jl:320\n",
       "[151] +(x::Integer, y::AbstractChar) in Base at char.jl:247\n",
       "[152] +(x::Bool, y::T) where T<:AbstractFloat in Base at bool.jl:169\n",
       "[153] +(x::Bool, y::Bool) in Base at bool.jl:162\n",
       "[154] +(x::Bool, z::Complex{Bool}) in Base at complex.jl:299\n",
       "[155] +(x::Bool, z::Complex) in Base at complex.jl:306\n",
       "[156] +(dt::Dates.DateTime, y::Dates.Year) in Dates at C:\\julia184\\Julia-1.8.4\\share\\julia\\stdlib\\v1.8\\Dates\\src\\arithmetic.jl:23\n",
       "[157] +(dt::Dates.DateTime, z::Dates.Month) in Dates at C:\\julia184\\Julia-1.8.4\\share\\julia\\stdlib\\v1.8\\Dates\\src\\arithmetic.jl:47\n",
       "[158] +(x::Dates.DateTime, y::Dates.Quarter) in Dates at C:\\julia184\\Julia-1.8.4\\share\\julia\\stdlib\\v1.8\\Dates\\src\\arithmetic.jl:75\n",
       "[159] +(x::Dates.DateTime, y::Dates.Period) in Dates at C:\\julia184\\Julia-1.8.4\\share\\julia\\stdlib\\v1.8\\Dates\\src\\arithmetic.jl:81\n",
       "[160] +(x::Dates.TimeType) in Dates at C:\\julia184\\Julia-1.8.4\\share\\julia\\stdlib\\v1.8\\Dates\\src\\arithmetic.jl:8\n",
       "[161] +(a::Dates.TimeType, b::Dates.Period, c::Dates.Period) in Dates at C:\\julia184\\Julia-1.8.4\\share\\julia\\stdlib\\v1.8\\Dates\\src\\periods.jl:389\n",
       "[162] +(a::Dates.TimeType, b::Dates.Period, c::Dates.Period, d::Dates.Period...) in Dates at C:\\julia184\\Julia-1.8.4\\share\\julia\\stdlib\\v1.8\\Dates\\src\\periods.jl:390\n",
       "[163] +(x::Dates.TimeType, y::Dates.CompoundPeriod) in Dates at C:\\julia184\\Julia-1.8.4\\share\\julia\\stdlib\\v1.8\\Dates\\src\\periods.jl:392\n",
       "[164] +(x::BigInt, c::Union{UInt16, UInt32, UInt8}) in Base.GMP at gmp.jl:530\n",
       "[165] +(x::BigInt, c::Union{Int16, Int32, Int8}) in Base.GMP at gmp.jl:536\n",
       "[166] +(x::BigInt, y::BigInt) in Base.GMP at gmp.jl:482\n",
       "[167] +(a::BigInt, b::BigInt, c::BigInt) in Base.GMP at gmp.jl:522\n",
       "[168] +(a::BigInt, b::BigInt, c::BigInt, d::BigInt) in Base.GMP at gmp.jl:523\n",
       "[169] +(a::BigInt, b::BigInt, c::BigInt, d::BigInt, e::BigInt) in Base.GMP at gmp.jl:524\n",
       "[170] +(x::BigInt, y::BigInt, rest::BigInt...) in Base.GMP at gmp.jl:657\n",
       "[171] +(a::Integer, b::Integer) in Base at int.jl:987\n",
       "[172] +(c::BigInt, x::BigFloat) in Base.MPFR at mpfr.jl:422\n",
       "[173] +(::Missing) in Base at missing.jl:101\n",
       "[174] +(::Missing, ::Number) in Base at missing.jl:123\n",
       "[175] +(x::Missing, y::Dates.AbstractTime) in Dates at C:\\julia184\\Julia-1.8.4\\share\\julia\\stdlib\\v1.8\\Dates\\src\\arithmetic.jl:89\n",
       "[176] +(::Missing, ::Missing) in Base at missing.jl:122\n",
       "[177] +(B::BitMatrix, J::LinearAlgebra.UniformScaling) in LinearAlgebra at C:\\julia184\\Julia-1.8.4\\share\\julia\\stdlib\\v1.8\\LinearAlgebra\\src\\uniformscaling.jl:151\n",
       "[178] +(A::AbstractMatrix, J::LinearAlgebra.UniformScaling) in LinearAlgebra at C:\\julia184\\Julia-1.8.4\\share\\julia\\stdlib\\v1.8\\LinearAlgebra\\src\\uniformscaling.jl:214\n",
       "[179] +(x::AbstractArray{<:Number}) in Base at abstractarraymath.jl:220\n",
       "[180] +(x::BigFloat, c::Union{UInt16, UInt32, UInt8}) in Base.MPFR at mpfr.jl:393\n",
       "[181] +(x::BigFloat, c::Union{Int16, Int32, Int8}) in Base.MPFR at mpfr.jl:401\n",
       "[182] +(x::BigFloat, c::Union{Float16, Float32, Float64}) in Base.MPFR at mpfr.jl:409\n",
       "[183] +(x::BigFloat, y::BigFloat) in Base.MPFR at mpfr.jl:386\n",
       "[184] +(x::BigFloat, c::BigInt) in Base.MPFR at mpfr.jl:417\n",
       "[185] +(a::BigFloat, b::BigFloat, c::BigFloat) in Base.MPFR at mpfr.jl:558\n",
       "[186] +(a::BigFloat, b::BigFloat, c::BigFloat, d::BigFloat) in Base.MPFR at mpfr.jl:564\n",
       "[187] +(a::BigFloat, b::BigFloat, c::BigFloat, d::BigFloat, e::BigFloat) in Base.MPFR at mpfr.jl:571\n",
       "[188] +(a::Pkg.Resolve.FieldValue, b::Pkg.Resolve.FieldValue) in Pkg.Resolve at C:\\julia184\\Julia-1.8.4\\share\\julia\\stdlib\\v1.8\\Pkg\\src\\Resolve\\fieldvalues.jl:43\n",
       "[189] +(a::Pkg.Resolve.VersionWeight, b::Pkg.Resolve.VersionWeight) in Pkg.Resolve at C:\\julia184\\Julia-1.8.4\\share\\julia\\stdlib\\v1.8\\Pkg\\src\\Resolve\\versionweights.jl:22\n",
       "[190] +(x::Rational{BigInt}, y::Rational{BigInt}) in Base.GMP.MPQ at gmp.jl:922\n",
       "[191] +(x::Rational) in Base at rational.jl:270\n",
       "[192] +(x::Real, z::Complex{Bool}) in Base at complex.jl:313\n",
       "[193] +(x::Real, z::Complex) in Base at complex.jl:325\n",
       "[194] +(x::Number, y::Base.TwicePrecision) in Base at twiceprecision.jl:294\n",
       "[195] +(::Number, ::Missing) in Base at missing.jl:124\n",
       "[196] +(x::Number, J::LinearAlgebra.UniformScaling) in LinearAlgebra at C:\\julia184\\Julia-1.8.4\\share\\julia\\stdlib\\v1.8\\LinearAlgebra\\src\\uniformscaling.jl:145\n",
       "[197] +(x::Rational, y::Rational) in Base at rational.jl:284\n",
       "[198] +(z::Complex{Bool}, x::Bool) in Base at complex.jl:300\n",
       "[199] +(z::Complex, x::Bool) in Base at complex.jl:307\n",
       "[200] +(z::Complex{Bool}, x::Real) in Base at complex.jl:314\n",
       "[201] +(z::Complex) in Base at complex.jl:286\n",
       "[202] +(z::Complex, x::Real) in Base at complex.jl:326\n",
       "[203] +(x::Number) in Base at operators.jl:528\n",
       "[204] +(x::T, y::T) where T<:Number in Base at promotion.jl:463\n",
       "[205] +(x::Number, y::Number) in Base at promotion.jl:388\n",
       "[206] +(a, b, c, xs...) in Base at operators.jl:591"
      ]
     },
     "execution_count": 23,
     "metadata": {},
     "output_type": "execute_result"
    }
   ],
   "source": [
    "methods(+) # detalles de todos los métodos "
   ]
  },
  {
   "cell_type": "markdown",
   "id": "comfortable-dream",
   "metadata": {},
   "source": [
    "## Valores por defecto"
   ]
  },
  {
   "cell_type": "code",
   "execution_count": 24,
   "id": "ambient-lucas",
   "metadata": {},
   "outputs": [
    {
     "data": {
      "text/plain": [
       "2.0794415416798357"
      ]
     },
     "execution_count": 24,
     "metadata": {},
     "output_type": "execute_result"
    }
   ],
   "source": [
    "log(8)     # logaritmo natural (base e) por defecto "
   ]
  },
  {
   "cell_type": "code",
   "execution_count": 25,
   "id": "vital-albert",
   "metadata": {},
   "outputs": [
    {
     "data": {
      "text/plain": [
       "3.0"
      ]
     },
     "execution_count": 25,
     "metadata": {},
     "output_type": "execute_result"
    }
   ],
   "source": [
    "log(2, 8) # definir la base del logaritmo (2, en este caso)"
   ]
  },
  {
   "cell_type": "code",
   "execution_count": 26,
   "id": "cardiovascular-inflation",
   "metadata": {},
   "outputs": [
    {
     "data": {
      "text/plain": [
       "collection_log (generic function with 2 methods)"
      ]
     },
     "execution_count": 26,
     "metadata": {},
     "output_type": "execute_result"
    }
   ],
   "source": [
    "function collection_log(collection, base=2)   \n",
    "    return [log(base, i) for i in collection] # usando iteradores\n",
    "end "
   ]
  },
  {
   "cell_type": "code",
   "execution_count": 27,
   "id": "musical-robin",
   "metadata": {},
   "outputs": [
    {
     "data": {
      "text/plain": [
       "3-element Vector{Float64}:\n",
       " 2.0\n",
       " 3.0\n",
       " 4.0"
      ]
     },
     "execution_count": 27,
     "metadata": {},
     "output_type": "execute_result"
    }
   ],
   "source": [
    "collection_log([4, 8, 16])"
   ]
  },
  {
   "cell_type": "markdown",
   "id": "approximate-procedure",
   "metadata": {},
   "source": [
    "### Algunas consideraciones con argumentos por defectos y Keywords "
   ]
  },
  {
   "cell_type": "code",
   "execution_count": 30,
   "id": "patient-pulse",
   "metadata": {},
   "outputs": [
    {
     "ename": "LoadError",
     "evalue": "syntax: optional positional arguments must occur at end around In[30]:1",
     "output_type": "error",
     "traceback": [
      "syntax: optional positional arguments must occur at end around In[30]:1",
      "",
      "Stacktrace:",
      " [1] top-level scope",
      "   @ In[30]:1"
     ]
    }
   ],
   "source": [
    "function collection_log2(base=2, collection)    # orden incorrecto\n",
    "    return [log(base, i) for i in collection]   # aunque se indique en la función `log()`\n",
    "end "
   ]
  },
  {
   "cell_type": "code",
   "execution_count": 31,
   "id": "aggressive-skiing",
   "metadata": {},
   "outputs": [
    {
     "data": {
      "text/plain": [
       "collection_log2 (generic function with 2 methods)"
      ]
     },
     "execution_count": 31,
     "metadata": {},
     "output_type": "execute_result"
    }
   ],
   "source": [
    "function collection_log2(base=2; collection)    # orden correcto\n",
    "    return [log(base, i) for i in collection]\n",
    "end "
   ]
  },
  {
   "cell_type": "code",
   "execution_count": 32,
   "id": "suited-carrier",
   "metadata": {},
   "outputs": [
    {
     "data": {
      "text/plain": [
       "3-element Vector{Float64}:\n",
       " 0.6020599913279623\n",
       " 0.9030899869919434\n",
       " 1.2041199826559246"
      ]
     },
     "execution_count": 32,
     "metadata": {},
     "output_type": "execute_result"
    }
   ],
   "source": [
    "collection_log2(10, collection=[4, 8, 16])          # ahora 'collection' es un keyword. Por tanto, tenemos que escribirlo "
   ]
  },
  {
   "cell_type": "markdown",
   "id": "superior-fraction",
   "metadata": {},
   "source": [
    "Es importante conocer la sintaxis de todo esto para su propio código; defina su primer método hasta que se sienta cómodo."
   ]
  },
  {
   "cell_type": "markdown",
   "id": "imposed-shade",
   "metadata": {},
   "source": [
    "## Funciones Anónimas  "
   ]
  },
  {
   "cell_type": "markdown",
   "id": "instrumental-medication",
   "metadata": {},
   "source": [
    "Algunas veces no se quiere nombrar una función. Si no ha visto esto, puede que le resulte extraño aunque es muy útil. Veremos una aplicacion."
   ]
  },
  {
   "cell_type": "code",
   "execution_count": 33,
   "id": "completed-freight",
   "metadata": {},
   "outputs": [
    {
     "data": {
      "text/plain": [
       "#9 (generic function with 1 method)"
      ]
     },
     "execution_count": 33,
     "metadata": {},
     "output_type": "execute_result"
    }
   ],
   "source": [
    "x -> x^2 + 2x - 1         # la flecha '->' es lo que define la función"
   ]
  },
  {
   "cell_type": "code",
   "execution_count": null,
   "id": "higher-norman",
   "metadata": {},
   "outputs": [],
   "source": [
    "# esta función no tiene nombre, cómo la invocamos?"
   ]
  },
  {
   "cell_type": "code",
   "execution_count": 34,
   "id": "expired-papua",
   "metadata": {},
   "outputs": [
    {
     "data": {
      "text/plain": [
       "34"
      ]
     },
     "execution_count": 34,
     "metadata": {},
     "output_type": "execute_result"
    }
   ],
   "source": [
    "(x -> x^2 + 2x - 1)(5)      # se puede, pero esto parece algo absurdo"
   ]
  },
  {
   "cell_type": "markdown",
   "id": "circular-alcohol",
   "metadata": {},
   "source": [
    "Veamos un caso de uso"
   ]
  },
  {
   "cell_type": "code",
   "execution_count": 37,
   "id": "banned-bronze",
   "metadata": {},
   "outputs": [
    {
     "data": {
      "text/plain": [
       "8-element Vector{Int64}:\n",
       " 1\n",
       " 2\n",
       " 4\n",
       " 5\n",
       " 6\n",
       " 7\n",
       " 8\n",
       " 9"
      ]
     },
     "execution_count": 37,
     "metadata": {},
     "output_type": "execute_result"
    }
   ],
   "source": [
    "# dada esta coleccion, queremos filtrar o eliminar los valores múltiplos de 3\n",
    "nums = [1, 2, 4, 5, 6, 7, 8, 9]"
   ]
  },
  {
   "cell_type": "code",
   "execution_count": 36,
   "id": "biblical-restoration",
   "metadata": {},
   "outputs": [
    {
     "ename": "LoadError",
     "evalue": "UndefVarError: some_function_here not defined",
     "output_type": "error",
     "traceback": [
      "UndefVarError: some_function_here not defined",
      "",
      "Stacktrace:",
      " [1] top-level scope",
      "   @ In[36]:1"
     ]
    }
   ],
   "source": [
    "filter!( some_function_here, some_collection_here )    # la función 'filter' mantiene los que satisfacen el criterio  "
   ]
  },
  {
   "cell_type": "code",
   "execution_count": 38,
   "id": "intended-labor",
   "metadata": {},
   "outputs": [
    {
     "data": {
      "text/plain": [
       "not_multiple_of_three (generic function with 1 method)"
      ]
     },
     "execution_count": 38,
     "metadata": {},
     "output_type": "execute_result"
    }
   ],
   "source": [
    "function not_multiple_of_three(x) \n",
    "    return x % 3 != 0 \n",
    "end "
   ]
  },
  {
   "cell_type": "code",
   "execution_count": 39,
   "id": "blind-royal",
   "metadata": {},
   "outputs": [
    {
     "data": {
      "text/plain": [
       "6-element Vector{Int64}:\n",
       " 1\n",
       " 2\n",
       " 4\n",
       " 5\n",
       " 7\n",
       " 8"
      ]
     },
     "execution_count": 39,
     "metadata": {},
     "output_type": "execute_result"
    }
   ],
   "source": [
    "filter!(not_multiple_of_three, nums )"
   ]
  },
  {
   "cell_type": "markdown",
   "id": "intellectual-possible",
   "metadata": {},
   "source": [
    "... pero esto parece largo y tedioso para una sola invocación de la función. Si no la vamos a usar más, mejor hacerla 'anonima'"
   ]
  },
  {
   "cell_type": "code",
   "execution_count": 40,
   "id": "precious-profit",
   "metadata": {},
   "outputs": [
    {
     "data": {
      "text/plain": [
       "8-element Vector{Int64}:\n",
       " 1\n",
       " 2\n",
       " 4\n",
       " 5\n",
       " 6\n",
       " 7\n",
       " 8\n",
       " 9"
      ]
     },
     "execution_count": 40,
     "metadata": {},
     "output_type": "execute_result"
    }
   ],
   "source": [
    "nums = [1, 2, 4, 5, 6, 7, 8, 9]"
   ]
  },
  {
   "cell_type": "code",
   "execution_count": 41,
   "id": "capable-crime",
   "metadata": {},
   "outputs": [
    {
     "data": {
      "text/plain": [
       "6-element Array{Int64,1}:\n",
       " 1\n",
       " 2\n",
       " 4\n",
       " 5\n",
       " 7\n",
       " 8"
      ]
     },
     "execution_count": 41,
     "metadata": {},
     "output_type": "execute_result"
    }
   ],
   "source": [
    "filter!(x -> x % 3 != 0, nums)"
   ]
  },
  {
   "cell_type": "code",
   "execution_count": 41,
   "id": "tamil-priority",
   "metadata": {},
   "outputs": [
    {
     "data": {
      "text/plain": [
       "8-element Vector{Int64}:\n",
       " 1\n",
       " 2\n",
       " 4\n",
       " 5\n",
       " 6\n",
       " 7\n",
       " 8\n",
       " 9"
      ]
     },
     "execution_count": 41,
     "metadata": {},
     "output_type": "execute_result"
    }
   ],
   "source": [
    "nums"
   ]
  },
  {
   "cell_type": "markdown",
   "id": "suffering-creature",
   "metadata": {},
   "source": [
    "Algo interesante de Julia hace: dado que `!=` es una función, podemos reasignarlo a un carácter unicode para que aparezca más atractivo."
   ]
  },
  {
   "cell_type": "code",
   "execution_count": 42,
   "id": "norman-southeast",
   "metadata": {},
   "outputs": [
    {
     "data": {
      "text/plain": [
       "8-element Vector{Int64}:\n",
       " 1\n",
       " 2\n",
       " 4\n",
       " 5\n",
       " 6\n",
       " 7\n",
       " 8\n",
       " 9"
      ]
     },
     "execution_count": 42,
     "metadata": {},
     "output_type": "execute_result"
    }
   ],
   "source": [
    "nums = [1, 2, 4, 5, 6, 7, 8, 9]"
   ]
  },
  {
   "cell_type": "code",
   "execution_count": 43,
   "id": "confused-seventh",
   "metadata": {},
   "outputs": [
    {
     "data": {
      "text/plain": [
       "!= (generic function with 4 methods)"
      ]
     },
     "execution_count": 43,
     "metadata": {},
     "output_type": "execute_result"
    }
   ],
   "source": [
    "≠  =  !=      # \\ne [y presione tab] para el símbolo unicode"
   ]
  },
  {
   "cell_type": "code",
   "execution_count": 44,
   "id": "protected-david",
   "metadata": {},
   "outputs": [
    {
     "data": {
      "text/plain": [
       "6-element Vector{Int64}:\n",
       " 1\n",
       " 2\n",
       " 4\n",
       " 5\n",
       " 7\n",
       " 8"
      ]
     },
     "execution_count": 44,
     "metadata": {},
     "output_type": "execute_result"
    }
   ],
   "source": [
    "filter!(x -> x%3 ≠ 0, nums)       # se parece mucho a la notación matemática "
   ]
  },
  {
   "cell_type": "markdown",
   "id": "touched-denver",
   "metadata": {},
   "source": [
    "## Splatting and Slurping (o 'salpicando' y 'absorbiendo')"
   ]
  },
  {
   "cell_type": "markdown",
   "id": "spare-conviction",
   "metadata": {},
   "source": [
    "Esto es algo interesante de Julia y son operadores menos conocidos como `...` que generan cierta confusión. Vamos a ver cómo funcionan."
   ]
  },
  {
   "cell_type": "code",
   "execution_count": 45,
   "id": "short-certificate",
   "metadata": {},
   "outputs": [
    {
     "data": {
      "text/plain": [
       "print_vals (generic function with 1 method)"
      ]
     },
     "execution_count": 45,
     "metadata": {},
     "output_type": "execute_result"
    }
   ],
   "source": [
    "function print_vals(a, b, c)\n",
    "    println(\"First param:  \", a)\n",
    "    println(\"Second param: \", b)\n",
    "    println(\"Third param:  \", c)\n",
    "end"
   ]
  },
  {
   "cell_type": "code",
   "execution_count": 46,
   "id": "inappropriate-burning",
   "metadata": {},
   "outputs": [
    {
     "name": "stdout",
     "output_type": "stream",
     "text": [
      "First param:  1\n",
      "Second param: 2\n",
      "Third param:  3\n"
     ]
    }
   ],
   "source": [
    "print_vals(1, 2, 3)"
   ]
  },
  {
   "cell_type": "code",
   "execution_count": 47,
   "id": "integral-burden",
   "metadata": {},
   "outputs": [
    {
     "data": {
      "text/plain": [
       "3-element Vector{Int64}:\n",
       " 1\n",
       " 2\n",
       " 3"
      ]
     },
     "execution_count": 47,
     "metadata": {},
     "output_type": "execute_result"
    }
   ],
   "source": [
    "vals = [1, 2, 3]"
   ]
  },
  {
   "cell_type": "code",
   "execution_count": 50,
   "id": "interior-owner",
   "metadata": {},
   "outputs": [
    {
     "name": "stdout",
     "output_type": "stream",
     "text": [
      "First param:  1\n",
      "Second param: 2\n",
      "Third param:  3\n"
     ]
    }
   ],
   "source": [
    "print_vals(vals...)        # `splat` la lista en 3 valores (no necesita conincidir con el número de puntos)"
   ]
  },
  {
   "cell_type": "markdown",
   "id": "informal-vacation",
   "metadata": {},
   "source": [
    "Se puede hacer lo contrario:"
   ]
  },
  {
   "cell_type": "code",
   "execution_count": 48,
   "id": "designing-onion",
   "metadata": {},
   "outputs": [
    {
     "data": {
      "text/plain": [
       "add_vals (generic function with 1 method)"
      ]
     },
     "execution_count": 48,
     "metadata": {},
     "output_type": "execute_result"
    }
   ],
   "source": [
    "function add_vals(collection)\n",
    "    for (index, value) in enumerate(collection)\n",
    "           println(\"$index: $value\")\n",
    "    end\n",
    "end "
   ]
  },
  {
   "cell_type": "code",
   "execution_count": 49,
   "id": "neural-remainder",
   "metadata": {},
   "outputs": [
    {
     "ename": "LoadError",
     "evalue": "MethodError: no method matching add_vals(::String, ::String, ::String)\n\u001b[0mClosest candidates are:\n\u001b[0m  add_vals(::Any) at In[48]:1",
     "output_type": "error",
     "traceback": [
      "MethodError: no method matching add_vals(::String, ::String, ::String)\n\u001b[0mClosest candidates are:\n\u001b[0m  add_vals(::Any) at In[48]:1",
      "",
      "Stacktrace:",
      " [1] top-level scope",
      "   @ In[49]:1"
     ]
    }
   ],
   "source": [
    "add_vals(\"apple\", \"banana\", \"strawberry\")    \n",
    "# no se puede llamar con 3 valores"
   ]
  },
  {
   "cell_type": "code",
   "execution_count": 50,
   "id": "virgin-magnet",
   "metadata": {},
   "outputs": [
    {
     "data": {
      "text/plain": [
       "add_vals (generic function with 2 methods)"
      ]
     },
     "execution_count": 50,
     "metadata": {},
     "output_type": "execute_result"
    }
   ],
   "source": [
    "function add_vals(collection...)   # esto se llama 'slurping' \n",
    "    for (index, value) in enumerate(collection)\n",
    "           println(\"$index: $value\")\n",
    "    end\n",
    "end "
   ]
  },
  {
   "cell_type": "code",
   "execution_count": 51,
   "id": "bearing-large",
   "metadata": {},
   "outputs": [
    {
     "name": "stdout",
     "output_type": "stream",
     "text": [
      "1: apple\n",
      "2: banana\n",
      "3: strawberry\n"
     ]
    }
   ],
   "source": [
    "add_vals(\"apple\", \"banana\", \"strawberry\")"
   ]
  },
  {
   "cell_type": "markdown",
   "id": "korean-balance",
   "metadata": {},
   "source": [
    ".\n",
    ".\n",
    "\n",
    "\n",
    "Puede que no parezca muy útil pero ayuda a generar un código mas limpio. Además hay librerias y paquetes que usan esta sintaxis, por lo que es importante conocer lo que significan los 3 puntos `...`"
   ]
  },
  {
   "cell_type": "code",
   "execution_count": 52,
   "id": "phantom-innocent",
   "metadata": {},
   "outputs": [
    {
     "data": {
      "text/plain": [
       "(1, 2, 4)"
      ]
     },
     "execution_count": 52,
     "metadata": {},
     "output_type": "execute_result"
    }
   ],
   "source": [
    "a, b = (1, 2, 4) "
   ]
  },
  {
   "cell_type": "code",
   "execution_count": 53,
   "id": "distributed-priest",
   "metadata": {},
   "outputs": [
    {
     "name": "stdout",
     "output_type": "stream",
     "text": [
      "(a, b) = (1, 2)\n"
     ]
    }
   ],
   "source": [
    "@show a, b;  # no es lo que esperabas! "
   ]
  },
  {
   "cell_type": "code",
   "execution_count": 54,
   "id": "finnish-engine",
   "metadata": {},
   "outputs": [
    {
     "data": {
      "text/plain": [
       "(1, 2, 4)"
      ]
     },
     "execution_count": 54,
     "metadata": {},
     "output_type": "execute_result"
    }
   ],
   "source": [
    "a, b... = (1, 2, 4) # sin embargo..."
   ]
  },
  {
   "cell_type": "code",
   "execution_count": null,
   "id": "permanent-boost",
   "metadata": {},
   "outputs": [],
   "source": []
  }
 ],
 "metadata": {
  "kernelspec": {
   "display_name": "Julia 1.8.4",
   "language": "julia",
   "name": "julia-1.8"
  },
  "language_info": {
   "file_extension": ".jl",
   "mimetype": "application/julia",
   "name": "julia",
   "version": "1.8.4"
  }
 },
 "nbformat": 4,
 "nbformat_minor": 5
}
