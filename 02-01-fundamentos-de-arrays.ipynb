{
 "cells": [
  {
   "cell_type": "markdown",
   "id": "great-survivor",
   "metadata": {},
   "source": [
    "# Arrays, Matrices & Tensores"
   ]
  },
  {
   "cell_type": "markdown",
   "id": "lyric-horizon",
   "metadata": {},
   "source": [
    "Arrays es el objeto mas potente y útil en Julia. Exploremos algunos fundamentos."
   ]
  },
  {
   "cell_type": "code",
   "execution_count": 1,
   "id": "stable-visiting",
   "metadata": {},
   "outputs": [
    {
     "data": {
      "text/plain": [
       "3-element Vector{String}:\n",
       " \"jack\"\n",
       " \"jill\"\n",
       " \"john\""
      ]
     },
     "execution_count": 1,
     "metadata": {},
     "output_type": "execute_result"
    }
   ],
   "source": [
    "students = [\"jack\", \"jill\", \"john\"]"
   ]
  },
  {
   "cell_type": "code",
   "execution_count": 2,
   "id": "natural-official",
   "metadata": {},
   "outputs": [
    {
     "data": {
      "text/plain": [
       "Vector{String}\u001b[90m (alias for \u001b[39m\u001b[90mArray{String, 1}\u001b[39m\u001b[90m)\u001b[39m"
      ]
     },
     "execution_count": 2,
     "metadata": {},
     "output_type": "execute_result"
    }
   ],
   "source": [
    "typeof(students)"
   ]
  },
  {
   "cell_type": "markdown",
   "id": "executive-planning",
   "metadata": {},
   "source": [
    "'String' define el tipo de elementos en el Array y '1' indica la dimensión del Array. Por tanto, este array es unidimensional de valores string."
   ]
  },
  {
   "cell_type": "code",
   "execution_count": 3,
   "id": "downtown-recording",
   "metadata": {},
   "outputs": [
    {
     "data": {
      "text/plain": [
       "7-element Vector{Int64}:\n",
       "  1\n",
       "  1\n",
       "  2\n",
       "  3\n",
       "  5\n",
       "  8\n",
       " 13"
      ]
     },
     "execution_count": 3,
     "metadata": {},
     "output_type": "execute_result"
    }
   ],
   "source": [
    "fib = [1, 1, 2, 3, 5, 8, 13]"
   ]
  },
  {
   "cell_type": "code",
   "execution_count": 4,
   "id": "chemical-klein",
   "metadata": {},
   "outputs": [
    {
     "data": {
      "text/plain": [
       "Vector{Int64}\u001b[90m (alias for \u001b[39m\u001b[90mArray{Int64, 1}\u001b[39m\u001b[90m)\u001b[39m"
      ]
     },
     "execution_count": 4,
     "metadata": {},
     "output_type": "execute_result"
    }
   ],
   "source": [
    "typeof(fib)"
   ]
  },
  {
   "cell_type": "code",
   "execution_count": 5,
   "id": "taken-restaurant",
   "metadata": {},
   "outputs": [
    {
     "data": {
      "text/plain": [
       "8-element Vector{Int64}:\n",
       "  1\n",
       "  1\n",
       "  2\n",
       "  3\n",
       "  5\n",
       "  8\n",
       " 13\n",
       " 21"
      ]
     },
     "execution_count": 5,
     "metadata": {},
     "output_type": "execute_result"
    }
   ],
   "source": [
    "push!(fib, 21)"
   ]
  },
  {
   "cell_type": "code",
   "execution_count": 6,
   "id": "equal-generic",
   "metadata": {},
   "outputs": [
    {
     "name": "stdout",
     "output_type": "stream",
     "text": [
      "fib = [1, 1, 2, 3, 5, 8, 13, 21]\n"
     ]
    }
   ],
   "source": [
    "@show fib; "
   ]
  },
  {
   "cell_type": "code",
   "execution_count": 7,
   "id": "artificial-diesel",
   "metadata": {},
   "outputs": [
    {
     "data": {
      "text/plain": [
       "21"
      ]
     },
     "execution_count": 7,
     "metadata": {},
     "output_type": "execute_result"
    }
   ],
   "source": [
    "pop!(fib) # eliminar un valor del array"
   ]
  },
  {
   "cell_type": "code",
   "execution_count": 8,
   "id": "professional-liberty",
   "metadata": {},
   "outputs": [
    {
     "name": "stdout",
     "output_type": "stream",
     "text": [
      "fib = [1, 1, 2, 3, 5, 8, 13]\n"
     ]
    }
   ],
   "source": [
    "@show fib;"
   ]
  },
  {
   "cell_type": "markdown",
   "id": "third-illustration",
   "metadata": {},
   "source": [
    "## 2D Arrays"
   ]
  },
  {
   "cell_type": "code",
   "execution_count": 9,
   "id": "covered-stanley",
   "metadata": {},
   "outputs": [
    {
     "data": {
      "text/plain": [
       "3-element Vector{Vector{Int64}}:\n",
       " [1, 2, 3]\n",
       " [4, 5, 6]\n",
       " [7, 8, 9, 24]"
      ]
     },
     "execution_count": 9,
     "metadata": {},
     "output_type": "execute_result"
    }
   ],
   "source": [
    "mat = [\n",
    "    [1, 2, 3], \n",
    "    [4, 5, 6], \n",
    "    [7, 8, 9, 24]\n",
    "]"
   ]
  },
  {
   "cell_type": "code",
   "execution_count": 10,
   "id": "dependent-monster",
   "metadata": {},
   "outputs": [
    {
     "data": {
      "text/plain": [
       "Vector{Vector{Int64}}\u001b[90m (alias for \u001b[39m\u001b[90mArray{Array{Int64, 1}, 1}\u001b[39m\u001b[90m)\u001b[39m"
      ]
     },
     "execution_count": 10,
     "metadata": {},
     "output_type": "execute_result"
    }
   ],
   "source": [
    "typeof(mat)"
   ]
  },
  {
   "cell_type": "markdown",
   "id": "consecutive-algebra",
   "metadata": {},
   "source": [
    "**Importante** un array 2D **no** es una matriz. Es un array 1D pero cada elemento es un array unidimensional!\n",
    "\n",
    "Vamos a crear arrays bi-dimensionales"
   ]
  },
  {
   "cell_type": "markdown",
   "id": "focused-latvia",
   "metadata": {},
   "source": [
    "## Matrices "
   ]
  },
  {
   "cell_type": "code",
   "execution_count": 11,
   "id": "cognitive-insight",
   "metadata": {},
   "outputs": [
    {
     "data": {
      "text/plain": [
       "1×3 Matrix{Int64}:\n",
       " 1  2  3"
      ]
     },
     "execution_count": 11,
     "metadata": {},
     "output_type": "execute_result"
    }
   ],
   "source": [
    "x = [1 2 3]       # observa que no necesitamos ',' entre los elementos ni las dimensiones"
   ]
  },
  {
   "cell_type": "code",
   "execution_count": 12,
   "id": "willing-double",
   "metadata": {},
   "outputs": [
    {
     "data": {
      "text/plain": [
       "3×1 adjoint(::Matrix{Int64}) with eltype Int64:\n",
       " 1\n",
       " 2\n",
       " 3"
      ]
     },
     "execution_count": 12,
     "metadata": {},
     "output_type": "execute_result"
    }
   ],
   "source": [
    "x'                # lo transpone o lo convierte a un vector"
   ]
  },
  {
   "cell_type": "code",
   "execution_count": 13,
   "id": "brief-mathematics",
   "metadata": {},
   "outputs": [
    {
     "data": {
      "text/plain": [
       "3×3 Matrix{Int64}:\n",
       " 1  2  3\n",
       " 4  5  6\n",
       " 7  8  9"
      ]
     },
     "execution_count": 13,
     "metadata": {},
     "output_type": "execute_result"
    }
   ],
   "source": [
    "mat = [\n",
    "       [1  2  3] \n",
    "       [4  5  6] \n",
    "       [7  8  9]\n",
    "      ]"
   ]
  },
  {
   "cell_type": "code",
   "execution_count": 14,
   "id": "historical-novel",
   "metadata": {},
   "outputs": [
    {
     "data": {
      "text/plain": [
       "Matrix{Int64}\u001b[90m (alias for \u001b[39m\u001b[90mArray{Int64, 2}\u001b[39m\u001b[90m)\u001b[39m"
      ]
     },
     "execution_count": 14,
     "metadata": {},
     "output_type": "execute_result"
    }
   ],
   "source": [
    "typeof(mat)"
   ]
  },
  {
   "cell_type": "markdown",
   "id": "dangerous-australia",
   "metadata": {},
   "source": [
    "### Tamaños (Shapes) y Re-fomateo"
   ]
  },
  {
   "cell_type": "code",
   "execution_count": 15,
   "id": "yellow-christianity",
   "metadata": {},
   "outputs": [
    {
     "data": {
      "text/plain": [
       "(3, 3)"
      ]
     },
     "execution_count": 15,
     "metadata": {},
     "output_type": "execute_result"
    }
   ],
   "source": [
    "size(mat)     # muy importante en machine learning "
   ]
  },
  {
   "cell_type": "code",
   "execution_count": 16,
   "id": "occupational-circulation",
   "metadata": {},
   "outputs": [
    {
     "data": {
      "text/plain": [
       "(1, 3)"
      ]
     },
     "execution_count": 16,
     "metadata": {},
     "output_type": "execute_result"
    }
   ],
   "source": [
    "size(x)"
   ]
  },
  {
   "cell_type": "code",
   "execution_count": 17,
   "id": "broken-chapel",
   "metadata": {},
   "outputs": [
    {
     "data": {
      "text/plain": [
       "(7,)"
      ]
     },
     "execution_count": 17,
     "metadata": {},
     "output_type": "execute_result"
    }
   ],
   "source": [
    "size(fib)     # diferencia importante "
   ]
  },
  {
   "cell_type": "code",
   "execution_count": 18,
   "id": "fiscal-projection",
   "metadata": {},
   "outputs": [
    {
     "data": {
      "text/plain": [
       "4×3 Matrix{Int64}:\n",
       "  1   2   3\n",
       "  4   5   6\n",
       "  7   8   9\n",
       " 10  11  12"
      ]
     },
     "execution_count": 18,
     "metadata": {},
     "output_type": "execute_result"
    }
   ],
   "source": [
    "X = [\n",
    "       [1   2   3] \n",
    "       [4   5   6] \n",
    "       [7   8   9]\n",
    "       [10  11  12]\n",
    "      ]"
   ]
  },
  {
   "cell_type": "code",
   "execution_count": 19,
   "id": "revolutionary-motel",
   "metadata": {},
   "outputs": [
    {
     "data": {
      "text/plain": [
       "2×6 Matrix{Int64}:\n",
       " 1   7  2   8  3   9\n",
       " 4  10  5  11  6  12"
      ]
     },
     "execution_count": 19,
     "metadata": {},
     "output_type": "execute_result"
    }
   ],
   "source": [
    "X = reshape(X, 2, 6)"
   ]
  },
  {
   "cell_type": "code",
   "execution_count": 20,
   "id": "liked-mattress",
   "metadata": {},
   "outputs": [
    {
     "data": {
      "text/plain": [
       "12×1 Matrix{Int64}:\n",
       "  1\n",
       "  4\n",
       "  7\n",
       " 10\n",
       "  2\n",
       "  5\n",
       "  8\n",
       " 11\n",
       "  3\n",
       "  6\n",
       "  9\n",
       " 12"
      ]
     },
     "execution_count": 20,
     "metadata": {},
     "output_type": "execute_result"
    }
   ],
   "source": [
    "X = reshape(X, 12, 1)"
   ]
  },
  {
   "cell_type": "code",
   "execution_count": 21,
   "id": "exempt-slovenia",
   "metadata": {},
   "outputs": [
    {
     "data": {
      "text/plain": [
       "4×3 Matrix{Int64}:\n",
       "  1   2   3\n",
       "  4   5   6\n",
       "  7   8   9\n",
       " 10  11  12"
      ]
     },
     "execution_count": 21,
     "metadata": {},
     "output_type": "execute_result"
    }
   ],
   "source": [
    "X = reshape(X, 4, 3)"
   ]
  },
  {
   "cell_type": "markdown",
   "id": "related-sacramento",
   "metadata": {},
   "source": [
    "## Functiones útiles "
   ]
  },
  {
   "cell_type": "markdown",
   "id": "patient-bedroom",
   "metadata": {},
   "source": [
    "### Creando Matrices Random"
   ]
  },
  {
   "cell_type": "code",
   "execution_count": 22,
   "id": "worth-lewis",
   "metadata": {},
   "outputs": [
    {
     "data": {
      "text/plain": [
       "4×3 Matrix{Float64}:\n",
       " 0.742342  0.814506  0.195766\n",
       " 0.282074  0.918096  0.214641\n",
       " 0.130744  0.085191  0.0838521\n",
       " 0.817308  0.592883  0.0216256"
      ]
     },
     "execution_count": 22,
     "metadata": {},
     "output_type": "execute_result"
    }
   ],
   "source": [
    "rand(4, 3)"
   ]
  },
  {
   "cell_type": "code",
   "execution_count": 23,
   "id": "modern-money",
   "metadata": {},
   "outputs": [
    {
     "data": {
      "text/plain": [
       "4×3 Matrix{Float64}:\n",
       " 0.962364  0.0355578  0.31972\n",
       " 0.11829   0.38804    0.531702\n",
       " 0.916149  0.604894   0.133634\n",
       " 0.465471  0.151603   0.83443"
      ]
     },
     "execution_count": 23,
     "metadata": {},
     "output_type": "execute_result"
    }
   ],
   "source": [
    "mat = rand(4, 3)"
   ]
  },
  {
   "cell_type": "code",
   "execution_count": 24,
   "id": "periodic-motion",
   "metadata": {},
   "outputs": [],
   "source": [
    "mat_2 = mat;"
   ]
  },
  {
   "cell_type": "code",
   "execution_count": 25,
   "id": "right-vietnamese",
   "metadata": {},
   "outputs": [
    {
     "data": {
      "text/plain": [
       "100.0"
      ]
     },
     "execution_count": 25,
     "metadata": {},
     "output_type": "execute_result"
    }
   ],
   "source": [
    "mat_2[1, 1] = 100.0 # asignando valores"
   ]
  },
  {
   "cell_type": "code",
   "execution_count": 26,
   "id": "recovered-sodium",
   "metadata": {},
   "outputs": [
    {
     "data": {
      "text/plain": [
       "4×3 Matrix{Float64}:\n",
       " 100.0       0.0355578  0.31972\n",
       "   0.11829   0.38804    0.531702\n",
       "   0.916149  0.604894   0.133634\n",
       "   0.465471  0.151603   0.83443"
      ]
     },
     "execution_count": 26,
     "metadata": {},
     "output_type": "execute_result"
    }
   ],
   "source": [
    "mat_2"
   ]
  },
  {
   "cell_type": "code",
   "execution_count": 27,
   "id": "shared-spencer",
   "metadata": {},
   "outputs": [
    {
     "data": {
      "text/plain": [
       "4×3 Matrix{Float64}:\n",
       " 100.0       0.0355578  0.31972\n",
       "   0.11829   0.38804    0.531702\n",
       "   0.916149  0.604894   0.133634\n",
       "   0.465471  0.151603   0.83443"
      ]
     },
     "execution_count": 27,
     "metadata": {},
     "output_type": "execute_result"
    }
   ],
   "source": [
    "mat # es mutable tambien"
   ]
  },
  {
   "cell_type": "markdown",
   "id": "running-proof",
   "metadata": {},
   "source": [
    "### Copiando Arrays "
   ]
  },
  {
   "cell_type": "code",
   "execution_count": 28,
   "id": "hydraulic-powder",
   "metadata": {},
   "outputs": [
    {
     "data": {
      "text/plain": [
       "4×3 Matrix{Float64}:\n",
       " 100.0       0.0355578  0.31972\n",
       "   0.11829   0.38804    0.531702\n",
       "   0.916149  0.604894   0.133634\n",
       "   0.465471  0.151603   0.83443"
      ]
     },
     "execution_count": 28,
     "metadata": {},
     "output_type": "execute_result"
    }
   ],
   "source": [
    "mat_3 = copy(mat)  \n",
    "# crea una copia de los valores, pero los arrays / matrices son inmutables entre si"
   ]
  },
  {
   "cell_type": "code",
   "execution_count": 29,
   "id": "continuing-butterfly",
   "metadata": {},
   "outputs": [
    {
     "data": {
      "text/plain": [
       "999.0"
      ]
     },
     "execution_count": 29,
     "metadata": {},
     "output_type": "execute_result"
    }
   ],
   "source": [
    "mat_3[1, 1] = 999.0"
   ]
  },
  {
   "cell_type": "code",
   "execution_count": 30,
   "id": "sixth-worship",
   "metadata": {},
   "outputs": [
    {
     "data": {
      "text/plain": [
       "4×3 Matrix{Float64}:\n",
       " 100.0       0.0355578  0.31972\n",
       "   0.11829   0.38804    0.531702\n",
       "   0.916149  0.604894   0.133634\n",
       "   0.465471  0.151603   0.83443"
      ]
     },
     "execution_count": 30,
     "metadata": {},
     "output_type": "execute_result"
    }
   ],
   "source": [
    "mat"
   ]
  },
  {
   "cell_type": "code",
   "execution_count": 31,
   "id": "therapeutic-county",
   "metadata": {},
   "outputs": [
    {
     "data": {
      "text/plain": [
       "4×3 Matrix{Float64}:\n",
       " 999.0       0.0355578  0.31972\n",
       "   0.11829   0.38804    0.531702\n",
       "   0.916149  0.604894   0.133634\n",
       "   0.465471  0.151603   0.83443"
      ]
     },
     "execution_count": 31,
     "metadata": {},
     "output_type": "execute_result"
    }
   ],
   "source": [
    "mat_3"
   ]
  },
  {
   "cell_type": "markdown",
   "id": "lucky-resolution",
   "metadata": {},
   "source": [
    "## Comprehensions "
   ]
  },
  {
   "cell_type": "markdown",
   "id": "enormous-boutique",
   "metadata": {},
   "source": [
    "Es posible hacer 'nested loops' con 'comprehensions'"
   ]
  },
  {
   "cell_type": "code",
   "execution_count": 32,
   "id": "interracial-chemical",
   "metadata": {},
   "outputs": [
    {
     "data": {
      "text/plain": [
       "10-element Vector{Int64}:\n",
       "   1\n",
       "   4\n",
       "   9\n",
       "  16\n",
       "  25\n",
       "  36\n",
       "  49\n",
       "  64\n",
       "  81\n",
       " 100"
      ]
     },
     "execution_count": 32,
     "metadata": {},
     "output_type": "execute_result"
    }
   ],
   "source": [
    "[i^2 for i in 1:10]"
   ]
  },
  {
   "cell_type": "code",
   "execution_count": 33,
   "id": "timely-startup",
   "metadata": {},
   "outputs": [
    {
     "data": {
      "text/plain": [
       "5×5 Matrix{Tuple{Int64, Int64}}:\n",
       " (1, 6)  (1, 7)  (1, 8)  (1, 9)  (1, 10)\n",
       " (2, 6)  (2, 7)  (2, 8)  (2, 9)  (2, 10)\n",
       " (3, 6)  (3, 7)  (3, 8)  (3, 9)  (3, 10)\n",
       " (4, 6)  (4, 7)  (4, 8)  (4, 9)  (4, 10)\n",
       " (5, 6)  (5, 7)  (5, 8)  (5, 9)  (5, 10)"
      ]
     },
     "execution_count": 33,
     "metadata": {},
     "output_type": "execute_result"
    }
   ],
   "source": [
    "[(i, j) for i in 1:5, j in 6:10]      # producto cartesiano (nested loop)"
   ]
  },
  {
   "cell_type": "code",
   "execution_count": 34,
   "id": "legitimate-animation",
   "metadata": {},
   "outputs": [
    {
     "data": {
      "text/plain": [
       "5×5 Matrix{Tuple{Int64, Rational{Int64}}}:\n",
       " (1, 13//2)   (1, 15//2)   (1, 17//2)   (1, 19//2)   (1, 21//2)\n",
       " (4, 13//2)   (4, 15//2)   (4, 17//2)   (4, 19//2)   (4, 21//2)\n",
       " (9, 13//2)   (9, 15//2)   (9, 17//2)   (9, 19//2)   (9, 21//2)\n",
       " (16, 13//2)  (16, 15//2)  (16, 17//2)  (16, 19//2)  (16, 21//2)\n",
       " (25, 13//2)  (25, 15//2)  (25, 17//2)  (25, 19//2)  (25, 21//2)"
      ]
     },
     "execution_count": 34,
     "metadata": {},
     "output_type": "execute_result"
    }
   ],
   "source": [
    "[(i^2, j+1//2) for i in 1:5, j in 6:10]"
   ]
  },
  {
   "cell_type": "markdown",
   "id": "contrary-shipping",
   "metadata": {},
   "source": [
    "## Operaciones con Matrices "
   ]
  },
  {
   "cell_type": "code",
   "execution_count": 35,
   "id": "greater-hartford",
   "metadata": {},
   "outputs": [
    {
     "data": {
      "text/plain": [
       "3×3 Matrix{Int64}:\n",
       " 14  13  16\n",
       " 17  13  20\n",
       " 18  11  11"
      ]
     },
     "execution_count": 35,
     "metadata": {},
     "output_type": "execute_result"
    }
   ],
   "source": [
    "A = rand(10:20, 3, 3)\n",
    "# Matriz 3x3 con cada elmento entre 10 y 20 "
   ]
  },
  {
   "cell_type": "code",
   "execution_count": 43,
   "id": "sweet-rolling",
   "metadata": {},
   "outputs": [
    {
     "data": {
      "text/plain": [
       "3×3 Matrix{Float64}:\n",
       " 11.0  16.0  19.0\n",
       " 19.0  14.0  10.0\n",
       " 11.0  10.0  11.0"
      ]
     },
     "execution_count": 43,
     "metadata": {},
     "output_type": "execute_result"
    }
   ],
   "source": [
    "A = rand(10.:20, 3, 3) \n",
    "# Cambiando el rango, cambia el tipo a Float64"
   ]
  },
  {
   "cell_type": "markdown",
   "id": "eleven-forge",
   "metadata": {},
   "source": [
    "En vez de usar valores aleatorios, podemos asignar valores especificos con **fill**"
   ]
  },
  {
   "cell_type": "code",
   "execution_count": 37,
   "id": "protecting-birmingham",
   "metadata": {},
   "outputs": [
    {
     "data": {
      "text/plain": [
       "3-element Vector{Float64}:\n",
       " 10.0\n",
       " 10.0\n",
       " 10.0"
      ]
     },
     "execution_count": 37,
     "metadata": {},
     "output_type": "execute_result"
    }
   ],
   "source": [
    "x = fill(10.0, (3, ))"
   ]
  },
  {
   "cell_type": "code",
   "execution_count": 38,
   "id": "sticky-calcium",
   "metadata": {},
   "outputs": [
    {
     "data": {
      "text/plain": [
       "3-element Vector{Float64}:\n",
       " 400.0\n",
       " 430.0\n",
       " 490.0"
      ]
     },
     "execution_count": 38,
     "metadata": {},
     "output_type": "execute_result"
    }
   ],
   "source": [
    "A*x \n",
    "# esta es la operacion de multiplicar un vector por una matriz (requiere un ajuste de 'size match') "
   ]
  },
  {
   "cell_type": "markdown",
   "id": "changed-manchester",
   "metadata": {},
   "source": [
    "### Transpose, Trace, Determinant"
   ]
  },
  {
   "cell_type": "code",
   "execution_count": 39,
   "id": "geographic-making",
   "metadata": {},
   "outputs": [
    {
     "data": {
      "text/plain": [
       "3×3 adjoint(::Matrix{Float64}) with eltype Float64:\n",
       " 12.0  12.0  14.0\n",
       " 10.0  18.0  15.0\n",
       " 18.0  13.0  20.0"
      ]
     },
     "execution_count": 39,
     "metadata": {},
     "output_type": "execute_result"
    }
   ],
   "source": [
    "A'"
   ]
  },
  {
   "cell_type": "code",
   "execution_count": 46,
   "id": "acute-compact",
   "metadata": {},
   "outputs": [
    {
     "data": {
      "text/plain": [
       "3×3 Matrix{Float64}:\n",
       " 603.0  552.0  520.0\n",
       " 552.0  552.0  554.0\n",
       " 520.0  554.0  582.0"
      ]
     },
     "execution_count": 46,
     "metadata": {},
     "output_type": "execute_result"
    }
   ],
   "source": [
    "A' * A"
   ]
  },
  {
   "cell_type": "code",
   "execution_count": 44,
   "id": "south-committee",
   "metadata": {},
   "outputs": [
    {
     "data": {
      "text/plain": [
       "3×3 Matrix{Float64}:\n",
       " 603.0  552.0  520.0\n",
       " 552.0  552.0  554.0\n",
       " 520.0  554.0  582.0"
      ]
     },
     "execution_count": 44,
     "metadata": {},
     "output_type": "execute_result"
    }
   ],
   "source": [
    "A'A      # shortcut ... tipico de Julia "
   ]
  },
  {
   "cell_type": "code",
   "execution_count": 47,
   "id": "inner-christopher",
   "metadata": {},
   "outputs": [
    {
     "ename": "LoadError",
     "evalue": "UndefVarError: tr not defined",
     "output_type": "error",
     "traceback": [
      "UndefVarError: tr not defined",
      "",
      "Stacktrace:",
      " [1] top-level scope",
      "   @ In[47]:1"
     ]
    }
   ],
   "source": [
    "tr(A)     # trace de A "
   ]
  },
  {
   "cell_type": "code",
   "execution_count": 48,
   "id": "breeding-minnesota",
   "metadata": {},
   "outputs": [],
   "source": [
    "using LinearAlgebra # invocar un paquete instalado"
   ]
  },
  {
   "cell_type": "code",
   "execution_count": 49,
   "id": "minute-taxation",
   "metadata": {},
   "outputs": [
    {
     "data": {
      "text/plain": [
       "-305.9999999999999"
      ]
     },
     "execution_count": 49,
     "metadata": {},
     "output_type": "execute_result"
    }
   ],
   "source": [
    "det(A)    # determinant necesita el paquete LinearAlgebra "
   ]
  },
  {
   "cell_type": "code",
   "execution_count": 50,
   "id": "competent-bradford",
   "metadata": {},
   "outputs": [
    {
     "data": {
      "text/plain": [
       "3×3 Matrix{Float64}:\n",
       " -0.176471  -0.0457516   0.346405\n",
       "  0.323529   0.287582   -0.820261\n",
       " -0.117647  -0.215686    0.490196"
      ]
     },
     "execution_count": 50,
     "metadata": {},
     "output_type": "execute_result"
    }
   ],
   "source": [
    "inv(A)"
   ]
  },
  {
   "cell_type": "markdown",
   "id": "tough-wells",
   "metadata": {},
   "source": [
    "## Resolver ecuaciones Lineales directamente "
   ]
  },
  {
   "cell_type": "code",
   "execution_count": 51,
   "id": "together-defeat",
   "metadata": {},
   "outputs": [
    {
     "data": {
      "text/plain": [
       "3×3 Matrix{Float64}:\n",
       " 0.718613  0.69048   0.671767\n",
       " 0.913804  0.348843  0.822377\n",
       " 0.801306  0.42128   0.671731"
      ]
     },
     "execution_count": 51,
     "metadata": {},
     "output_type": "execute_result"
    }
   ],
   "source": [
    "A = rand(3, 3)"
   ]
  },
  {
   "cell_type": "code",
   "execution_count": 52,
   "id": "subtle-haiti",
   "metadata": {},
   "outputs": [
    {
     "data": {
      "text/plain": [
       "3-element Vector{Float64}:\n",
       " 10.0\n",
       " 10.0\n",
       " 10.0"
      ]
     },
     "execution_count": 52,
     "metadata": {},
     "output_type": "execute_result"
    }
   ],
   "source": [
    "x"
   ]
  },
  {
   "cell_type": "code",
   "execution_count": 53,
   "id": "possible-allocation",
   "metadata": {},
   "outputs": [
    {
     "data": {
      "text/plain": [
       "3-element Vector{Float64}:\n",
       " 20.808600632865016\n",
       " 20.850239373222987\n",
       " 18.943173003748832"
      ]
     },
     "execution_count": 53,
     "metadata": {},
     "output_type": "execute_result"
    }
   ],
   "source": [
    "b = A*x"
   ]
  },
  {
   "cell_type": "code",
   "execution_count": 54,
   "id": "downtown-service",
   "metadata": {},
   "outputs": [
    {
     "data": {
      "text/plain": [
       "3-element Vector{Float64}:\n",
       "  9.999999999999986\n",
       " 10.000000000000004\n",
       " 10.000000000000012"
      ]
     },
     "execution_count": 54,
     "metadata": {},
     "output_type": "execute_result"
    }
   ],
   "source": [
    "A\\b  # Solve for b "
   ]
  },
  {
   "cell_type": "markdown",
   "id": "mechanical-cement",
   "metadata": {},
   "source": [
    "## Mas ... "
   ]
  },
  {
   "cell_type": "markdown",
   "id": "ultimate-minute",
   "metadata": {},
   "source": [
    "Se pueden crear n-dim arrays facilmente. Estos tensores son muy útiles en machine learning."
   ]
  },
  {
   "cell_type": "code",
   "execution_count": 55,
   "id": "unlikely-nation",
   "metadata": {},
   "outputs": [
    {
     "data": {
      "text/plain": [
       "4×3×2×5 Array{Float64, 4}:\n",
       "[:, :, 1, 1] =\n",
       " 0.404759  0.765286  0.102529\n",
       " 0.30605   0.201866  0.218889\n",
       " 0.698634  0.913608  0.641137\n",
       " 0.536745  0.804473  0.455469\n",
       "\n",
       "[:, :, 2, 1] =\n",
       " 0.488777   0.628932   0.137866\n",
       " 0.75414    0.784747   0.643433\n",
       " 0.0970311  0.755797   0.32278\n",
       " 0.318185   0.0328117  0.839912\n",
       "\n",
       "[:, :, 1, 2] =\n",
       " 0.691901  0.447272  0.975492\n",
       " 0.289906  0.670797  0.928073\n",
       " 0.53104   0.50987   0.503928\n",
       " 0.144459  0.123768  0.227668\n",
       "\n",
       "[:, :, 2, 2] =\n",
       " 0.590969  0.95383     0.708265\n",
       " 0.784044  0.377008    0.463388\n",
       " 0.371066  0.00432103  0.403252\n",
       " 0.623865  0.913963    0.929829\n",
       "\n",
       "[:, :, 1, 3] =\n",
       " 0.317553  0.33722   0.0571102\n",
       " 0.578479  0.557459  0.242973\n",
       " 0.601016  0.770839  0.676911\n",
       " 0.700125  0.938048  0.56107\n",
       "\n",
       "[:, :, 2, 3] =\n",
       " 0.487944   0.69636    0.441643\n",
       " 0.314279   0.759119   0.666434\n",
       " 0.0655472  0.0219641  0.524517\n",
       " 0.157179   0.0570409  0.681961\n",
       "\n",
       "[:, :, 1, 4] =\n",
       " 0.437032  0.681014  0.396224\n",
       " 0.390044  0.216322  0.962701\n",
       " 0.168688  0.735583  0.291727\n",
       " 0.705645  0.166846  0.625425\n",
       "\n",
       "[:, :, 2, 4] =\n",
       " 0.42209   0.512439   0.559326\n",
       " 0.640274  0.811827   0.964736\n",
       " 0.387577  0.232011   0.121713\n",
       " 0.928582  0.0914142  0.243065\n",
       "\n",
       "[:, :, 1, 5] =\n",
       " 0.633154   0.539951  0.535142\n",
       " 0.482359   0.650191  0.432804\n",
       " 0.0213724  0.350036  0.00761889\n",
       " 0.105315   0.59525   0.3859\n",
       "\n",
       "[:, :, 2, 5] =\n",
       " 0.526541  0.500623  0.144369\n",
       " 0.957326  0.913838  0.33937\n",
       " 0.972525  0.77246   0.795816\n",
       " 0.523279  0.502724  0.439904"
      ]
     },
     "execution_count": 55,
     "metadata": {},
     "output_type": "execute_result"
    }
   ],
   "source": [
    "rand(4, 3, 2, 5)"
   ]
  },
  {
   "cell_type": "markdown",
   "id": "subject-religion",
   "metadata": {},
   "source": [
    "Explore el paquete LinearAlgebra para más operaciones. https://docs.julialang.org/en/v1/stdlib/LinearAlgebra/"
   ]
  },
  {
   "cell_type": "code",
   "execution_count": null,
   "id": "velvet-canvas",
   "metadata": {},
   "outputs": [],
   "source": []
  }
 ],
 "metadata": {
  "kernelspec": {
   "display_name": "Julia 1.8.4",
   "language": "julia",
   "name": "julia-1.8"
  },
  "language_info": {
   "file_extension": ".jl",
   "mimetype": "application/julia",
   "name": "julia",
   "version": "1.8.4"
  }
 },
 "nbformat": 4,
 "nbformat_minor": 5
}
