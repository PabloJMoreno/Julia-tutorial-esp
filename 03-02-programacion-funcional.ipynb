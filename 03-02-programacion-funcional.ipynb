{
 "cells": [
  {
   "cell_type": "markdown",
   "id": "invalid-embassy",
   "metadata": {},
   "source": [
    "# Programacion Funcional Elemental "
   ]
  },
  {
   "cell_type": "markdown",
   "id": "lucky-italy",
   "metadata": {},
   "source": [
    "La Programacion Funcional es muy útil en términos de pensamiento matemático. Es altamente paralelizable y se deberían entender los conceptos básicos, que veremos a continuación."
   ]
  },
  {
   "cell_type": "markdown",
   "id": "embedded-soundtrack",
   "metadata": {},
   "source": [
    "## Map "
   ]
  },
  {
   "cell_type": "markdown",
   "id": "wanted-amino",
   "metadata": {},
   "source": [
    "Map aplica una funcion a todos los elementos de una colección"
   ]
  },
  {
   "cell_type": "code",
   "execution_count": 1,
   "id": "wrapped-condition",
   "metadata": {},
   "outputs": [
    {
     "data": {
      "text/plain": [
       "3-element Vector{Int64}:\n",
       " 1\n",
       " 2\n",
       " 4"
      ]
     },
     "execution_count": 1,
     "metadata": {},
     "output_type": "execute_result"
    }
   ],
   "source": [
    "collection = [1, 2, 4]"
   ]
  },
  {
   "cell_type": "code",
   "execution_count": 2,
   "id": "confident-ballot",
   "metadata": {},
   "outputs": [
    {
     "data": {
      "text/plain": [
       "3-element Vector{Int64}:\n",
       "  1\n",
       "  4\n",
       " 16"
      ]
     },
     "execution_count": 2,
     "metadata": {},
     "output_type": "execute_result"
    }
   ],
   "source": [
    "map(x -> x^2, collection) # aplicando 'map()'"
   ]
  },
  {
   "cell_type": "code",
   "execution_count": 3,
   "id": "bizarre-jurisdiction",
   "metadata": {},
   "outputs": [],
   "source": [
    "squares = map(x -> x^2, collection);"
   ]
  },
  {
   "cell_type": "code",
   "execution_count": 4,
   "id": "coupled-extent",
   "metadata": {},
   "outputs": [
    {
     "name": "stdout",
     "output_type": "stream",
     "text": [
      "squares = [1, 4, 16]\n"
     ]
    }
   ],
   "source": [
    "@show squares;"
   ]
  },
  {
   "cell_type": "markdown",
   "id": "loose-mortality",
   "metadata": {},
   "source": [
    "`map` es por tanto una **función de orden superior** en tanto que toma argumentos en si misma. La programación funcional se desarrolla sobre este concepto.\n",
    "Es muy util dado que se puede paralelizar, aumentando su rendimiento y velocidad en cálculos muy grandes. Hay algoritmos que resuelven casos muy comunes en programación funcional, tales como `map`, `reduce` y `filter`"
   ]
  },
  {
   "cell_type": "markdown",
   "id": "binding-costume",
   "metadata": {},
   "source": [
    "## Reduce \n"
   ]
  },
  {
   "cell_type": "code",
   "execution_count": 5,
   "id": "mineral-inventory",
   "metadata": {},
   "outputs": [
    {
     "data": {
      "text/plain": [
       "4-element Vector{Int64}:\n",
       "  1\n",
       "  2\n",
       "  4\n",
       " 10"
      ]
     },
     "execution_count": 5,
     "metadata": {},
     "output_type": "execute_result"
    }
   ],
   "source": [
    "collection = [1, 2, 4, 10]"
   ]
  },
  {
   "cell_type": "code",
   "execution_count": 6,
   "id": "narrative-exhibition",
   "metadata": {},
   "outputs": [
    {
     "data": {
      "text/plain": [
       "17"
      ]
     },
     "execution_count": 6,
     "metadata": {},
     "output_type": "execute_result"
    }
   ],
   "source": [
    "reduce(+, collection)  # aplica la función 'reduce()' a los dos primeros elementos, luego agrega el tercero, y así sucesivamente...  "
   ]
  },
  {
   "cell_type": "markdown",
   "id": "portuguese-universal",
   "metadata": {},
   "source": [
    "## Broadcast "
   ]
  },
  {
   "cell_type": "code",
   "execution_count": 7,
   "id": "italian-harvey",
   "metadata": {},
   "outputs": [
    {
     "data": {
      "text/plain": [
       "3-element Vector{Int64}:\n",
       " 1\n",
       " 2\n",
       " 4"
      ]
     },
     "execution_count": 7,
     "metadata": {},
     "output_type": "execute_result"
    }
   ],
   "source": [
    "collection = [1, 2, 4]"
   ]
  },
  {
   "cell_type": "code",
   "execution_count": 8,
   "id": "meaning-standard",
   "metadata": {},
   "outputs": [
    {
     "data": {
      "text/plain": [
       "f (generic function with 1 method)"
      ]
     },
     "execution_count": 8,
     "metadata": {},
     "output_type": "execute_result"
    }
   ],
   "source": [
    "function f(x) \n",
    "    x ^ 2 \n",
    "end"
   ]
  },
  {
   "cell_type": "code",
   "execution_count": 9,
   "id": "likely-trail",
   "metadata": {},
   "outputs": [
    {
     "data": {
      "text/plain": [
       "3-element Vector{Int64}:\n",
       "  1\n",
       "  4\n",
       " 16"
      ]
     },
     "execution_count": 9,
     "metadata": {},
     "output_type": "execute_result"
    }
   ],
   "source": [
    "broadcast(f, collection)      # parece similar a 'map()'"
   ]
  },
  {
   "cell_type": "code",
   "execution_count": 10,
   "id": "dangerous-leone",
   "metadata": {},
   "outputs": [
    {
     "data": {
      "text/plain": [
       "3-element Vector{Int64}:\n",
       " 1\n",
       " 2\n",
       " 4"
      ]
     },
     "execution_count": 10,
     "metadata": {},
     "output_type": "execute_result"
    }
   ],
   "source": [
    "collection"
   ]
  },
  {
   "cell_type": "code",
   "execution_count": 11,
   "id": "serial-olive",
   "metadata": {},
   "outputs": [
    {
     "data": {
      "text/plain": [
       "3-element Vector{Int64}:\n",
       "  1\n",
       "  4\n",
       " 16"
      ]
     },
     "execution_count": 11,
     "metadata": {},
     "output_type": "execute_result"
    }
   ],
   "source": [
    "f.(collection)   # lo interesante es que dispone de un atajo "
   ]
  },
  {
   "cell_type": "code",
   "execution_count": 12,
   "id": "enclosed-induction",
   "metadata": {},
   "outputs": [
    {
     "ename": "LoadError",
     "evalue": "MethodError: no method matching ^(::Vector{Int64}, ::Int64)\n\u001b[0mClosest candidates are:\n\u001b[0m  ^(\u001b[91m::Union{AbstractChar, AbstractString}\u001b[39m, ::Integer) at strings/basic.jl:730\n\u001b[0m  ^(\u001b[91m::LinearAlgebra.Diagonal\u001b[39m, ::Integer) at C:\\julia184\\Julia-1.8.4\\share\\julia\\stdlib\\v1.8\\LinearAlgebra\\src\\diagonal.jl:208\n\u001b[0m  ^(\u001b[91m::LinearAlgebra.Diagonal\u001b[39m, ::Real) at C:\\julia184\\Julia-1.8.4\\share\\julia\\stdlib\\v1.8\\LinearAlgebra\\src\\diagonal.jl:207\n\u001b[0m  ...",
     "output_type": "error",
     "traceback": [
      "MethodError: no method matching ^(::Vector{Int64}, ::Int64)\n\u001b[0mClosest candidates are:\n\u001b[0m  ^(\u001b[91m::Union{AbstractChar, AbstractString}\u001b[39m, ::Integer) at strings/basic.jl:730\n\u001b[0m  ^(\u001b[91m::LinearAlgebra.Diagonal\u001b[39m, ::Integer) at C:\\julia184\\Julia-1.8.4\\share\\julia\\stdlib\\v1.8\\LinearAlgebra\\src\\diagonal.jl:208\n\u001b[0m  ^(\u001b[91m::LinearAlgebra.Diagonal\u001b[39m, ::Real) at C:\\julia184\\Julia-1.8.4\\share\\julia\\stdlib\\v1.8\\LinearAlgebra\\src\\diagonal.jl:207\n\u001b[0m  ...",
      "",
      "Stacktrace:",
      " [1] literal_pow",
      "   @ .\\intfuncs.jl:340 [inlined]",
      " [2] f(x::Vector{Int64})",
      "   @ Main .\\In[8]:2",
      " [3] top-level scope",
      "   @ In[12]:1"
     ]
    }
   ],
   "source": [
    "f(collection)     # no funciona poarque no se puede hacer el cuadrado de un array "
   ]
  },
  {
   "cell_type": "markdown",
   "id": "strong-tract",
   "metadata": {},
   "source": [
    "Veamos como `broadcast` es diferente a una invocacion normal"
   ]
  },
  {
   "cell_type": "code",
   "execution_count": 13,
   "id": "located-burden",
   "metadata": {},
   "outputs": [
    {
     "data": {
      "text/plain": [
       "3×3 Matrix{Float64}:\n",
       " 1.0  1.0  1.0\n",
       " 1.0  1.0  1.0\n",
       " 1.0  1.0  1.0"
      ]
     },
     "execution_count": 13,
     "metadata": {},
     "output_type": "execute_result"
    }
   ],
   "source": [
    "m = ones(3, 3)"
   ]
  },
  {
   "cell_type": "code",
   "execution_count": 14,
   "id": "moved-sucking",
   "metadata": {},
   "outputs": [
    {
     "data": {
      "text/plain": [
       "3×3 Matrix{Float64}:\n",
       " 3.0  3.0  3.0\n",
       " 3.0  3.0  3.0\n",
       " 3.0  3.0  3.0"
      ]
     },
     "execution_count": 14,
     "metadata": {},
     "output_type": "execute_result"
    }
   ],
   "source": [
    "f(m)      # esto es m^2, que es igual a m*m "
   ]
  },
  {
   "cell_type": "code",
   "execution_count": 15,
   "id": "mounted-accused",
   "metadata": {},
   "outputs": [
    {
     "data": {
      "text/plain": [
       "3×3 Matrix{Float64}:\n",
       " 1.0  1.0  1.0\n",
       " 1.0  1.0  1.0\n",
       " 1.0  1.0  1.0"
      ]
     },
     "execution_count": 15,
     "metadata": {},
     "output_type": "execute_result"
    }
   ],
   "source": [
    "f.(m)     # esto aplica x^2 a cada elemento por separado "
   ]
  },
  {
   "cell_type": "code",
   "execution_count": 16,
   "id": "desperate-copying",
   "metadata": {},
   "outputs": [
    {
     "data": {
      "text/plain": [
       "3×3 Matrix{Int64}:\n",
       " 1  2  3\n",
       " 4  5  6\n",
       " 7  8  9"
      ]
     },
     "execution_count": 16,
     "metadata": {},
     "output_type": "execute_result"
    }
   ],
   "source": [
    "A = [\n",
    "     [1 2 3]\n",
    "     [4 5 6]\n",
    "     [7 8 9]\n",
    "    ]"
   ]
  },
  {
   "cell_type": "code",
   "execution_count": 17,
   "id": "celtic-conditions",
   "metadata": {},
   "outputs": [
    {
     "data": {
      "text/plain": [
       "3×3 Matrix{Int64}:\n",
       " 2  3   4\n",
       " 5  6   7\n",
       " 8  9  10"
      ]
     },
     "execution_count": 17,
     "metadata": {},
     "output_type": "execute_result"
    }
   ],
   "source": [
    "A .+ 1     # aplica +1 a cada elemento por separado "
   ]
  },
  {
   "cell_type": "code",
   "execution_count": 18,
   "id": "recovered-badge",
   "metadata": {},
   "outputs": [
    {
     "data": {
      "text/plain": [
       "3×3 Matrix{Int64}:\n",
       "  2   4   6\n",
       "  8  10  12\n",
       " 14  16  18"
      ]
     },
     "execution_count": 18,
     "metadata": {},
     "output_type": "execute_result"
    }
   ],
   "source": [
    "A .* 2 "
   ]
  },
  {
   "cell_type": "code",
   "execution_count": 19,
   "id": "naked-inspiration",
   "metadata": {},
   "outputs": [
    {
     "data": {
      "text/plain": [
       "3×3 Matrix{Int64}:\n",
       "  2   4   6\n",
       "  8  10  12\n",
       " 14  16  18"
      ]
     },
     "execution_count": 19,
     "metadata": {},
     "output_type": "execute_result"
    }
   ],
   "source": [
    "# o incluso... \n",
    "2A   "
   ]
  },
  {
   "cell_type": "code",
   "execution_count": 20,
   "id": "fourth-portable",
   "metadata": {},
   "outputs": [
    {
     "data": {
      "text/plain": [
       "3×3 Matrix{Int64}:\n",
       "   4   16   36\n",
       "  64  100  144\n",
       " 196  256  324"
      ]
     },
     "execution_count": 20,
     "metadata": {},
     "output_type": "execute_result"
    }
   ],
   "source": [
    "f.(2A) # se puede escribir funciones muy similares a como se hace en matemáticas"
   ]
  },
  {
   "cell_type": "markdown",
   "id": "critical-saudi",
   "metadata": {},
   "source": [
    "### Broadcast para Matrices "
   ]
  },
  {
   "cell_type": "code",
   "execution_count": 21,
   "id": "funny-watson",
   "metadata": {},
   "outputs": [
    {
     "data": {
      "text/plain": [
       "2×3 Matrix{Int64}:\n",
       " 1  2  3\n",
       " 4  5  6"
      ]
     },
     "execution_count": 21,
     "metadata": {},
     "output_type": "execute_result"
    }
   ],
   "source": [
    "A = [\n",
    "    [1 2 3]\n",
    "    [4 5 6]\n",
    "    ]"
   ]
  },
  {
   "cell_type": "code",
   "execution_count": 22,
   "id": "chubby-adams",
   "metadata": {},
   "outputs": [
    {
     "ename": "LoadError",
     "evalue": "DimensionMismatch: matrix A has dimensions (2,3), matrix B has dimensions (1,3)",
     "output_type": "error",
     "traceback": [
      "DimensionMismatch: matrix A has dimensions (2,3), matrix B has dimensions (1,3)",
      "",
      "Stacktrace:",
      " [1] _generic_matmatmul!(C::Matrix{Int64}, tA::Char, tB::Char, A::Matrix{Int64}, B::Matrix{Int64}, _add::LinearAlgebra.MulAddMul{true, true, Bool, Bool})",
      "   @ LinearAlgebra C:\\julia184\\Julia-1.8.4\\share\\julia\\stdlib\\v1.8\\LinearAlgebra\\src\\matmul.jl:856",
      " [2] generic_matmatmul!(C::Matrix{Int64}, tA::Char, tB::Char, A::Matrix{Int64}, B::Matrix{Int64}, _add::LinearAlgebra.MulAddMul{true, true, Bool, Bool})",
      "   @ LinearAlgebra C:\\julia184\\Julia-1.8.4\\share\\julia\\stdlib\\v1.8\\LinearAlgebra\\src\\matmul.jl:844",
      " [3] mul!",
      "   @ C:\\julia184\\Julia-1.8.4\\share\\julia\\stdlib\\v1.8\\LinearAlgebra\\src\\matmul.jl:303 [inlined]",
      " [4] mul!",
      "   @ C:\\julia184\\Julia-1.8.4\\share\\julia\\stdlib\\v1.8\\LinearAlgebra\\src\\matmul.jl:276 [inlined]",
      " [5] *(A::Matrix{Int64}, B::Matrix{Int64})",
      "   @ LinearAlgebra C:\\julia184\\Julia-1.8.4\\share\\julia\\stdlib\\v1.8\\LinearAlgebra\\src\\matmul.jl:141",
      " [6] top-level scope",
      "   @ In[22]:2"
     ]
    }
   ],
   "source": [
    "# sin broadcasting \n",
    "A * [10 20 30]             # funciona si se transpone, pero es una operación diferente"
   ]
  },
  {
   "cell_type": "code",
   "execution_count": 23,
   "id": "olympic-caribbean",
   "metadata": {},
   "outputs": [],
   "source": [
    "A = [\n",
    "    [1  2  3]\n",
    "    [4  5  6]\n",
    "    ];"
   ]
  },
  {
   "cell_type": "code",
   "execution_count": 24,
   "id": "elder-office",
   "metadata": {},
   "outputs": [
    {
     "data": {
      "text/plain": [
       "2×3 Matrix{Int64}:\n",
       " 10   40   90\n",
       " 40  100  180"
      ]
     },
     "execution_count": 24,
     "metadata": {},
     "output_type": "execute_result"
    }
   ],
   "source": [
    "# con broadcasting \n",
    "\n",
    "A .* [10 20 30]          # vector linea se duplica por cada línea "
   ]
  },
  {
   "cell_type": "code",
   "execution_count": 25,
   "id": "excellent-clark",
   "metadata": {},
   "outputs": [
    {
     "data": {
      "text/plain": [
       "2×3 Matrix{Int64}:\n",
       " 10   20   30\n",
       " 80  100  120"
      ]
     },
     "execution_count": 25,
     "metadata": {},
     "output_type": "execute_result"
    }
   ],
   "source": [
    "A .* [10 20]'            # vector columna se duplica por cada columna"
   ]
  }
 ],
 "metadata": {
  "kernelspec": {
   "display_name": "Julia 1.8.4",
   "language": "julia",
   "name": "julia-1.8"
  },
  "language_info": {
   "file_extension": ".jl",
   "mimetype": "application/julia",
   "name": "julia",
   "version": "1.8.4"
  }
 },
 "nbformat": 4,
 "nbformat_minor": 5
}
