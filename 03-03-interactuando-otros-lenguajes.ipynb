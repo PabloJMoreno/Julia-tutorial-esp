{
 "cells": [
  {
   "cell_type": "markdown",
   "id": "isolated-issue",
   "metadata": {},
   "source": [
    "# Interactuando con otros lenguajes de programación "
   ]
  },
  {
   "cell_type": "markdown",
   "id": "bulgarian-feature",
   "metadata": {},
   "source": [
    "## Llamadas a Python Builtins y Custom Code"
   ]
  },
  {
   "cell_type": "markdown",
   "id": "settled-thanksgiving",
   "metadata": {},
   "source": [
    "Es necesario instalar los paquetes necesarios para abrir interfaz con Python. Usamos el comando **package mode** "
   ]
  },
  {
   "cell_type": "code",
   "execution_count": 1,
   "id": "macro-mentor",
   "metadata": {},
   "outputs": [
    {
     "name": "stderr",
     "output_type": "stream",
     "text": [
      "\u001b[32m\u001b[1m    Updating\u001b[22m\u001b[39m registry at `C:\\Users\\pmore\\.julia\\registries\\General.toml`\n",
      "\u001b[32m\u001b[1m   Resolving\u001b[22m\u001b[39m package versions...\n",
      "\u001b[32m\u001b[1m    Updating\u001b[22m\u001b[39m `C:\\Users\\pmore\\.julia\\environments\\v1.8\\Project.toml`\n",
      " \u001b[90m [438e738f] \u001b[39m\u001b[92m+ PyCall v1.94.1\u001b[39m\n",
      "\u001b[32m\u001b[1m  No Changes\u001b[22m\u001b[39m to `C:\\Users\\pmore\\.julia\\environments\\v1.8\\Manifest.toml`\n"
     ]
    }
   ],
   "source": [
    "] add PyCall # una vez instalado el paquete no es necesario volver a instalarlo. Para actualizarlo usar '] update xxxx'"
   ]
  },
  {
   "cell_type": "code",
   "execution_count": 2,
   "id": "sweet-perspective",
   "metadata": {},
   "outputs": [],
   "source": [
    "using PyCall"
   ]
  },
  {
   "cell_type": "code",
   "execution_count": 3,
   "id": "married-rehabilitation",
   "metadata": {},
   "outputs": [
    {
     "data": {
      "text/plain": [
       "0.7071067811865476"
      ]
     },
     "execution_count": 3,
     "metadata": {},
     "output_type": "execute_result"
    }
   ],
   "source": [
    "math = pyimport(\"math\")\n",
    "math.sin(math.pi / 4)"
   ]
  },
  {
   "cell_type": "code",
   "execution_count": 4,
   "id": "developed-revelation",
   "metadata": {},
   "outputs": [
    {
     "data": {
      "text/plain": [
       "6.0"
      ]
     },
     "execution_count": 4,
     "metadata": {},
     "output_type": "execute_result"
    }
   ],
   "source": [
    "math.sqrt(36)"
   ]
  },
  {
   "cell_type": "code",
   "execution_count": 5,
   "id": "informational-violin",
   "metadata": {},
   "outputs": [],
   "source": [
    "push!(pyimport(\"sys\")[\"path\"], pwd()); "
   ]
  },
  {
   "cell_type": "code",
   "execution_count": 6,
   "id": "virgin-syndicate",
   "metadata": {},
   "outputs": [
    {
     "data": {
      "text/plain": [
       "PyObject <module 'pyex' from 'C:\\\\Users\\\\pmore\\\\OneDrive\\\\Documents\\\\Julia\\\\all-resources\\\\notebooks\\\\pyex.py'>"
      ]
     },
     "execution_count": 6,
     "metadata": {},
     "output_type": "execute_result"
    }
   ],
   "source": [
    "pyex = pyimport(\"pyex\")"
   ]
  },
  {
   "cell_type": "code",
   "execution_count": 7,
   "id": "elementary-trustee",
   "metadata": {},
   "outputs": [
    {
     "data": {
      "text/plain": [
       "\"The square root of ... : 36 is 6.0\""
      ]
     },
     "execution_count": 7,
     "metadata": {},
     "output_type": "execute_result"
    }
   ],
   "source": [
    "pyex.sqrt(36)"
   ]
  },
  {
   "cell_type": "code",
   "execution_count": 8,
   "id": "immediate-viking",
   "metadata": {},
   "outputs": [
    {
     "data": {
      "text/plain": [
       "PyObject <module 'pyex' from 'C:\\\\Users\\\\pmore\\\\OneDrive\\\\Documents\\\\Julia\\\\all-resources\\\\notebooks\\\\pyex.py'>"
      ]
     },
     "execution_count": 8,
     "metadata": {},
     "output_type": "execute_result"
    }
   ],
   "source": [
    "pyimport(\"importlib\").\"reload\"(pyex) # si se cambia algo en el modulo de python, hay que volver a cargarlo"
   ]
  },
  {
   "cell_type": "code",
   "execution_count": 9,
   "id": "tested-walnut",
   "metadata": {},
   "outputs": [
    {
     "data": {
      "text/plain": [
       "\"The square root of ... : 36 is 6.0\""
      ]
     },
     "execution_count": 9,
     "metadata": {},
     "output_type": "execute_result"
    }
   ],
   "source": [
    "pyex.sqrt(36)"
   ]
  },
  {
   "cell_type": "markdown",
   "id": "empty-march",
   "metadata": {},
   "source": [
    "## Interfaz con R"
   ]
  },
  {
   "cell_type": "code",
   "execution_count": 10,
   "id": "related-welding",
   "metadata": {},
   "outputs": [
    {
     "name": "stderr",
     "output_type": "stream",
     "text": [
      "\u001b[32m\u001b[1m   Resolving\u001b[22m\u001b[39m package versions...\n",
      "\u001b[32m\u001b[1m   Installed\u001b[22m\u001b[39m StatsFuns ─────────────── v1.1.1\n",
      "\u001b[32m\u001b[1m   Installed\u001b[22m\u001b[39m WinReg ────────────────── v0.3.1\n",
      "\u001b[32m\u001b[1m   Installed\u001b[22m\u001b[39m DualNumbers ───────────── v0.6.8\n",
      "\u001b[32m\u001b[1m   Installed\u001b[22m\u001b[39m Rmath_jll ─────────────── v0.3.0+0\n",
      "\u001b[32m\u001b[1m   Installed\u001b[22m\u001b[39m Calculus ──────────────── v0.5.1\n",
      "\u001b[32m\u001b[1m   Installed\u001b[22m\u001b[39m HypergeometricFunctions ─ v0.3.11\n",
      "\u001b[32m\u001b[1m   Installed\u001b[22m\u001b[39m StatsModels ───────────── v0.6.33\n",
      "\u001b[32m\u001b[1m   Installed\u001b[22m\u001b[39m Rmath ─────────────────── v0.7.0\n",
      "\u001b[32m\u001b[1m   Installed\u001b[22m\u001b[39m RCall ─────────────────── v0.13.14\n",
      "\u001b[32m\u001b[1m   Installed\u001b[22m\u001b[39m ShiftedArrays ─────────── v2.0.0\n",
      "\u001b[32m\u001b[1m    Updating\u001b[22m\u001b[39m `C:\\Users\\pmore\\.julia\\environments\\v1.8\\Project.toml`\n",
      " \u001b[90m [6f49c342] \u001b[39m\u001b[92m+ RCall v0.13.14\u001b[39m\n",
      "\u001b[32m\u001b[1m    Updating\u001b[22m\u001b[39m `C:\\Users\\pmore\\.julia\\environments\\v1.8\\Manifest.toml`\n",
      " \u001b[90m [49dc2e85] \u001b[39m\u001b[92m+ Calculus v0.5.1\u001b[39m\n",
      " \u001b[90m [fa6b7ba4] \u001b[39m\u001b[92m+ DualNumbers v0.6.8\u001b[39m\n",
      " \u001b[90m [34004b35] \u001b[39m\u001b[92m+ HypergeometricFunctions v0.3.11\u001b[39m\n",
      " \u001b[90m [6f49c342] \u001b[39m\u001b[92m+ RCall v0.13.14\u001b[39m\n",
      " \u001b[90m [79098fc4] \u001b[39m\u001b[92m+ Rmath v0.7.0\u001b[39m\n",
      " \u001b[90m [1277b4bf] \u001b[39m\u001b[92m+ ShiftedArrays v2.0.0\u001b[39m\n",
      " \u001b[90m [4c63d2b9] \u001b[39m\u001b[92m+ StatsFuns v1.1.1\u001b[39m\n",
      " \u001b[90m [3eaba693] \u001b[39m\u001b[92m+ StatsModels v0.6.33\u001b[39m\n",
      " \u001b[90m [1b915085] \u001b[39m\u001b[92m+ WinReg v0.3.1\u001b[39m\n",
      " \u001b[90m [f50d1b31] \u001b[39m\u001b[92m+ Rmath_jll v0.3.0+0\u001b[39m\n",
      "\u001b[32m\u001b[1m    Building\u001b[22m\u001b[39m RCall → `C:\\Users\\pmore\\.julia\\scratchspaces\\44cfe95a-1eb2-52ea-b672-e2afdf69b78f\\2c0ffd39860c9a48259a0f57214ced2024ab63bc\\build.log`\n",
      "\u001b[32m\u001b[1mPrecompiling\u001b[22m\u001b[39m project...\n",
      "\u001b[32m  ✓ \u001b[39m\u001b[90mShiftedArrays\u001b[39m\n",
      "\u001b[32m  ✓ \u001b[39m\u001b[90mCalculus\u001b[39m\n",
      "\u001b[32m  ✓ \u001b[39m\u001b[90mRmath_jll\u001b[39m\n",
      "\u001b[32m  ✓ \u001b[39m\u001b[90mDualNumbers\u001b[39m\n",
      "\u001b[32m  ✓ \u001b[39m\u001b[90mRmath\u001b[39m\n",
      "\u001b[32m  ✓ \u001b[39m\u001b[90mHypergeometricFunctions\u001b[39m\n",
      "\u001b[32m  ✓ \u001b[39m\u001b[90mStatsFuns\u001b[39m\n",
      "\u001b[32m  ✓ \u001b[39m\u001b[90mStatsModels\u001b[39m\n",
      "\u001b[32m  ✓ \u001b[39mRCall\n",
      "  9 dependencies successfully precompiled in 12 seconds. 258 already precompiled.\n"
     ]
    }
   ],
   "source": [
    "] add RCall"
   ]
  },
  {
   "cell_type": "code",
   "execution_count": 11,
   "id": "metallic-shanghai",
   "metadata": {},
   "outputs": [],
   "source": [
    "using RCall"
   ]
  },
  {
   "cell_type": "code",
   "execution_count": 12,
   "id": "sufficient-sympathy",
   "metadata": {},
   "outputs": [
    {
     "data": {
      "text/plain": [
       "3×1 Matrix{Float64}:\n",
       " -0.14527400089842324\n",
       " -1.029940889615414\n",
       " -0.17281619476669244"
      ]
     },
     "execution_count": 12,
     "metadata": {},
     "output_type": "execute_result"
    }
   ],
   "source": [
    "X = randn(3,2)\n",
    "b = reshape([2.0, 3.0], 2,1)\n",
    "y = X * b + randn(3,1)"
   ]
  },
  {
   "cell_type": "code",
   "execution_count": 13,
   "id": "pediatric-youth",
   "metadata": {},
   "outputs": [
    {
     "data": {
      "text/plain": [
       "3×2 Matrix{Float64}:\n",
       "  0.396491    0.633015\n",
       "  0.0950858  -0.743811\n",
       " -0.342056    0.137701"
      ]
     },
     "execution_count": 13,
     "metadata": {},
     "output_type": "execute_result"
    }
   ],
   "source": [
    "X"
   ]
  },
  {
   "cell_type": "code",
   "execution_count": 14,
   "id": "responsible-passion",
   "metadata": {},
   "outputs": [
    {
     "data": {
      "text/plain": [
       "2×1 Matrix{Float64}:\n",
       " 2.0\n",
       " 3.0"
      ]
     },
     "execution_count": 14,
     "metadata": {},
     "output_type": "execute_result"
    }
   ],
   "source": [
    "b"
   ]
  },
  {
   "cell_type": "code",
   "execution_count": 15,
   "id": "acquired-picture",
   "metadata": {},
   "outputs": [
    {
     "data": {
      "text/plain": [
       "3×1 Matrix{Float64}:\n",
       " -0.14527400089842324\n",
       " -1.029940889615414\n",
       " -0.17281619476669244"
      ]
     },
     "execution_count": 15,
     "metadata": {},
     "output_type": "execute_result"
    }
   ],
   "source": [
    "y"
   ]
  },
  {
   "cell_type": "code",
   "execution_count": 16,
   "id": "stock-textbook",
   "metadata": {},
   "outputs": [
    {
     "data": {
      "text/plain": [
       "3×2 Matrix{Float64}:\n",
       "  0.396491    0.633015\n",
       "  0.0950858  -0.743811\n",
       " -0.342056    0.137701"
      ]
     },
     "execution_count": 16,
     "metadata": {},
     "output_type": "execute_result"
    }
   ],
   "source": [
    "@rput y\n",
    "@rput X"
   ]
  },
  {
   "cell_type": "code",
   "execution_count": 17,
   "id": "experienced-tucson",
   "metadata": {},
   "outputs": [
    {
     "data": {
      "text/plain": [
       "RObject{RealSxp}\n",
       "           [,1]\n",
       "[1,] -0.4358220\n",
       "[2,] -3.0898227\n",
       "[3,] -0.5184486\n"
      ]
     },
     "execution_count": 17,
     "metadata": {},
     "output_type": "execute_result"
    }
   ],
   "source": [
    "R\"z <- y * 3\"   "
   ]
  },
  {
   "cell_type": "code",
   "execution_count": 18,
   "id": "northern-night",
   "metadata": {},
   "outputs": [
    {
     "name": "stdout",
     "output_type": "stream",
     "text": [
      "z = [-0.4358220026952697; -3.0898226688462422; -0.5184485843000773;;]\n"
     ]
    },
    {
     "data": {
      "text/plain": [
       "3×1 Matrix{Float64}:\n",
       " -0.4358220026952697\n",
       " -3.0898226688462422\n",
       " -0.5184485843000773"
      ]
     },
     "execution_count": 18,
     "metadata": {},
     "output_type": "execute_result"
    }
   ],
   "source": [
    "@rget z\n",
    "@show z     "
   ]
  }
 ],
 "metadata": {
  "kernelspec": {
   "display_name": "Julia 1.8.4",
   "language": "julia",
   "name": "julia-1.8"
  },
  "language_info": {
   "file_extension": ".jl",
   "mimetype": "application/julia",
   "name": "julia",
   "version": "1.8.4"
  }
 },
 "nbformat": 4,
 "nbformat_minor": 5
}
