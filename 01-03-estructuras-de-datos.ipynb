{
 "cells": [
  {
   "cell_type": "markdown",
   "id": "appropriate-junction",
   "metadata": {},
   "source": [
    "# Estructuras de Datos"
   ]
  },
  {
   "cell_type": "markdown",
   "id": "younger-salad",
   "metadata": {},
   "source": [
    "## Lists / Arrays"
   ]
  },
  {
   "cell_type": "markdown",
   "id": "operating-employer",
   "metadata": {},
   "source": [
    "Las **lists** son mutables, colecciones ordenadas de objetos que se denominan **Array** en Julia."
   ]
  },
  {
   "cell_type": "code",
   "execution_count": 1,
   "id": "unnecessary-proportion",
   "metadata": {},
   "outputs": [
    {
     "data": {
      "text/plain": [
       "4-element Vector{Int64}:\n",
       " 1\n",
       " 2\n",
       " 4\n",
       " 5"
      ]
     },
     "execution_count": 1,
     "metadata": {},
     "output_type": "execute_result"
    }
   ],
   "source": [
    "collection = [1, 2, 4, 5] "
   ]
  },
  {
   "cell_type": "code",
   "execution_count": 2,
   "id": "numerical-copyright",
   "metadata": {},
   "outputs": [
    {
     "data": {
      "text/plain": [
       "4-element Vector{Float64}:\n",
       " 1.0\n",
       " 2.0\n",
       " 4.0\n",
       " 5.0"
      ]
     },
     "execution_count": 2,
     "metadata": {},
     "output_type": "execute_result"
    }
   ],
   "source": [
    "collection = [1, 2, 4, 5.0]    # observa el tipo de datos"
   ]
  },
  {
   "cell_type": "code",
   "execution_count": 3,
   "id": "persistent-suspect",
   "metadata": {},
   "outputs": [
    {
     "data": {
      "text/plain": [
       "5-element Vector{Float64}:\n",
       " 1.0\n",
       " 2.0\n",
       " 4.0\n",
       " 1.6666666666666667\n",
       " 5.7"
      ]
     },
     "execution_count": 3,
     "metadata": {},
     "output_type": "execute_result"
    }
   ],
   "source": [
    "collection = [1, 2, 4, 5//3, 5.7]  # rationales o fracciones se transforman en floats "
   ]
  },
  {
   "cell_type": "code",
   "execution_count": 4,
   "id": "balanced-third",
   "metadata": {},
   "outputs": [
    {
     "data": {
      "text/plain": [
       "4-element Vector{Any}:\n",
       " 1\n",
       " 2\n",
       " 4\n",
       "  \"5\""
      ]
     },
     "execution_count": 4,
     "metadata": {},
     "output_type": "execute_result"
    }
   ],
   "source": [
    "collection = [1, 2, 4, \"5\"]   "
   ]
  },
  {
   "cell_type": "code",
   "execution_count": 5,
   "id": "sized-trial",
   "metadata": {},
   "outputs": [
    {
     "data": {
      "text/plain": [
       "4-element Vector{Int64}:\n",
       " 1\n",
       " 2\n",
       " 4\n",
       " 5"
      ]
     },
     "execution_count": 5,
     "metadata": {},
     "output_type": "execute_result"
    }
   ],
   "source": [
    "collection = [1, 2, 4, 5]"
   ]
  },
  {
   "cell_type": "code",
   "execution_count": 6,
   "id": "rapid-broadway",
   "metadata": {},
   "outputs": [
    {
     "data": {
      "text/plain": [
       "5-element Vector{Int64}:\n",
       "  1\n",
       "  2\n",
       "  4\n",
       "  5\n",
       " 60"
      ]
     },
     "execution_count": 6,
     "metadata": {},
     "output_type": "execute_result"
    }
   ],
   "source": [
    "append!(collection, 60)     # functiones con (!) mutan el objeto"
   ]
  },
  {
   "cell_type": "code",
   "execution_count": 7,
   "id": "embedded-bracelet",
   "metadata": {},
   "outputs": [
    {
     "data": {
      "text/plain": [
       "5-element Vector{Int64}:\n",
       "  1\n",
       "  2\n",
       "  4\n",
       "  5\n",
       " 60"
      ]
     },
     "execution_count": 7,
     "metadata": {},
     "output_type": "execute_result"
    }
   ],
   "source": [
    "collection"
   ]
  },
  {
   "cell_type": "code",
   "execution_count": 8,
   "id": "decimal-blues",
   "metadata": {},
   "outputs": [
    {
     "data": {
      "text/plain": [
       "4-element Vector{Int64}:\n",
       " 1\n",
       " 2\n",
       " 4\n",
       " 5"
      ]
     },
     "execution_count": 8,
     "metadata": {},
     "output_type": "execute_result"
    }
   ],
   "source": [
    "collection = [1, 2, 4, 5]"
   ]
  },
  {
   "cell_type": "code",
   "execution_count": 9,
   "id": "split-complex",
   "metadata": {},
   "outputs": [
    {
     "ename": "LoadError",
     "evalue": "BoundsError: attempt to access 4-element Vector{Int64} at index [0]",
     "output_type": "error",
     "traceback": [
      "BoundsError: attempt to access 4-element Vector{Int64} at index [0]",
      "",
      "Stacktrace:",
      " [1] getindex(A::Vector{Int64}, i1::Int64)",
      "   @ Base .\\array.jl:924",
      " [2] top-level scope",
      "   @ In[9]:1"
     ]
    }
   ],
   "source": [
    "collection[0]      # !! Importante! "
   ]
  },
  {
   "cell_type": "code",
   "execution_count": 10,
   "id": "premium-company",
   "metadata": {},
   "outputs": [
    {
     "data": {
      "text/plain": [
       "1"
      ]
     },
     "execution_count": 10,
     "metadata": {},
     "output_type": "execute_result"
    }
   ],
   "source": [
    "collection[1]      # Julia usa indice '1-based' no como Python que usa el '0-based' ... "
   ]
  },
  {
   "cell_type": "code",
   "execution_count": 11,
   "id": "empirical-calvin",
   "metadata": {},
   "outputs": [
    {
     "data": {
      "text/plain": [
       "9-element Vector{Int64}:\n",
       " 10\n",
       " 20\n",
       " 30\n",
       " 40\n",
       " 50\n",
       " 60\n",
       " 70\n",
       " 80\n",
       " 90"
      ]
     },
     "execution_count": 11,
     "metadata": {},
     "output_type": "execute_result"
    }
   ],
   "source": [
    "collection = [10, 20, 30, 40, 50, 60, 70, 80, 90]"
   ]
  },
  {
   "cell_type": "code",
   "execution_count": 12,
   "id": "extensive-tanzania",
   "metadata": {},
   "outputs": [
    {
     "data": {
      "text/plain": [
       "5-element Vector{Int64}:\n",
       " 10\n",
       " 20\n",
       " 30\n",
       " 40\n",
       " 50"
      ]
     },
     "execution_count": 12,
     "metadata": {},
     "output_type": "execute_result"
    }
   ],
   "source": [
    "collection[1:5]   # no es lo mismo que python! Se incluyen ambos extremos"
   ]
  },
  {
   "cell_type": "code",
   "execution_count": 13,
   "id": "fifth-industry",
   "metadata": {},
   "outputs": [
    {
     "data": {
      "text/plain": [
       "5-element Vector{Int64}:\n",
       " 50\n",
       " 60\n",
       " 70\n",
       " 80\n",
       " 90"
      ]
     },
     "execution_count": 13,
     "metadata": {},
     "output_type": "execute_result"
    }
   ],
   "source": [
    "collection[5:end]   # no funciona si se omite el `end` "
   ]
  },
  {
   "cell_type": "code",
   "execution_count": 14,
   "id": "signed-advantage",
   "metadata": {},
   "outputs": [
    {
     "data": {
      "text/plain": [
       "9-element Vector{Int64}:\n",
       " 10\n",
       " 20\n",
       " 30\n",
       " 40\n",
       " 50\n",
       " 60\n",
       " 70\n",
       " 80\n",
       " 90"
      ]
     },
     "execution_count": 14,
     "metadata": {},
     "output_type": "execute_result"
    }
   ],
   "source": [
    "collection[:]       # pero esto si funciona (crea una copia )"
   ]
  },
  {
   "cell_type": "code",
   "execution_count": 15,
   "id": "verbal-castle",
   "metadata": {},
   "outputs": [
    {
     "data": {
      "text/plain": [
       "40"
      ]
     },
     "execution_count": 15,
     "metadata": {},
     "output_type": "execute_result"
    }
   ],
   "source": [
    "collection[:4]     # esto es diferente! solo es el indice 4  "
   ]
  },
  {
   "cell_type": "code",
   "execution_count": 17,
   "id": "otherwise-merchant",
   "metadata": {},
   "outputs": [
    {
     "data": {
      "text/plain": [
       "4-element Vector{Int64}:\n",
       " 10\n",
       " 20\n",
       " 30\n",
       " 40"
      ]
     },
     "execution_count": 17,
     "metadata": {},
     "output_type": "execute_result"
    }
   ],
   "source": [
    "collection[1:4] # los extremos deben ser explícitamente invocados"
   ]
  },
  {
   "cell_type": "code",
   "execution_count": 18,
   "id": "dense-analysis",
   "metadata": {},
   "outputs": [
    {
     "ename": "LoadError",
     "evalue": "BoundsError: attempt to access 9-element Vector{Int64} at index [-1]",
     "output_type": "error",
     "traceback": [
      "BoundsError: attempt to access 9-element Vector{Int64} at index [-1]",
      "",
      "Stacktrace:",
      " [1] getindex(A::Vector{Int64}, i1::Int64)",
      "   @ Base .\\array.jl:924",
      " [2] top-level scope",
      "   @ In[18]:1"
     ]
    }
   ],
   "source": [
    "collection[-1]     # tampoco funciona"
   ]
  },
  {
   "cell_type": "code",
   "execution_count": 19,
   "id": "terminal-diagram",
   "metadata": {},
   "outputs": [
    {
     "data": {
      "text/plain": [
       "80"
      ]
     },
     "execution_count": 19,
     "metadata": {},
     "output_type": "execute_result"
    }
   ],
   "source": [
    "collection[end-1]  # de nuevo, diferente a python! "
   ]
  },
  {
   "cell_type": "markdown",
   "id": "assigned-blast",
   "metadata": {},
   "source": [
    "Todo esto es sencillo y se comprende fácil. Veamos algunas transformaciones y métodos "
   ]
  },
  {
   "cell_type": "markdown",
   "id": "lightweight-outline",
   "metadata": {},
   "source": [
    "### Mutation"
   ]
  },
  {
   "cell_type": "code",
   "execution_count": 20,
   "id": "republican-wrong",
   "metadata": {},
   "outputs": [
    {
     "data": {
      "text/plain": [
       "99"
      ]
     },
     "execution_count": 20,
     "metadata": {},
     "output_type": "execute_result"
    }
   ],
   "source": [
    "collection[1] = 99"
   ]
  },
  {
   "cell_type": "code",
   "execution_count": 21,
   "id": "surprised-fortune",
   "metadata": {},
   "outputs": [
    {
     "name": "stdout",
     "output_type": "stream",
     "text": [
      "collection = [99, 20, 30, 40, 50, 60, 70, 80, 90]\n"
     ]
    }
   ],
   "source": [
    "@show collection;       # necesitaremos esta macro show   "
   ]
  },
  {
   "cell_type": "code",
   "execution_count": 22,
   "id": "brilliant-freeze",
   "metadata": {},
   "outputs": [
    {
     "data": {
      "text/plain": [
       "9-element Vector{Int64}:\n",
       " 99\n",
       " 20\n",
       " 30\n",
       " 40\n",
       " 50\n",
       " 60\n",
       " 70\n",
       " 80\n",
       " 90"
      ]
     },
     "execution_count": 22,
     "metadata": {},
     "output_type": "execute_result"
    }
   ],
   "source": [
    "copy_of_collection = collection "
   ]
  },
  {
   "cell_type": "code",
   "execution_count": 23,
   "id": "distributed-joshua",
   "metadata": {},
   "outputs": [
    {
     "data": {
      "text/plain": [
       "9-element Vector{Int64}:\n",
       " 100\n",
       "  20\n",
       "  30\n",
       "  40\n",
       "  50\n",
       "  60\n",
       "  70\n",
       "  80\n",
       "  90"
      ]
     },
     "execution_count": 23,
     "metadata": {},
     "output_type": "execute_result"
    }
   ],
   "source": [
    "copy_of_collection[1] = 100 \n",
    "copy_of_collection"
   ]
  },
  {
   "cell_type": "code",
   "execution_count": 26,
   "id": "collect-essex",
   "metadata": {},
   "outputs": [
    {
     "data": {
      "text/plain": [
       "9-element Vector{Int64}:\n",
       " 100\n",
       "  20\n",
       "  30\n",
       "  40\n",
       "  50\n",
       "  60\n",
       "  70\n",
       "  80\n",
       "  90"
      ]
     },
     "execution_count": 26,
     "metadata": {},
     "output_type": "execute_result"
    }
   ],
   "source": [
    "collection # el cambio es bi-direccional"
   ]
  },
  {
   "cell_type": "code",
   "execution_count": 27,
   "id": "dated-serve",
   "metadata": {},
   "outputs": [
    {
     "data": {
      "text/plain": [
       "9-element Vector{Int64}:\n",
       " 100\n",
       "  20\n",
       "  30\n",
       "  40\n",
       "  50\n",
       "  60\n",
       "  70\n",
       "  80\n",
       "  90"
      ]
     },
     "execution_count": 27,
     "metadata": {},
     "output_type": "execute_result"
    }
   ],
   "source": [
    "second_copy = copy(collection) # se usa copy() para crear un nuevo objeto que no mute el original"
   ]
  },
  {
   "cell_type": "code",
   "execution_count": 28,
   "id": "demanding-camel",
   "metadata": {},
   "outputs": [
    {
     "name": "stdout",
     "output_type": "stream",
     "text": [
      "second_copy = [9999, 20, 30, 40, 50, 60, 70, 80, 90]\n",
      "collection = [100, 20, 30, 40, 50, 60, 70, 80, 90]\n",
      "copy_of_collection = [100, 20, 30, 40, 50, 60, 70, 80, 90]\n"
     ]
    }
   ],
   "source": [
    "second_copy[1] = 9999           \n",
    "@show second_copy          \n",
    "@show collection\n",
    "@show copy_of_collection;"
   ]
  },
  {
   "cell_type": "markdown",
   "id": "reduced-repair",
   "metadata": {},
   "source": [
    "## Tuples "
   ]
  },
  {
   "cell_type": "markdown",
   "id": "hundred-friendly",
   "metadata": {},
   "source": [
    "Igual a los **Arrays** pero inmutable."
   ]
  },
  {
   "cell_type": "code",
   "execution_count": 29,
   "id": "neural-ontario",
   "metadata": {},
   "outputs": [
    {
     "data": {
      "text/plain": [
       "(1, 2, 4)"
      ]
     },
     "execution_count": 29,
     "metadata": {},
     "output_type": "execute_result"
    }
   ],
   "source": [
    "collection = (1, 2, 4) "
   ]
  },
  {
   "cell_type": "code",
   "execution_count": 30,
   "id": "processed-vehicle",
   "metadata": {},
   "outputs": [
    {
     "data": {
      "text/plain": [
       "(\"julia\", \"python\", \"c\", \"java\")"
      ]
     },
     "execution_count": 30,
     "metadata": {},
     "output_type": "execute_result"
    }
   ],
   "source": [
    "languages = (\"julia\", \"python\", \"c\", \"java\")"
   ]
  },
  {
   "cell_type": "code",
   "execution_count": 32,
   "id": "lucky-customer",
   "metadata": {},
   "outputs": [
    {
     "data": {
      "text/plain": [
       "\"julia\""
      ]
     },
     "execution_count": 32,
     "metadata": {},
     "output_type": "execute_result"
    }
   ],
   "source": [
    "languages[1] # recuerda, '1-based' index"
   ]
  },
  {
   "cell_type": "code",
   "execution_count": 34,
   "id": "blessed-mechanics",
   "metadata": {},
   "outputs": [
    {
     "ename": "LoadError",
     "evalue": "MethodError: no method matching setindex!(::NTuple{4, String}, ::String, ::Int64)",
     "output_type": "error",
     "traceback": [
      "MethodError: no method matching setindex!(::NTuple{4, String}, ::String, ::Int64)",
      "",
      "Stacktrace:",
      " [1] top-level scope",
      "   @ In[34]:1"
     ]
    }
   ],
   "source": [
    "languages[1] = \"Go\" # no se puede mutar o cambiar un 'tuple'"
   ]
  },
  {
   "cell_type": "code",
   "execution_count": 35,
   "id": "extra-reduction",
   "metadata": {},
   "outputs": [
    {
     "data": {
      "text/plain": [
       "(\"julia\", \"python\", \"c\", \"java\")"
      ]
     },
     "execution_count": 35,
     "metadata": {},
     "output_type": "execute_result"
    }
   ],
   "source": [
    "languages"
   ]
  },
  {
   "cell_type": "markdown",
   "id": "welcome-forwarding",
   "metadata": {},
   "source": [
    "### Named Tuples "
   ]
  },
  {
   "cell_type": "code",
   "execution_count": 37,
   "id": "conventional-friendly",
   "metadata": {},
   "outputs": [
    {
     "data": {
      "text/plain": [
       "(language = \"julia\", ide = \"pluto\", explorer = \"perseverence\")"
      ]
     },
     "execution_count": 37,
     "metadata": {},
     "output_type": "execute_result"
    }
   ],
   "source": [
    "tools = (language =\"julia\", ide=\"pluto\", explorer=\"perseverence\") # similar a un diccionario"
   ]
  },
  {
   "cell_type": "code",
   "execution_count": 38,
   "id": "boring-lloyd",
   "metadata": {},
   "outputs": [
    {
     "data": {
      "text/plain": [
       "\"julia\""
      ]
     },
     "execution_count": 38,
     "metadata": {},
     "output_type": "execute_result"
    }
   ],
   "source": [
    "tools[1]"
   ]
  },
  {
   "cell_type": "code",
   "execution_count": 39,
   "id": "excessive-stadium",
   "metadata": {},
   "outputs": [
    {
     "data": {
      "text/plain": [
       "\"julia\""
      ]
     },
     "execution_count": 39,
     "metadata": {},
     "output_type": "execute_result"
    }
   ],
   "source": [
    "tools.language "
   ]
  },
  {
   "cell_type": "markdown",
   "id": "remarkable-accreditation",
   "metadata": {},
   "source": [
    "## Diccionarios "
   ]
  },
  {
   "cell_type": "code",
   "execution_count": 41,
   "id": "operating-litigation",
   "metadata": {},
   "outputs": [
    {
     "data": {
      "text/plain": [
       "Dict{String, String} with 2 entries:\n",
       "  \"language\" => \"julia\"\n",
       "  \"ide\"      => \"pluto\""
      ]
     },
     "execution_count": 41,
     "metadata": {},
     "output_type": "execute_result"
    }
   ],
   "source": [
    "d = Dict(\"language\" =>  \"julia\", \"ide\"  => \"pluto\") # no se usa ':', se usa el '=>'"
   ]
  },
  {
   "cell_type": "code",
   "execution_count": 42,
   "id": "entire-mailman",
   "metadata": {},
   "outputs": [
    {
     "data": {
      "text/plain": [
       "\"julia\""
      ]
     },
     "execution_count": 42,
     "metadata": {},
     "output_type": "execute_result"
    }
   ],
   "source": [
    "d[\"language\"]"
   ]
  },
  {
   "cell_type": "code",
   "execution_count": 43,
   "id": "collect-sleep",
   "metadata": {},
   "outputs": [
    {
     "ename": "LoadError",
     "evalue": "type Dict has no field language",
     "output_type": "error",
     "traceback": [
      "type Dict has no field language",
      "",
      "Stacktrace:",
      " [1] getproperty(x::Dict{String, String}, f::Symbol)",
      "   @ Base .\\Base.jl:38",
      " [2] top-level scope",
      "   @ In[43]:1"
     ]
    }
   ],
   "source": [
    "d.language   # esto no funciona"
   ]
  },
  {
   "cell_type": "code",
   "execution_count": 44,
   "id": "short-dylan",
   "metadata": {},
   "outputs": [
    {
     "data": {
      "text/plain": [
       "\"perseverence\""
      ]
     },
     "execution_count": 44,
     "metadata": {},
     "output_type": "execute_result"
    }
   ],
   "source": [
    "d[\"explorer\"] = \"perseverence\""
   ]
  },
  {
   "cell_type": "code",
   "execution_count": 45,
   "id": "horizontal-notebook",
   "metadata": {},
   "outputs": [
    {
     "name": "stdout",
     "output_type": "stream",
     "text": [
      "d = Dict(\"explorer\" => \"perseverence\", \"language\" => \"julia\", \"ide\" => \"pluto\")\n"
     ]
    }
   ],
   "source": [
    "@show d;"
   ]
  },
  {
   "cell_type": "code",
   "execution_count": 46,
   "id": "hybrid-representation",
   "metadata": {},
   "outputs": [
    {
     "data": {
      "text/plain": [
       "\"explorer\" => \"perseverence\""
      ]
     },
     "execution_count": 46,
     "metadata": {},
     "output_type": "execute_result"
    }
   ],
   "source": [
    "pop!(d)      # la funcion '!' muta el objeto (por convención)"
   ]
  },
  {
   "cell_type": "code",
   "execution_count": 47,
   "id": "italic-customer",
   "metadata": {},
   "outputs": [
    {
     "name": "stdout",
     "output_type": "stream",
     "text": [
      "d = Dict(\"language\" => \"julia\", \"ide\" => \"pluto\")\n"
     ]
    }
   ],
   "source": [
    "@show d;"
   ]
  },
  {
   "cell_type": "code",
   "execution_count": 48,
   "id": "domestic-table",
   "metadata": {},
   "outputs": [
    {
     "data": {
      "text/plain": [
       "Dict{String, String} with 2 entries:\n",
       "  \"language\" => \"java\"\n",
       "  \"os\"       => \"arch\""
      ]
     },
     "execution_count": 48,
     "metadata": {},
     "output_type": "execute_result"
    }
   ],
   "source": [
    "# podemos hacer un 'merge' de 2 diccionarios\n",
    "e = Dict(\"os\" => \"arch\", \"language\" => \"java\")"
   ]
  },
  {
   "cell_type": "code",
   "execution_count": 49,
   "id": "infrared-metadata",
   "metadata": {},
   "outputs": [
    {
     "data": {
      "text/plain": [
       "Dict{String, String} with 3 entries:\n",
       "  \"language\" => \"java\"\n",
       "  \"ide\"      => \"pluto\"\n",
       "  \"os\"       => \"arch\""
      ]
     },
     "execution_count": 49,
     "metadata": {},
     "output_type": "execute_result"
    }
   ],
   "source": [
    "merge!(d, e)      # claves duplicadas en e son sobre-escritas en d"
   ]
  },
  {
   "cell_type": "code",
   "execution_count": 50,
   "id": "ecological-complement",
   "metadata": {},
   "outputs": [
    {
     "name": "stdout",
     "output_type": "stream",
     "text": [
      "d = Dict(\"language\" => \"java\", \"ide\" => \"pluto\", \"os\" => \"arch\")\n",
      "e = Dict(\"language\" => \"java\", \"os\" => \"arch\")\n"
     ]
    }
   ],
   "source": [
    "@show d;\n",
    "@show e;"
   ]
  },
  {
   "cell_type": "code",
   "execution_count": 51,
   "id": "transparent-tiger",
   "metadata": {},
   "outputs": [
    {
     "name": "stdout",
     "output_type": "stream",
     "text": [
      "key=language  \t  val=java\n",
      "key=ide  \t  val=pluto\n",
      "key=os  \t  val=arch\n"
     ]
    }
   ],
   "source": [
    "for (k, v) in d           # necesitamos parentesis\n",
    "    println(\"key=$k  \\t  val=$v\")\n",
    "end "
   ]
  },
  {
   "cell_type": "markdown",
   "id": "configured-budapest",
   "metadata": {},
   "source": [
    "### Simbolos como Keys"
   ]
  },
  {
   "cell_type": "code",
   "execution_count": 52,
   "id": "remarkable-thesaurus",
   "metadata": {},
   "outputs": [
    {
     "data": {
      "text/plain": [
       "Dict{Symbol, String} with 2 entries:\n",
       "  :lang => \"julia\"\n",
       "  :ide  => \"pluto\""
      ]
     },
     "execution_count": 52,
     "metadata": {},
     "output_type": "execute_result"
    }
   ],
   "source": [
    "simple = Dict(:lang => \"julia\", \n",
    "          :ide => \"pluto\")"
   ]
  },
  {
   "cell_type": "code",
   "execution_count": 53,
   "id": "romantic-decline",
   "metadata": {},
   "outputs": [
    {
     "data": {
      "text/plain": [
       "\"julia\""
      ]
     },
     "execution_count": 53,
     "metadata": {},
     "output_type": "execute_result"
    }
   ],
   "source": [
    "simple[:lang]     # esto es más rápido y eficiente"
   ]
  },
  {
   "cell_type": "code",
   "execution_count": 54,
   "id": "incorrect-sunday",
   "metadata": {},
   "outputs": [
    {
     "name": "stdout",
     "output_type": "stream",
     "text": [
      "lang\n",
      "ide\n"
     ]
    }
   ],
   "source": [
    "for (k, v) in simple  \n",
    "    println(k)\n",
    "end"
   ]
  },
  {
   "cell_type": "code",
   "execution_count": null,
   "id": "beautiful-jacksonville",
   "metadata": {},
   "outputs": [],
   "source": []
  }
 ],
 "metadata": {
  "kernelspec": {
   "display_name": "Julia 1.8.4",
   "language": "julia",
   "name": "julia-1.8"
  },
  "language_info": {
   "file_extension": ".jl",
   "mimetype": "application/julia",
   "name": "julia",
   "version": "1.8.4"
  }
 },
 "nbformat": 4,
 "nbformat_minor": 5
}
